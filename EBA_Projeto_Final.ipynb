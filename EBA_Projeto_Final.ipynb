{
  "nbformat": 4,
  "nbformat_minor": 0,
  "metadata": {
    "colab": {
      "provenance": [],
      "collapsed_sections": [
        "8DW_2W2KLc9w",
        "pocdnV3gMLc8"
      ],
      "mount_file_id": "1EppG2KB7CMDq-KU02HaLxGpbQ_Qx6qtQ",
      "authorship_tag": "ABX9TyMXPyOyMaGg+4n2kSoo42UH",
      "include_colab_link": true
    },
    "kernelspec": {
      "name": "python3",
      "display_name": "Python 3"
    },
    "language_info": {
      "name": "python"
    }
  },
  "cells": [
    {
      "cell_type": "markdown",
      "metadata": {
        "id": "view-in-github",
        "colab_type": "text"
      },
      "source": [
        "<a href=\"https://colab.research.google.com/github/alearauj/EBA-Estatistica-do-Basico-ao-Avancado/blob/main/EBA_Projeto_Final.ipynb\" target=\"_parent\"><img src=\"https://colab.research.google.com/assets/colab-badge.svg\" alt=\"Open In Colab\"/></a>"
      ]
    },
    {
      "cell_type": "markdown",
      "source": [
        "###**Projeto Final do curso EBA - Estatística do Básico ao Avançado**"
      ],
      "metadata": {
        "id": "BHni0GfqG0Px"
      }
    },
    {
      "cell_type": "markdown",
      "source": [
        "O desafio proposto trata sobre o transtorno depressivo, um problema multifatorial que pode ter várias possíveis combinações de situações como causa.\n",
        "\n",
        "Perguntas a serem respondidas:\n",
        "\n",
        "\n",
        "1.   Qual o perﬁl de indivíduos (adultos maiores de 18 anos) com  sintomas depressivos nos EUA no período de 2005-2006?\n",
        "2.   Hábitos saudáveis de alimentação e atividade física estão\n",
        "associados a menores índices de depressão nesta população?\n",
        "\n",
        "Clique aqui para encontrar o dicionário dos dados: https://drive.google.com/drive/folders/1PkFbW6HT60JNnjL-tC0a9HXC563KHyuM"
      ],
      "metadata": {
        "id": "Tv73S09TKXFl"
      }
    },
    {
      "cell_type": "markdown",
      "source": [
        "###**Preparando o ambiente**"
      ],
      "metadata": {
        "id": "HwoYjfp0NPgu"
      }
    },
    {
      "cell_type": "markdown",
      "source": [
        "**Importando todas as bibliotecas necessárias**"
      ],
      "metadata": {
        "id": "WtMbwRncNTZ2"
      }
    },
    {
      "cell_type": "code",
      "source": [
        "import pandas as pd\n",
        "import numpy as np\n",
        "import matplotlib.pyplot as plt\n",
        "import seaborn as sns"
      ],
      "metadata": {
        "id": "9hqUi7iKHGEJ"
      },
      "execution_count": 1,
      "outputs": []
    },
    {
      "cell_type": "markdown",
      "source": [
        "**Liberando acesso ao drive**"
      ],
      "metadata": {
        "id": "RT7hPOXPNYIO"
      }
    },
    {
      "cell_type": "code",
      "source": [
        "from google.colab import drive\n",
        "drive.mount('/content/drive')"
      ],
      "metadata": {
        "colab": {
          "base_uri": "https://localhost:8080/"
        },
        "id": "QuB8D0g3I34K",
        "outputId": "df86d54d-0975-4ea9-bd02-863dc02ac02a"
      },
      "execution_count": 2,
      "outputs": [
        {
          "output_type": "stream",
          "name": "stdout",
          "text": [
            "Drive already mounted at /content/drive; to attempt to forcibly remount, call drive.mount(\"/content/drive\", force_remount=True).\n"
          ]
        }
      ]
    },
    {
      "cell_type": "markdown",
      "source": [
        "###**Carregando o dataset**"
      ],
      "metadata": {
        "id": "pocdnV3gMLc8"
      }
    },
    {
      "cell_type": "markdown",
      "source": [
        "**Importando os datasets**"
      ],
      "metadata": {
        "id": "GGhuvwcmM0FJ"
      }
    },
    {
      "cell_type": "code",
      "source": [
        "df1 = pd.read_csv(\"//content/drive/MyDrive/Cursos/Renata Biaggi - Estatística do básico ao avançado/Projeto Final - Teste de Hipótese/DEMO_PHQ.csv\", encoding = \"UTF-8\")"
      ],
      "metadata": {
        "id": "R37pNeNEJW7f"
      },
      "execution_count": 3,
      "outputs": []
    },
    {
      "cell_type": "code",
      "source": [
        "df2 = pd.read_csv(\"/content/drive/MyDrive/Cursos/Renata Biaggi - Estatística do básico ao avançado/Projeto Final - Teste de Hipótese/PAG_HEI.csv\", encoding = \"UTF-8\")"
      ],
      "metadata": {
        "id": "A5SqJ18cKYrh"
      },
      "execution_count": 4,
      "outputs": []
    },
    {
      "cell_type": "code",
      "source": [
        "#Unindo os arquivos\n",
        "df = pd.merge(df1, df2, on='SEQN', how='left')"
      ],
      "metadata": {
        "id": "636i-f9pMWs8"
      },
      "execution_count": 5,
      "outputs": []
    },
    {
      "cell_type": "markdown",
      "source": [
        "###**Conhecendo os dados**\n"
      ],
      "metadata": {
        "id": "vM_6114nOGxM"
      }
    },
    {
      "cell_type": "markdown",
      "source": [
        "**Checar tamanho do arquivo**"
      ],
      "metadata": {
        "id": "TXmcHNukMt8t"
      }
    },
    {
      "cell_type": "code",
      "source": [
        "df.shape"
      ],
      "metadata": {
        "colab": {
          "base_uri": "https://localhost:8080/"
        },
        "id": "SNvJRpWK65KC",
        "outputId": "aebe812a-c0a0-47e0-a364-51c6a9e66029"
      },
      "execution_count": 6,
      "outputs": [
        {
          "output_type": "execute_result",
          "data": {
            "text/plain": [
              "(5334, 31)"
            ]
          },
          "metadata": {},
          "execution_count": 6
        }
      ]
    },
    {
      "cell_type": "markdown",
      "source": [
        "**Conhecer o dataset**"
      ],
      "metadata": {
        "id": "31AcLkDcNDLa"
      }
    },
    {
      "cell_type": "code",
      "source": [
        "df.head(10)"
      ],
      "metadata": {
        "colab": {
          "base_uri": "https://localhost:8080/",
          "height": 412
        },
        "id": "wmtbWLbfOMz0",
        "outputId": "728fe5d4-3aeb-43fe-c596-a6632a61454b"
      },
      "execution_count": 7,
      "outputs": [
        {
          "output_type": "execute_result",
          "data": {
            "text/plain": [
              "    SEQN  DPQ010  DPQ020  DPQ030  DPQ040  DPQ050  DPQ060  DPQ070  DPQ080  \\\n",
              "0  31130     NaN     NaN     NaN     NaN     NaN     NaN     NaN     NaN   \n",
              "1  31131     0.0     0.0     0.0     0.0     0.0     0.0     0.0     0.0   \n",
              "2  31132     0.0     0.0     0.0     0.0     0.0     0.0     0.0     0.0   \n",
              "3  31134     0.0     0.0     0.0     0.0     0.0     0.0     0.0     0.0   \n",
              "4  31139     0.0     0.0     0.0     0.0     3.0     1.0     0.0     0.0   \n",
              "5  31143     0.0     1.0     1.0     1.0     1.0     1.0     1.0     0.0   \n",
              "6  31144     0.0     0.0     0.0     0.0     0.0     0.0     0.0     0.0   \n",
              "7  31149     0.0     0.0     0.0     0.0     0.0     0.0     0.0     0.0   \n",
              "8  31150     1.0     0.0     0.0     0.0     0.0     0.0     0.0     0.0   \n",
              "9  31151     0.0     0.0     1.0     1.0     0.0     0.0     1.0     0.0   \n",
              "\n",
              "   DPQ090  ...  HEI2015C5_WHOLEGRAIN  HEI2015C6_TOTALDAIRY  HEI2015C7_TOTPROT  \\\n",
              "0     NaN  ...                   NaN                   NaN                NaN   \n",
              "1     0.0  ...              0.000000              3.141062           4.071959   \n",
              "2     0.0  ...              5.000000              4.448512           5.000000   \n",
              "3     0.0  ...              2.217331              2.313900           5.000000   \n",
              "4     0.0  ...              0.211544              0.000000           4.088849   \n",
              "5     0.0  ...              1.444002              5.000000           3.372033   \n",
              "6     0.0  ...              0.000000              5.000000           1.153747   \n",
              "7     0.0  ...              0.000000              4.361618           5.000000   \n",
              "8     0.0  ...              5.000000              5.000000           4.093324   \n",
              "9     0.0  ...              2.287457              5.000000           5.000000   \n",
              "\n",
              "   HEI2015C8_SEAPLANT_PROT  HEI2015C9_FATTYACID  HEI2015C10_SODIUM  \\\n",
              "0                      NaN                  NaN                NaN   \n",
              "1                 2.052399             0.684985           2.297100   \n",
              "2                 0.000000             2.050769           7.369489   \n",
              "3                 1.268648             2.958985           0.000000   \n",
              "4                 4.221442            10.000000           2.845774   \n",
              "5                 0.000000             0.002362           5.223435   \n",
              "6                 0.000000             6.209888           6.747360   \n",
              "7                 0.000000             4.780404           0.000000   \n",
              "8                 0.000000             7.660037           9.368343   \n",
              "9                 5.000000             2.805860           9.298090   \n",
              "\n",
              "   HEI2015C11_REFINEDGRAIN  HEI2015C12_SFAT  HEI2015C13_ADDSUG  \\\n",
              "0                      NaN              NaN                NaN   \n",
              "1                 9.512964         0.438428           3.919226   \n",
              "2                 8.887880         8.186877           9.099088   \n",
              "3                 5.627488         5.863078           5.878686   \n",
              "4                 0.000000        10.000000           9.658507   \n",
              "5                 7.787420         0.000000          10.000000   \n",
              "6                 0.000000         7.473184           6.573559   \n",
              "7                 5.138144         5.601160           4.677064   \n",
              "8                 9.253592        10.000000           8.797673   \n",
              "9                10.000000         6.738039           0.000000   \n",
              "\n",
              "   HEI2015_TOTAL_SCORE  \n",
              "0                  NaN  \n",
              "1            35.553899  \n",
              "2            63.551696  \n",
              "3            42.886826  \n",
              "4            47.074393  \n",
              "5            46.086131  \n",
              "6            37.388008  \n",
              "7            41.001689  \n",
              "8            71.671972  \n",
              "9            47.002405  \n",
              "\n",
              "[10 rows x 31 columns]"
            ],
            "text/html": [
              "\n",
              "  <div id=\"df-e3c4736b-700f-4ac3-bf43-ec64414990d9\" class=\"colab-df-container\">\n",
              "    <div>\n",
              "<style scoped>\n",
              "    .dataframe tbody tr th:only-of-type {\n",
              "        vertical-align: middle;\n",
              "    }\n",
              "\n",
              "    .dataframe tbody tr th {\n",
              "        vertical-align: top;\n",
              "    }\n",
              "\n",
              "    .dataframe thead th {\n",
              "        text-align: right;\n",
              "    }\n",
              "</style>\n",
              "<table border=\"1\" class=\"dataframe\">\n",
              "  <thead>\n",
              "    <tr style=\"text-align: right;\">\n",
              "      <th></th>\n",
              "      <th>SEQN</th>\n",
              "      <th>DPQ010</th>\n",
              "      <th>DPQ020</th>\n",
              "      <th>DPQ030</th>\n",
              "      <th>DPQ040</th>\n",
              "      <th>DPQ050</th>\n",
              "      <th>DPQ060</th>\n",
              "      <th>DPQ070</th>\n",
              "      <th>DPQ080</th>\n",
              "      <th>DPQ090</th>\n",
              "      <th>...</th>\n",
              "      <th>HEI2015C5_WHOLEGRAIN</th>\n",
              "      <th>HEI2015C6_TOTALDAIRY</th>\n",
              "      <th>HEI2015C7_TOTPROT</th>\n",
              "      <th>HEI2015C8_SEAPLANT_PROT</th>\n",
              "      <th>HEI2015C9_FATTYACID</th>\n",
              "      <th>HEI2015C10_SODIUM</th>\n",
              "      <th>HEI2015C11_REFINEDGRAIN</th>\n",
              "      <th>HEI2015C12_SFAT</th>\n",
              "      <th>HEI2015C13_ADDSUG</th>\n",
              "      <th>HEI2015_TOTAL_SCORE</th>\n",
              "    </tr>\n",
              "  </thead>\n",
              "  <tbody>\n",
              "    <tr>\n",
              "      <th>0</th>\n",
              "      <td>31130</td>\n",
              "      <td>NaN</td>\n",
              "      <td>NaN</td>\n",
              "      <td>NaN</td>\n",
              "      <td>NaN</td>\n",
              "      <td>NaN</td>\n",
              "      <td>NaN</td>\n",
              "      <td>NaN</td>\n",
              "      <td>NaN</td>\n",
              "      <td>NaN</td>\n",
              "      <td>...</td>\n",
              "      <td>NaN</td>\n",
              "      <td>NaN</td>\n",
              "      <td>NaN</td>\n",
              "      <td>NaN</td>\n",
              "      <td>NaN</td>\n",
              "      <td>NaN</td>\n",
              "      <td>NaN</td>\n",
              "      <td>NaN</td>\n",
              "      <td>NaN</td>\n",
              "      <td>NaN</td>\n",
              "    </tr>\n",
              "    <tr>\n",
              "      <th>1</th>\n",
              "      <td>31131</td>\n",
              "      <td>0.0</td>\n",
              "      <td>0.0</td>\n",
              "      <td>0.0</td>\n",
              "      <td>0.0</td>\n",
              "      <td>0.0</td>\n",
              "      <td>0.0</td>\n",
              "      <td>0.0</td>\n",
              "      <td>0.0</td>\n",
              "      <td>0.0</td>\n",
              "      <td>...</td>\n",
              "      <td>0.000000</td>\n",
              "      <td>3.141062</td>\n",
              "      <td>4.071959</td>\n",
              "      <td>2.052399</td>\n",
              "      <td>0.684985</td>\n",
              "      <td>2.297100</td>\n",
              "      <td>9.512964</td>\n",
              "      <td>0.438428</td>\n",
              "      <td>3.919226</td>\n",
              "      <td>35.553899</td>\n",
              "    </tr>\n",
              "    <tr>\n",
              "      <th>2</th>\n",
              "      <td>31132</td>\n",
              "      <td>0.0</td>\n",
              "      <td>0.0</td>\n",
              "      <td>0.0</td>\n",
              "      <td>0.0</td>\n",
              "      <td>0.0</td>\n",
              "      <td>0.0</td>\n",
              "      <td>0.0</td>\n",
              "      <td>0.0</td>\n",
              "      <td>0.0</td>\n",
              "      <td>...</td>\n",
              "      <td>5.000000</td>\n",
              "      <td>4.448512</td>\n",
              "      <td>5.000000</td>\n",
              "      <td>0.000000</td>\n",
              "      <td>2.050769</td>\n",
              "      <td>7.369489</td>\n",
              "      <td>8.887880</td>\n",
              "      <td>8.186877</td>\n",
              "      <td>9.099088</td>\n",
              "      <td>63.551696</td>\n",
              "    </tr>\n",
              "    <tr>\n",
              "      <th>3</th>\n",
              "      <td>31134</td>\n",
              "      <td>0.0</td>\n",
              "      <td>0.0</td>\n",
              "      <td>0.0</td>\n",
              "      <td>0.0</td>\n",
              "      <td>0.0</td>\n",
              "      <td>0.0</td>\n",
              "      <td>0.0</td>\n",
              "      <td>0.0</td>\n",
              "      <td>0.0</td>\n",
              "      <td>...</td>\n",
              "      <td>2.217331</td>\n",
              "      <td>2.313900</td>\n",
              "      <td>5.000000</td>\n",
              "      <td>1.268648</td>\n",
              "      <td>2.958985</td>\n",
              "      <td>0.000000</td>\n",
              "      <td>5.627488</td>\n",
              "      <td>5.863078</td>\n",
              "      <td>5.878686</td>\n",
              "      <td>42.886826</td>\n",
              "    </tr>\n",
              "    <tr>\n",
              "      <th>4</th>\n",
              "      <td>31139</td>\n",
              "      <td>0.0</td>\n",
              "      <td>0.0</td>\n",
              "      <td>0.0</td>\n",
              "      <td>0.0</td>\n",
              "      <td>3.0</td>\n",
              "      <td>1.0</td>\n",
              "      <td>0.0</td>\n",
              "      <td>0.0</td>\n",
              "      <td>0.0</td>\n",
              "      <td>...</td>\n",
              "      <td>0.211544</td>\n",
              "      <td>0.000000</td>\n",
              "      <td>4.088849</td>\n",
              "      <td>4.221442</td>\n",
              "      <td>10.000000</td>\n",
              "      <td>2.845774</td>\n",
              "      <td>0.000000</td>\n",
              "      <td>10.000000</td>\n",
              "      <td>9.658507</td>\n",
              "      <td>47.074393</td>\n",
              "    </tr>\n",
              "    <tr>\n",
              "      <th>5</th>\n",
              "      <td>31143</td>\n",
              "      <td>0.0</td>\n",
              "      <td>1.0</td>\n",
              "      <td>1.0</td>\n",
              "      <td>1.0</td>\n",
              "      <td>1.0</td>\n",
              "      <td>1.0</td>\n",
              "      <td>1.0</td>\n",
              "      <td>0.0</td>\n",
              "      <td>0.0</td>\n",
              "      <td>...</td>\n",
              "      <td>1.444002</td>\n",
              "      <td>5.000000</td>\n",
              "      <td>3.372033</td>\n",
              "      <td>0.000000</td>\n",
              "      <td>0.002362</td>\n",
              "      <td>5.223435</td>\n",
              "      <td>7.787420</td>\n",
              "      <td>0.000000</td>\n",
              "      <td>10.000000</td>\n",
              "      <td>46.086131</td>\n",
              "    </tr>\n",
              "    <tr>\n",
              "      <th>6</th>\n",
              "      <td>31144</td>\n",
              "      <td>0.0</td>\n",
              "      <td>0.0</td>\n",
              "      <td>0.0</td>\n",
              "      <td>0.0</td>\n",
              "      <td>0.0</td>\n",
              "      <td>0.0</td>\n",
              "      <td>0.0</td>\n",
              "      <td>0.0</td>\n",
              "      <td>0.0</td>\n",
              "      <td>...</td>\n",
              "      <td>0.000000</td>\n",
              "      <td>5.000000</td>\n",
              "      <td>1.153747</td>\n",
              "      <td>0.000000</td>\n",
              "      <td>6.209888</td>\n",
              "      <td>6.747360</td>\n",
              "      <td>0.000000</td>\n",
              "      <td>7.473184</td>\n",
              "      <td>6.573559</td>\n",
              "      <td>37.388008</td>\n",
              "    </tr>\n",
              "    <tr>\n",
              "      <th>7</th>\n",
              "      <td>31149</td>\n",
              "      <td>0.0</td>\n",
              "      <td>0.0</td>\n",
              "      <td>0.0</td>\n",
              "      <td>0.0</td>\n",
              "      <td>0.0</td>\n",
              "      <td>0.0</td>\n",
              "      <td>0.0</td>\n",
              "      <td>0.0</td>\n",
              "      <td>0.0</td>\n",
              "      <td>...</td>\n",
              "      <td>0.000000</td>\n",
              "      <td>4.361618</td>\n",
              "      <td>5.000000</td>\n",
              "      <td>0.000000</td>\n",
              "      <td>4.780404</td>\n",
              "      <td>0.000000</td>\n",
              "      <td>5.138144</td>\n",
              "      <td>5.601160</td>\n",
              "      <td>4.677064</td>\n",
              "      <td>41.001689</td>\n",
              "    </tr>\n",
              "    <tr>\n",
              "      <th>8</th>\n",
              "      <td>31150</td>\n",
              "      <td>1.0</td>\n",
              "      <td>0.0</td>\n",
              "      <td>0.0</td>\n",
              "      <td>0.0</td>\n",
              "      <td>0.0</td>\n",
              "      <td>0.0</td>\n",
              "      <td>0.0</td>\n",
              "      <td>0.0</td>\n",
              "      <td>0.0</td>\n",
              "      <td>...</td>\n",
              "      <td>5.000000</td>\n",
              "      <td>5.000000</td>\n",
              "      <td>4.093324</td>\n",
              "      <td>0.000000</td>\n",
              "      <td>7.660037</td>\n",
              "      <td>9.368343</td>\n",
              "      <td>9.253592</td>\n",
              "      <td>10.000000</td>\n",
              "      <td>8.797673</td>\n",
              "      <td>71.671972</td>\n",
              "    </tr>\n",
              "    <tr>\n",
              "      <th>9</th>\n",
              "      <td>31151</td>\n",
              "      <td>0.0</td>\n",
              "      <td>0.0</td>\n",
              "      <td>1.0</td>\n",
              "      <td>1.0</td>\n",
              "      <td>0.0</td>\n",
              "      <td>0.0</td>\n",
              "      <td>1.0</td>\n",
              "      <td>0.0</td>\n",
              "      <td>0.0</td>\n",
              "      <td>...</td>\n",
              "      <td>2.287457</td>\n",
              "      <td>5.000000</td>\n",
              "      <td>5.000000</td>\n",
              "      <td>5.000000</td>\n",
              "      <td>2.805860</td>\n",
              "      <td>9.298090</td>\n",
              "      <td>10.000000</td>\n",
              "      <td>6.738039</td>\n",
              "      <td>0.000000</td>\n",
              "      <td>47.002405</td>\n",
              "    </tr>\n",
              "  </tbody>\n",
              "</table>\n",
              "<p>10 rows × 31 columns</p>\n",
              "</div>\n",
              "    <div class=\"colab-df-buttons\">\n",
              "\n",
              "  <div class=\"colab-df-container\">\n",
              "    <button class=\"colab-df-convert\" onclick=\"convertToInteractive('df-e3c4736b-700f-4ac3-bf43-ec64414990d9')\"\n",
              "            title=\"Convert this dataframe to an interactive table.\"\n",
              "            style=\"display:none;\">\n",
              "\n",
              "  <svg xmlns=\"http://www.w3.org/2000/svg\" height=\"24px\" viewBox=\"0 -960 960 960\">\n",
              "    <path d=\"M120-120v-720h720v720H120Zm60-500h600v-160H180v160Zm220 220h160v-160H400v160Zm0 220h160v-160H400v160ZM180-400h160v-160H180v160Zm440 0h160v-160H620v160ZM180-180h160v-160H180v160Zm440 0h160v-160H620v160Z\"/>\n",
              "  </svg>\n",
              "    </button>\n",
              "\n",
              "  <style>\n",
              "    .colab-df-container {\n",
              "      display:flex;\n",
              "      gap: 12px;\n",
              "    }\n",
              "\n",
              "    .colab-df-convert {\n",
              "      background-color: #E8F0FE;\n",
              "      border: none;\n",
              "      border-radius: 50%;\n",
              "      cursor: pointer;\n",
              "      display: none;\n",
              "      fill: #1967D2;\n",
              "      height: 32px;\n",
              "      padding: 0 0 0 0;\n",
              "      width: 32px;\n",
              "    }\n",
              "\n",
              "    .colab-df-convert:hover {\n",
              "      background-color: #E2EBFA;\n",
              "      box-shadow: 0px 1px 2px rgba(60, 64, 67, 0.3), 0px 1px 3px 1px rgba(60, 64, 67, 0.15);\n",
              "      fill: #174EA6;\n",
              "    }\n",
              "\n",
              "    .colab-df-buttons div {\n",
              "      margin-bottom: 4px;\n",
              "    }\n",
              "\n",
              "    [theme=dark] .colab-df-convert {\n",
              "      background-color: #3B4455;\n",
              "      fill: #D2E3FC;\n",
              "    }\n",
              "\n",
              "    [theme=dark] .colab-df-convert:hover {\n",
              "      background-color: #434B5C;\n",
              "      box-shadow: 0px 1px 3px 1px rgba(0, 0, 0, 0.15);\n",
              "      filter: drop-shadow(0px 1px 2px rgba(0, 0, 0, 0.3));\n",
              "      fill: #FFFFFF;\n",
              "    }\n",
              "  </style>\n",
              "\n",
              "    <script>\n",
              "      const buttonEl =\n",
              "        document.querySelector('#df-e3c4736b-700f-4ac3-bf43-ec64414990d9 button.colab-df-convert');\n",
              "      buttonEl.style.display =\n",
              "        google.colab.kernel.accessAllowed ? 'block' : 'none';\n",
              "\n",
              "      async function convertToInteractive(key) {\n",
              "        const element = document.querySelector('#df-e3c4736b-700f-4ac3-bf43-ec64414990d9');\n",
              "        const dataTable =\n",
              "          await google.colab.kernel.invokeFunction('convertToInteractive',\n",
              "                                                    [key], {});\n",
              "        if (!dataTable) return;\n",
              "\n",
              "        const docLinkHtml = 'Like what you see? Visit the ' +\n",
              "          '<a target=\"_blank\" href=https://colab.research.google.com/notebooks/data_table.ipynb>data table notebook</a>'\n",
              "          + ' to learn more about interactive tables.';\n",
              "        element.innerHTML = '';\n",
              "        dataTable['output_type'] = 'display_data';\n",
              "        await google.colab.output.renderOutput(dataTable, element);\n",
              "        const docLink = document.createElement('div');\n",
              "        docLink.innerHTML = docLinkHtml;\n",
              "        element.appendChild(docLink);\n",
              "      }\n",
              "    </script>\n",
              "  </div>\n",
              "\n",
              "\n",
              "<div id=\"df-6b2c115c-fb53-4684-9f53-46f3eaaab49f\">\n",
              "  <button class=\"colab-df-quickchart\" onclick=\"quickchart('df-6b2c115c-fb53-4684-9f53-46f3eaaab49f')\"\n",
              "            title=\"Suggest charts.\"\n",
              "            style=\"display:none;\">\n",
              "\n",
              "<svg xmlns=\"http://www.w3.org/2000/svg\" height=\"24px\"viewBox=\"0 0 24 24\"\n",
              "     width=\"24px\">\n",
              "    <g>\n",
              "        <path d=\"M19 3H5c-1.1 0-2 .9-2 2v14c0 1.1.9 2 2 2h14c1.1 0 2-.9 2-2V5c0-1.1-.9-2-2-2zM9 17H7v-7h2v7zm4 0h-2V7h2v10zm4 0h-2v-4h2v4z\"/>\n",
              "    </g>\n",
              "</svg>\n",
              "  </button>\n",
              "\n",
              "<style>\n",
              "  .colab-df-quickchart {\n",
              "      --bg-color: #E8F0FE;\n",
              "      --fill-color: #1967D2;\n",
              "      --hover-bg-color: #E2EBFA;\n",
              "      --hover-fill-color: #174EA6;\n",
              "      --disabled-fill-color: #AAA;\n",
              "      --disabled-bg-color: #DDD;\n",
              "  }\n",
              "\n",
              "  [theme=dark] .colab-df-quickchart {\n",
              "      --bg-color: #3B4455;\n",
              "      --fill-color: #D2E3FC;\n",
              "      --hover-bg-color: #434B5C;\n",
              "      --hover-fill-color: #FFFFFF;\n",
              "      --disabled-bg-color: #3B4455;\n",
              "      --disabled-fill-color: #666;\n",
              "  }\n",
              "\n",
              "  .colab-df-quickchart {\n",
              "    background-color: var(--bg-color);\n",
              "    border: none;\n",
              "    border-radius: 50%;\n",
              "    cursor: pointer;\n",
              "    display: none;\n",
              "    fill: var(--fill-color);\n",
              "    height: 32px;\n",
              "    padding: 0;\n",
              "    width: 32px;\n",
              "  }\n",
              "\n",
              "  .colab-df-quickchart:hover {\n",
              "    background-color: var(--hover-bg-color);\n",
              "    box-shadow: 0 1px 2px rgba(60, 64, 67, 0.3), 0 1px 3px 1px rgba(60, 64, 67, 0.15);\n",
              "    fill: var(--button-hover-fill-color);\n",
              "  }\n",
              "\n",
              "  .colab-df-quickchart-complete:disabled,\n",
              "  .colab-df-quickchart-complete:disabled:hover {\n",
              "    background-color: var(--disabled-bg-color);\n",
              "    fill: var(--disabled-fill-color);\n",
              "    box-shadow: none;\n",
              "  }\n",
              "\n",
              "  .colab-df-spinner {\n",
              "    border: 2px solid var(--fill-color);\n",
              "    border-color: transparent;\n",
              "    border-bottom-color: var(--fill-color);\n",
              "    animation:\n",
              "      spin 1s steps(1) infinite;\n",
              "  }\n",
              "\n",
              "  @keyframes spin {\n",
              "    0% {\n",
              "      border-color: transparent;\n",
              "      border-bottom-color: var(--fill-color);\n",
              "      border-left-color: var(--fill-color);\n",
              "    }\n",
              "    20% {\n",
              "      border-color: transparent;\n",
              "      border-left-color: var(--fill-color);\n",
              "      border-top-color: var(--fill-color);\n",
              "    }\n",
              "    30% {\n",
              "      border-color: transparent;\n",
              "      border-left-color: var(--fill-color);\n",
              "      border-top-color: var(--fill-color);\n",
              "      border-right-color: var(--fill-color);\n",
              "    }\n",
              "    40% {\n",
              "      border-color: transparent;\n",
              "      border-right-color: var(--fill-color);\n",
              "      border-top-color: var(--fill-color);\n",
              "    }\n",
              "    60% {\n",
              "      border-color: transparent;\n",
              "      border-right-color: var(--fill-color);\n",
              "    }\n",
              "    80% {\n",
              "      border-color: transparent;\n",
              "      border-right-color: var(--fill-color);\n",
              "      border-bottom-color: var(--fill-color);\n",
              "    }\n",
              "    90% {\n",
              "      border-color: transparent;\n",
              "      border-bottom-color: var(--fill-color);\n",
              "    }\n",
              "  }\n",
              "</style>\n",
              "\n",
              "  <script>\n",
              "    async function quickchart(key) {\n",
              "      const quickchartButtonEl =\n",
              "        document.querySelector('#' + key + ' button');\n",
              "      quickchartButtonEl.disabled = true;  // To prevent multiple clicks.\n",
              "      quickchartButtonEl.classList.add('colab-df-spinner');\n",
              "      try {\n",
              "        const charts = await google.colab.kernel.invokeFunction(\n",
              "            'suggestCharts', [key], {});\n",
              "      } catch (error) {\n",
              "        console.error('Error during call to suggestCharts:', error);\n",
              "      }\n",
              "      quickchartButtonEl.classList.remove('colab-df-spinner');\n",
              "      quickchartButtonEl.classList.add('colab-df-quickchart-complete');\n",
              "    }\n",
              "    (() => {\n",
              "      let quickchartButtonEl =\n",
              "        document.querySelector('#df-6b2c115c-fb53-4684-9f53-46f3eaaab49f button');\n",
              "      quickchartButtonEl.style.display =\n",
              "        google.colab.kernel.accessAllowed ? 'block' : 'none';\n",
              "    })();\n",
              "  </script>\n",
              "</div>\n",
              "    </div>\n",
              "  </div>\n"
            ]
          },
          "metadata": {},
          "execution_count": 7
        }
      ]
    },
    {
      "cell_type": "code",
      "source": [
        "df.tail()"
      ],
      "metadata": {
        "id": "CENPlVfANHP-",
        "colab": {
          "base_uri": "https://localhost:8080/",
          "height": 256
        },
        "outputId": "737afea8-3d81-43ee-9611-dd62aba07100"
      },
      "execution_count": 8,
      "outputs": [
        {
          "output_type": "execute_result",
          "data": {
            "text/plain": [
              "       SEQN  DPQ010  DPQ020  DPQ030  DPQ040  DPQ050  DPQ060  DPQ070  DPQ080  \\\n",
              "5329  41466     0.0     0.0     1.0     1.0     0.0     0.0     0.0     0.0   \n",
              "5330  41468     0.0     2.0     0.0     1.0     1.0     2.0     1.0     3.0   \n",
              "5331  41469     1.0     0.0     0.0     1.0     0.0     0.0     0.0     0.0   \n",
              "5332  41472     0.0     0.0     0.0     0.0     0.0     0.0     0.0     0.0   \n",
              "5333  41473     0.0     0.0     2.0     1.0     0.0     1.0     0.0     0.0   \n",
              "\n",
              "      DPQ090  ...  HEI2015C5_WHOLEGRAIN  HEI2015C6_TOTALDAIRY  \\\n",
              "5329     0.0  ...              4.607930              2.555736   \n",
              "5330     0.0  ...              3.041603              5.000000   \n",
              "5331     0.0  ...              0.000000              2.151846   \n",
              "5332     0.0  ...              0.933303              5.000000   \n",
              "5333     0.0  ...              0.000000              5.000000   \n",
              "\n",
              "      HEI2015C7_TOTPROT  HEI2015C8_SEAPLANT_PROT  HEI2015C9_FATTYACID  \\\n",
              "5329           5.000000                 4.672204             4.633477   \n",
              "5330           3.759596                 2.344264             4.780282   \n",
              "5331           5.000000                 0.000000             9.344947   \n",
              "5332           5.000000                 5.000000             2.090534   \n",
              "5333           5.000000                 5.000000             0.000000   \n",
              "\n",
              "      HEI2015C10_SODIUM  HEI2015C11_REFINEDGRAIN  HEI2015C12_SFAT  \\\n",
              "5329           0.000000                 6.580006         8.393244   \n",
              "5330           3.134216                 1.986137         5.850269   \n",
              "5331           3.535211                 4.326307         5.269780   \n",
              "5332           8.409844                 8.936854         3.063795   \n",
              "5333           7.458058                10.000000         1.676912   \n",
              "\n",
              "      HEI2015C13_ADDSUG  HEI2015_TOTAL_SCORE  \n",
              "5329           9.360990            59.949915  \n",
              "5330          10.000000            57.747869  \n",
              "5331           8.195564            42.993323  \n",
              "5332           0.000000            46.134467  \n",
              "5333           2.751168            45.793478  \n",
              "\n",
              "[5 rows x 31 columns]"
            ],
            "text/html": [
              "\n",
              "  <div id=\"df-2193d786-736f-423a-833a-e8bd23fd7b94\" class=\"colab-df-container\">\n",
              "    <div>\n",
              "<style scoped>\n",
              "    .dataframe tbody tr th:only-of-type {\n",
              "        vertical-align: middle;\n",
              "    }\n",
              "\n",
              "    .dataframe tbody tr th {\n",
              "        vertical-align: top;\n",
              "    }\n",
              "\n",
              "    .dataframe thead th {\n",
              "        text-align: right;\n",
              "    }\n",
              "</style>\n",
              "<table border=\"1\" class=\"dataframe\">\n",
              "  <thead>\n",
              "    <tr style=\"text-align: right;\">\n",
              "      <th></th>\n",
              "      <th>SEQN</th>\n",
              "      <th>DPQ010</th>\n",
              "      <th>DPQ020</th>\n",
              "      <th>DPQ030</th>\n",
              "      <th>DPQ040</th>\n",
              "      <th>DPQ050</th>\n",
              "      <th>DPQ060</th>\n",
              "      <th>DPQ070</th>\n",
              "      <th>DPQ080</th>\n",
              "      <th>DPQ090</th>\n",
              "      <th>...</th>\n",
              "      <th>HEI2015C5_WHOLEGRAIN</th>\n",
              "      <th>HEI2015C6_TOTALDAIRY</th>\n",
              "      <th>HEI2015C7_TOTPROT</th>\n",
              "      <th>HEI2015C8_SEAPLANT_PROT</th>\n",
              "      <th>HEI2015C9_FATTYACID</th>\n",
              "      <th>HEI2015C10_SODIUM</th>\n",
              "      <th>HEI2015C11_REFINEDGRAIN</th>\n",
              "      <th>HEI2015C12_SFAT</th>\n",
              "      <th>HEI2015C13_ADDSUG</th>\n",
              "      <th>HEI2015_TOTAL_SCORE</th>\n",
              "    </tr>\n",
              "  </thead>\n",
              "  <tbody>\n",
              "    <tr>\n",
              "      <th>5329</th>\n",
              "      <td>41466</td>\n",
              "      <td>0.0</td>\n",
              "      <td>0.0</td>\n",
              "      <td>1.0</td>\n",
              "      <td>1.0</td>\n",
              "      <td>0.0</td>\n",
              "      <td>0.0</td>\n",
              "      <td>0.0</td>\n",
              "      <td>0.0</td>\n",
              "      <td>0.0</td>\n",
              "      <td>...</td>\n",
              "      <td>4.607930</td>\n",
              "      <td>2.555736</td>\n",
              "      <td>5.000000</td>\n",
              "      <td>4.672204</td>\n",
              "      <td>4.633477</td>\n",
              "      <td>0.000000</td>\n",
              "      <td>6.580006</td>\n",
              "      <td>8.393244</td>\n",
              "      <td>9.360990</td>\n",
              "      <td>59.949915</td>\n",
              "    </tr>\n",
              "    <tr>\n",
              "      <th>5330</th>\n",
              "      <td>41468</td>\n",
              "      <td>0.0</td>\n",
              "      <td>2.0</td>\n",
              "      <td>0.0</td>\n",
              "      <td>1.0</td>\n",
              "      <td>1.0</td>\n",
              "      <td>2.0</td>\n",
              "      <td>1.0</td>\n",
              "      <td>3.0</td>\n",
              "      <td>0.0</td>\n",
              "      <td>...</td>\n",
              "      <td>3.041603</td>\n",
              "      <td>5.000000</td>\n",
              "      <td>3.759596</td>\n",
              "      <td>2.344264</td>\n",
              "      <td>4.780282</td>\n",
              "      <td>3.134216</td>\n",
              "      <td>1.986137</td>\n",
              "      <td>5.850269</td>\n",
              "      <td>10.000000</td>\n",
              "      <td>57.747869</td>\n",
              "    </tr>\n",
              "    <tr>\n",
              "      <th>5331</th>\n",
              "      <td>41469</td>\n",
              "      <td>1.0</td>\n",
              "      <td>0.0</td>\n",
              "      <td>0.0</td>\n",
              "      <td>1.0</td>\n",
              "      <td>0.0</td>\n",
              "      <td>0.0</td>\n",
              "      <td>0.0</td>\n",
              "      <td>0.0</td>\n",
              "      <td>0.0</td>\n",
              "      <td>...</td>\n",
              "      <td>0.000000</td>\n",
              "      <td>2.151846</td>\n",
              "      <td>5.000000</td>\n",
              "      <td>0.000000</td>\n",
              "      <td>9.344947</td>\n",
              "      <td>3.535211</td>\n",
              "      <td>4.326307</td>\n",
              "      <td>5.269780</td>\n",
              "      <td>8.195564</td>\n",
              "      <td>42.993323</td>\n",
              "    </tr>\n",
              "    <tr>\n",
              "      <th>5332</th>\n",
              "      <td>41472</td>\n",
              "      <td>0.0</td>\n",
              "      <td>0.0</td>\n",
              "      <td>0.0</td>\n",
              "      <td>0.0</td>\n",
              "      <td>0.0</td>\n",
              "      <td>0.0</td>\n",
              "      <td>0.0</td>\n",
              "      <td>0.0</td>\n",
              "      <td>0.0</td>\n",
              "      <td>...</td>\n",
              "      <td>0.933303</td>\n",
              "      <td>5.000000</td>\n",
              "      <td>5.000000</td>\n",
              "      <td>5.000000</td>\n",
              "      <td>2.090534</td>\n",
              "      <td>8.409844</td>\n",
              "      <td>8.936854</td>\n",
              "      <td>3.063795</td>\n",
              "      <td>0.000000</td>\n",
              "      <td>46.134467</td>\n",
              "    </tr>\n",
              "    <tr>\n",
              "      <th>5333</th>\n",
              "      <td>41473</td>\n",
              "      <td>0.0</td>\n",
              "      <td>0.0</td>\n",
              "      <td>2.0</td>\n",
              "      <td>1.0</td>\n",
              "      <td>0.0</td>\n",
              "      <td>1.0</td>\n",
              "      <td>0.0</td>\n",
              "      <td>0.0</td>\n",
              "      <td>0.0</td>\n",
              "      <td>...</td>\n",
              "      <td>0.000000</td>\n",
              "      <td>5.000000</td>\n",
              "      <td>5.000000</td>\n",
              "      <td>5.000000</td>\n",
              "      <td>0.000000</td>\n",
              "      <td>7.458058</td>\n",
              "      <td>10.000000</td>\n",
              "      <td>1.676912</td>\n",
              "      <td>2.751168</td>\n",
              "      <td>45.793478</td>\n",
              "    </tr>\n",
              "  </tbody>\n",
              "</table>\n",
              "<p>5 rows × 31 columns</p>\n",
              "</div>\n",
              "    <div class=\"colab-df-buttons\">\n",
              "\n",
              "  <div class=\"colab-df-container\">\n",
              "    <button class=\"colab-df-convert\" onclick=\"convertToInteractive('df-2193d786-736f-423a-833a-e8bd23fd7b94')\"\n",
              "            title=\"Convert this dataframe to an interactive table.\"\n",
              "            style=\"display:none;\">\n",
              "\n",
              "  <svg xmlns=\"http://www.w3.org/2000/svg\" height=\"24px\" viewBox=\"0 -960 960 960\">\n",
              "    <path d=\"M120-120v-720h720v720H120Zm60-500h600v-160H180v160Zm220 220h160v-160H400v160Zm0 220h160v-160H400v160ZM180-400h160v-160H180v160Zm440 0h160v-160H620v160ZM180-180h160v-160H180v160Zm440 0h160v-160H620v160Z\"/>\n",
              "  </svg>\n",
              "    </button>\n",
              "\n",
              "  <style>\n",
              "    .colab-df-container {\n",
              "      display:flex;\n",
              "      gap: 12px;\n",
              "    }\n",
              "\n",
              "    .colab-df-convert {\n",
              "      background-color: #E8F0FE;\n",
              "      border: none;\n",
              "      border-radius: 50%;\n",
              "      cursor: pointer;\n",
              "      display: none;\n",
              "      fill: #1967D2;\n",
              "      height: 32px;\n",
              "      padding: 0 0 0 0;\n",
              "      width: 32px;\n",
              "    }\n",
              "\n",
              "    .colab-df-convert:hover {\n",
              "      background-color: #E2EBFA;\n",
              "      box-shadow: 0px 1px 2px rgba(60, 64, 67, 0.3), 0px 1px 3px 1px rgba(60, 64, 67, 0.15);\n",
              "      fill: #174EA6;\n",
              "    }\n",
              "\n",
              "    .colab-df-buttons div {\n",
              "      margin-bottom: 4px;\n",
              "    }\n",
              "\n",
              "    [theme=dark] .colab-df-convert {\n",
              "      background-color: #3B4455;\n",
              "      fill: #D2E3FC;\n",
              "    }\n",
              "\n",
              "    [theme=dark] .colab-df-convert:hover {\n",
              "      background-color: #434B5C;\n",
              "      box-shadow: 0px 1px 3px 1px rgba(0, 0, 0, 0.15);\n",
              "      filter: drop-shadow(0px 1px 2px rgba(0, 0, 0, 0.3));\n",
              "      fill: #FFFFFF;\n",
              "    }\n",
              "  </style>\n",
              "\n",
              "    <script>\n",
              "      const buttonEl =\n",
              "        document.querySelector('#df-2193d786-736f-423a-833a-e8bd23fd7b94 button.colab-df-convert');\n",
              "      buttonEl.style.display =\n",
              "        google.colab.kernel.accessAllowed ? 'block' : 'none';\n",
              "\n",
              "      async function convertToInteractive(key) {\n",
              "        const element = document.querySelector('#df-2193d786-736f-423a-833a-e8bd23fd7b94');\n",
              "        const dataTable =\n",
              "          await google.colab.kernel.invokeFunction('convertToInteractive',\n",
              "                                                    [key], {});\n",
              "        if (!dataTable) return;\n",
              "\n",
              "        const docLinkHtml = 'Like what you see? Visit the ' +\n",
              "          '<a target=\"_blank\" href=https://colab.research.google.com/notebooks/data_table.ipynb>data table notebook</a>'\n",
              "          + ' to learn more about interactive tables.';\n",
              "        element.innerHTML = '';\n",
              "        dataTable['output_type'] = 'display_data';\n",
              "        await google.colab.output.renderOutput(dataTable, element);\n",
              "        const docLink = document.createElement('div');\n",
              "        docLink.innerHTML = docLinkHtml;\n",
              "        element.appendChild(docLink);\n",
              "      }\n",
              "    </script>\n",
              "  </div>\n",
              "\n",
              "\n",
              "<div id=\"df-6cc45a43-14af-42ba-8644-e28fbb95fff3\">\n",
              "  <button class=\"colab-df-quickchart\" onclick=\"quickchart('df-6cc45a43-14af-42ba-8644-e28fbb95fff3')\"\n",
              "            title=\"Suggest charts.\"\n",
              "            style=\"display:none;\">\n",
              "\n",
              "<svg xmlns=\"http://www.w3.org/2000/svg\" height=\"24px\"viewBox=\"0 0 24 24\"\n",
              "     width=\"24px\">\n",
              "    <g>\n",
              "        <path d=\"M19 3H5c-1.1 0-2 .9-2 2v14c0 1.1.9 2 2 2h14c1.1 0 2-.9 2-2V5c0-1.1-.9-2-2-2zM9 17H7v-7h2v7zm4 0h-2V7h2v10zm4 0h-2v-4h2v4z\"/>\n",
              "    </g>\n",
              "</svg>\n",
              "  </button>\n",
              "\n",
              "<style>\n",
              "  .colab-df-quickchart {\n",
              "      --bg-color: #E8F0FE;\n",
              "      --fill-color: #1967D2;\n",
              "      --hover-bg-color: #E2EBFA;\n",
              "      --hover-fill-color: #174EA6;\n",
              "      --disabled-fill-color: #AAA;\n",
              "      --disabled-bg-color: #DDD;\n",
              "  }\n",
              "\n",
              "  [theme=dark] .colab-df-quickchart {\n",
              "      --bg-color: #3B4455;\n",
              "      --fill-color: #D2E3FC;\n",
              "      --hover-bg-color: #434B5C;\n",
              "      --hover-fill-color: #FFFFFF;\n",
              "      --disabled-bg-color: #3B4455;\n",
              "      --disabled-fill-color: #666;\n",
              "  }\n",
              "\n",
              "  .colab-df-quickchart {\n",
              "    background-color: var(--bg-color);\n",
              "    border: none;\n",
              "    border-radius: 50%;\n",
              "    cursor: pointer;\n",
              "    display: none;\n",
              "    fill: var(--fill-color);\n",
              "    height: 32px;\n",
              "    padding: 0;\n",
              "    width: 32px;\n",
              "  }\n",
              "\n",
              "  .colab-df-quickchart:hover {\n",
              "    background-color: var(--hover-bg-color);\n",
              "    box-shadow: 0 1px 2px rgba(60, 64, 67, 0.3), 0 1px 3px 1px rgba(60, 64, 67, 0.15);\n",
              "    fill: var(--button-hover-fill-color);\n",
              "  }\n",
              "\n",
              "  .colab-df-quickchart-complete:disabled,\n",
              "  .colab-df-quickchart-complete:disabled:hover {\n",
              "    background-color: var(--disabled-bg-color);\n",
              "    fill: var(--disabled-fill-color);\n",
              "    box-shadow: none;\n",
              "  }\n",
              "\n",
              "  .colab-df-spinner {\n",
              "    border: 2px solid var(--fill-color);\n",
              "    border-color: transparent;\n",
              "    border-bottom-color: var(--fill-color);\n",
              "    animation:\n",
              "      spin 1s steps(1) infinite;\n",
              "  }\n",
              "\n",
              "  @keyframes spin {\n",
              "    0% {\n",
              "      border-color: transparent;\n",
              "      border-bottom-color: var(--fill-color);\n",
              "      border-left-color: var(--fill-color);\n",
              "    }\n",
              "    20% {\n",
              "      border-color: transparent;\n",
              "      border-left-color: var(--fill-color);\n",
              "      border-top-color: var(--fill-color);\n",
              "    }\n",
              "    30% {\n",
              "      border-color: transparent;\n",
              "      border-left-color: var(--fill-color);\n",
              "      border-top-color: var(--fill-color);\n",
              "      border-right-color: var(--fill-color);\n",
              "    }\n",
              "    40% {\n",
              "      border-color: transparent;\n",
              "      border-right-color: var(--fill-color);\n",
              "      border-top-color: var(--fill-color);\n",
              "    }\n",
              "    60% {\n",
              "      border-color: transparent;\n",
              "      border-right-color: var(--fill-color);\n",
              "    }\n",
              "    80% {\n",
              "      border-color: transparent;\n",
              "      border-right-color: var(--fill-color);\n",
              "      border-bottom-color: var(--fill-color);\n",
              "    }\n",
              "    90% {\n",
              "      border-color: transparent;\n",
              "      border-bottom-color: var(--fill-color);\n",
              "    }\n",
              "  }\n",
              "</style>\n",
              "\n",
              "  <script>\n",
              "    async function quickchart(key) {\n",
              "      const quickchartButtonEl =\n",
              "        document.querySelector('#' + key + ' button');\n",
              "      quickchartButtonEl.disabled = true;  // To prevent multiple clicks.\n",
              "      quickchartButtonEl.classList.add('colab-df-spinner');\n",
              "      try {\n",
              "        const charts = await google.colab.kernel.invokeFunction(\n",
              "            'suggestCharts', [key], {});\n",
              "      } catch (error) {\n",
              "        console.error('Error during call to suggestCharts:', error);\n",
              "      }\n",
              "      quickchartButtonEl.classList.remove('colab-df-spinner');\n",
              "      quickchartButtonEl.classList.add('colab-df-quickchart-complete');\n",
              "    }\n",
              "    (() => {\n",
              "      let quickchartButtonEl =\n",
              "        document.querySelector('#df-6cc45a43-14af-42ba-8644-e28fbb95fff3 button');\n",
              "      quickchartButtonEl.style.display =\n",
              "        google.colab.kernel.accessAllowed ? 'block' : 'none';\n",
              "    })();\n",
              "  </script>\n",
              "</div>\n",
              "    </div>\n",
              "  </div>\n"
            ]
          },
          "metadata": {},
          "execution_count": 8
        }
      ]
    },
    {
      "cell_type": "markdown",
      "source": [
        "**Encontrar valores nulos**"
      ],
      "metadata": {
        "id": "1WanxaP_Nd_c"
      }
    },
    {
      "cell_type": "code",
      "source": [
        "df.isna().sum()"
      ],
      "metadata": {
        "colab": {
          "base_uri": "https://localhost:8080/"
        },
        "id": "lb-17ehRSnXL",
        "outputId": "bb4e98a5-d46a-4aa2-fe4c-12413a843df1"
      },
      "execution_count": 9,
      "outputs": [
        {
          "output_type": "execute_result",
          "data": {
            "text/plain": [
              "SEQN                          0\n",
              "DPQ010                      498\n",
              "DPQ020                      498\n",
              "DPQ030                      498\n",
              "DPQ040                      498\n",
              "DPQ050                      498\n",
              "DPQ060                      498\n",
              "DPQ070                      498\n",
              "DPQ080                      498\n",
              "DPQ090                      498\n",
              "RIAGENDR                      0\n",
              "RIDAGEYR                      0\n",
              "RIDRETH1                      0\n",
              "DMDEDUC                       0\n",
              "INDFMINC                     47\n",
              "PAG_MINW                      0\n",
              "ADHERENCE                     0\n",
              "HEI2015C1_TOTALVEG          274\n",
              "HEI2015C2_GREEN_AND_BEAN    274\n",
              "HEI2015C3_TOTALFRUIT        274\n",
              "HEI2015C4_WHOLEFRUIT        274\n",
              "HEI2015C5_WHOLEGRAIN        274\n",
              "HEI2015C6_TOTALDAIRY        274\n",
              "HEI2015C7_TOTPROT           274\n",
              "HEI2015C8_SEAPLANT_PROT     274\n",
              "HEI2015C9_FATTYACID         274\n",
              "HEI2015C10_SODIUM           274\n",
              "HEI2015C11_REFINEDGRAIN     274\n",
              "HEI2015C12_SFAT             274\n",
              "HEI2015C13_ADDSUG           274\n",
              "HEI2015_TOTAL_SCORE         274\n",
              "dtype: int64"
            ]
          },
          "metadata": {},
          "execution_count": 9
        }
      ]
    },
    {
      "cell_type": "markdown",
      "source": [
        "Precisamos entender o que os valores nulos significam em cada uma das colunas para definirmos o que faremos com eles.\n",
        "\n",
        "*   As colunas **DPQ** indicam o sentimento do respondente nas duas últimas semanas. As linhas vazias indicam que o respondente não respondeu sobre como ele estava se sentindo. Temos 498 respondentes que não preencheram tais informações. Isso representa quase 10% do dataframe.\n",
        "*   A coluna **INDFMINC** indica a renda anual familiar em USD. Temos 47 respondentes que não informaram sua renda.\n",
        "*   As colunas **HEI2015C** informam o hábito alimentar de cada respondente. Temos 274 respondentes que não responderam sobre seus hábitos."
      ],
      "metadata": {
        "id": "-OqggXU9Yror"
      }
    },
    {
      "cell_type": "markdown",
      "source": [
        "**Encontrar valores duplicados**"
      ],
      "metadata": {
        "id": "EOUjW6kKNkFK"
      }
    },
    {
      "cell_type": "code",
      "source": [
        "df.duplicated().sum()"
      ],
      "metadata": {
        "colab": {
          "base_uri": "https://localhost:8080/"
        },
        "id": "9VbhQzjQ7C2y",
        "outputId": "7d052a8a-ae62-4915-bfc2-8679bd162bae"
      },
      "execution_count": 10,
      "outputs": [
        {
          "output_type": "execute_result",
          "data": {
            "text/plain": [
              "0"
            ]
          },
          "metadata": {},
          "execution_count": 10
        }
      ]
    },
    {
      "cell_type": "markdown",
      "source": [
        "**Entender a distribuição estatística do dataset**"
      ],
      "metadata": {
        "id": "jf4MDeXRL1UH"
      }
    },
    {
      "cell_type": "code",
      "source": [
        "df.describe()"
      ],
      "metadata": {
        "id": "Wo3VFpH0Lzwm",
        "colab": {
          "base_uri": "https://localhost:8080/",
          "height": 350
        },
        "outputId": "8787480e-a399-44fb-d0ca-632a54ea1448"
      },
      "execution_count": 11,
      "outputs": [
        {
          "output_type": "execute_result",
          "data": {
            "text/plain": [
              "               SEQN       DPQ010       DPQ020       DPQ030       DPQ040  \\\n",
              "count   5334.000000  4836.000000  4836.000000  4836.000000  4836.000000   \n",
              "mean   36358.796775     0.307279     0.313069     0.551282     0.717328   \n",
              "std     2964.731827     0.758459     0.710683     0.931166     0.913711   \n",
              "min    31130.000000     0.000000     0.000000     0.000000     0.000000   \n",
              "25%    33838.500000     0.000000     0.000000     0.000000     0.000000   \n",
              "50%    36347.500000     0.000000     0.000000     0.000000     0.000000   \n",
              "75%    38915.750000     0.000000     0.000000     1.000000     1.000000   \n",
              "max    41473.000000     9.000000     9.000000     9.000000     9.000000   \n",
              "\n",
              "            DPQ050       DPQ060       DPQ070       DPQ080       DPQ090  ...  \\\n",
              "count  4836.000000  4836.000000  4836.000000  4836.000000  4836.000000  ...   \n",
              "mean      0.320720     0.209884     0.230356     0.147849     0.050248  ...   \n",
              "std       0.743057     0.624552     0.639186     0.590390     0.326933  ...   \n",
              "min       0.000000     0.000000     0.000000     0.000000     0.000000  ...   \n",
              "25%       0.000000     0.000000     0.000000     0.000000     0.000000  ...   \n",
              "50%       0.000000     0.000000     0.000000     0.000000     0.000000  ...   \n",
              "75%       0.000000     0.000000     0.000000     0.000000     0.000000  ...   \n",
              "max       9.000000     9.000000     9.000000     9.000000     9.000000  ...   \n",
              "\n",
              "       HEI2015C5_WHOLEGRAIN  HEI2015C6_TOTALDAIRY  HEI2015C7_TOTPROT  \\\n",
              "count           5060.000000           5060.000000        5060.000000   \n",
              "mean               1.764918              3.756967           4.434237   \n",
              "std                1.915425              1.605226           1.008311   \n",
              "min                0.000000              0.000000           0.000000   \n",
              "25%                0.000000              2.591999           4.171156   \n",
              "50%                1.026125              4.940948           5.000000   \n",
              "75%                3.406820              5.000000           5.000000   \n",
              "max                5.000000              5.000000           5.000000   \n",
              "\n",
              "       HEI2015C8_SEAPLANT_PROT  HEI2015C9_FATTYACID  HEI2015C10_SODIUM  \\\n",
              "count              5060.000000          5060.000000        5060.000000   \n",
              "mean                  2.593381             4.706986           4.762261   \n",
              "std                   2.171836             3.237059           3.420252   \n",
              "min                   0.000000             0.000000           0.000000   \n",
              "25%                   0.000000             2.023710           1.587909   \n",
              "50%                   2.588240             4.430397           4.833553   \n",
              "75%                   5.000000             7.270784           7.650807   \n",
              "max                   5.000000            10.000000          10.000000   \n",
              "\n",
              "       HEI2015C11_REFINEDGRAIN  HEI2015C12_SFAT  HEI2015C13_ADDSUG  \\\n",
              "count              5060.000000      5060.000000        5060.000000   \n",
              "mean                  5.798963         6.067985           6.220367   \n",
              "std                   3.496261         3.178186           3.330305   \n",
              "min                   0.000000         0.000000           0.000000   \n",
              "25%                   2.925413         3.697080           3.724867   \n",
              "50%                   6.234319         6.414811           6.864138   \n",
              "75%                   9.253265         8.997076           9.454234   \n",
              "max                  10.000000        10.000000          10.000000   \n",
              "\n",
              "       HEI2015_TOTAL_SCORE  \n",
              "count          5060.000000  \n",
              "mean             49.971421  \n",
              "std              12.324533  \n",
              "min              16.059212  \n",
              "25%              41.032289  \n",
              "50%              49.512445  \n",
              "75%              58.168013  \n",
              "max              89.529383  \n",
              "\n",
              "[8 rows x 31 columns]"
            ],
            "text/html": [
              "\n",
              "  <div id=\"df-c1e91bf8-b915-4979-a130-5647088fd8ce\" class=\"colab-df-container\">\n",
              "    <div>\n",
              "<style scoped>\n",
              "    .dataframe tbody tr th:only-of-type {\n",
              "        vertical-align: middle;\n",
              "    }\n",
              "\n",
              "    .dataframe tbody tr th {\n",
              "        vertical-align: top;\n",
              "    }\n",
              "\n",
              "    .dataframe thead th {\n",
              "        text-align: right;\n",
              "    }\n",
              "</style>\n",
              "<table border=\"1\" class=\"dataframe\">\n",
              "  <thead>\n",
              "    <tr style=\"text-align: right;\">\n",
              "      <th></th>\n",
              "      <th>SEQN</th>\n",
              "      <th>DPQ010</th>\n",
              "      <th>DPQ020</th>\n",
              "      <th>DPQ030</th>\n",
              "      <th>DPQ040</th>\n",
              "      <th>DPQ050</th>\n",
              "      <th>DPQ060</th>\n",
              "      <th>DPQ070</th>\n",
              "      <th>DPQ080</th>\n",
              "      <th>DPQ090</th>\n",
              "      <th>...</th>\n",
              "      <th>HEI2015C5_WHOLEGRAIN</th>\n",
              "      <th>HEI2015C6_TOTALDAIRY</th>\n",
              "      <th>HEI2015C7_TOTPROT</th>\n",
              "      <th>HEI2015C8_SEAPLANT_PROT</th>\n",
              "      <th>HEI2015C9_FATTYACID</th>\n",
              "      <th>HEI2015C10_SODIUM</th>\n",
              "      <th>HEI2015C11_REFINEDGRAIN</th>\n",
              "      <th>HEI2015C12_SFAT</th>\n",
              "      <th>HEI2015C13_ADDSUG</th>\n",
              "      <th>HEI2015_TOTAL_SCORE</th>\n",
              "    </tr>\n",
              "  </thead>\n",
              "  <tbody>\n",
              "    <tr>\n",
              "      <th>count</th>\n",
              "      <td>5334.000000</td>\n",
              "      <td>4836.000000</td>\n",
              "      <td>4836.000000</td>\n",
              "      <td>4836.000000</td>\n",
              "      <td>4836.000000</td>\n",
              "      <td>4836.000000</td>\n",
              "      <td>4836.000000</td>\n",
              "      <td>4836.000000</td>\n",
              "      <td>4836.000000</td>\n",
              "      <td>4836.000000</td>\n",
              "      <td>...</td>\n",
              "      <td>5060.000000</td>\n",
              "      <td>5060.000000</td>\n",
              "      <td>5060.000000</td>\n",
              "      <td>5060.000000</td>\n",
              "      <td>5060.000000</td>\n",
              "      <td>5060.000000</td>\n",
              "      <td>5060.000000</td>\n",
              "      <td>5060.000000</td>\n",
              "      <td>5060.000000</td>\n",
              "      <td>5060.000000</td>\n",
              "    </tr>\n",
              "    <tr>\n",
              "      <th>mean</th>\n",
              "      <td>36358.796775</td>\n",
              "      <td>0.307279</td>\n",
              "      <td>0.313069</td>\n",
              "      <td>0.551282</td>\n",
              "      <td>0.717328</td>\n",
              "      <td>0.320720</td>\n",
              "      <td>0.209884</td>\n",
              "      <td>0.230356</td>\n",
              "      <td>0.147849</td>\n",
              "      <td>0.050248</td>\n",
              "      <td>...</td>\n",
              "      <td>1.764918</td>\n",
              "      <td>3.756967</td>\n",
              "      <td>4.434237</td>\n",
              "      <td>2.593381</td>\n",
              "      <td>4.706986</td>\n",
              "      <td>4.762261</td>\n",
              "      <td>5.798963</td>\n",
              "      <td>6.067985</td>\n",
              "      <td>6.220367</td>\n",
              "      <td>49.971421</td>\n",
              "    </tr>\n",
              "    <tr>\n",
              "      <th>std</th>\n",
              "      <td>2964.731827</td>\n",
              "      <td>0.758459</td>\n",
              "      <td>0.710683</td>\n",
              "      <td>0.931166</td>\n",
              "      <td>0.913711</td>\n",
              "      <td>0.743057</td>\n",
              "      <td>0.624552</td>\n",
              "      <td>0.639186</td>\n",
              "      <td>0.590390</td>\n",
              "      <td>0.326933</td>\n",
              "      <td>...</td>\n",
              "      <td>1.915425</td>\n",
              "      <td>1.605226</td>\n",
              "      <td>1.008311</td>\n",
              "      <td>2.171836</td>\n",
              "      <td>3.237059</td>\n",
              "      <td>3.420252</td>\n",
              "      <td>3.496261</td>\n",
              "      <td>3.178186</td>\n",
              "      <td>3.330305</td>\n",
              "      <td>12.324533</td>\n",
              "    </tr>\n",
              "    <tr>\n",
              "      <th>min</th>\n",
              "      <td>31130.000000</td>\n",
              "      <td>0.000000</td>\n",
              "      <td>0.000000</td>\n",
              "      <td>0.000000</td>\n",
              "      <td>0.000000</td>\n",
              "      <td>0.000000</td>\n",
              "      <td>0.000000</td>\n",
              "      <td>0.000000</td>\n",
              "      <td>0.000000</td>\n",
              "      <td>0.000000</td>\n",
              "      <td>...</td>\n",
              "      <td>0.000000</td>\n",
              "      <td>0.000000</td>\n",
              "      <td>0.000000</td>\n",
              "      <td>0.000000</td>\n",
              "      <td>0.000000</td>\n",
              "      <td>0.000000</td>\n",
              "      <td>0.000000</td>\n",
              "      <td>0.000000</td>\n",
              "      <td>0.000000</td>\n",
              "      <td>16.059212</td>\n",
              "    </tr>\n",
              "    <tr>\n",
              "      <th>25%</th>\n",
              "      <td>33838.500000</td>\n",
              "      <td>0.000000</td>\n",
              "      <td>0.000000</td>\n",
              "      <td>0.000000</td>\n",
              "      <td>0.000000</td>\n",
              "      <td>0.000000</td>\n",
              "      <td>0.000000</td>\n",
              "      <td>0.000000</td>\n",
              "      <td>0.000000</td>\n",
              "      <td>0.000000</td>\n",
              "      <td>...</td>\n",
              "      <td>0.000000</td>\n",
              "      <td>2.591999</td>\n",
              "      <td>4.171156</td>\n",
              "      <td>0.000000</td>\n",
              "      <td>2.023710</td>\n",
              "      <td>1.587909</td>\n",
              "      <td>2.925413</td>\n",
              "      <td>3.697080</td>\n",
              "      <td>3.724867</td>\n",
              "      <td>41.032289</td>\n",
              "    </tr>\n",
              "    <tr>\n",
              "      <th>50%</th>\n",
              "      <td>36347.500000</td>\n",
              "      <td>0.000000</td>\n",
              "      <td>0.000000</td>\n",
              "      <td>0.000000</td>\n",
              "      <td>0.000000</td>\n",
              "      <td>0.000000</td>\n",
              "      <td>0.000000</td>\n",
              "      <td>0.000000</td>\n",
              "      <td>0.000000</td>\n",
              "      <td>0.000000</td>\n",
              "      <td>...</td>\n",
              "      <td>1.026125</td>\n",
              "      <td>4.940948</td>\n",
              "      <td>5.000000</td>\n",
              "      <td>2.588240</td>\n",
              "      <td>4.430397</td>\n",
              "      <td>4.833553</td>\n",
              "      <td>6.234319</td>\n",
              "      <td>6.414811</td>\n",
              "      <td>6.864138</td>\n",
              "      <td>49.512445</td>\n",
              "    </tr>\n",
              "    <tr>\n",
              "      <th>75%</th>\n",
              "      <td>38915.750000</td>\n",
              "      <td>0.000000</td>\n",
              "      <td>0.000000</td>\n",
              "      <td>1.000000</td>\n",
              "      <td>1.000000</td>\n",
              "      <td>0.000000</td>\n",
              "      <td>0.000000</td>\n",
              "      <td>0.000000</td>\n",
              "      <td>0.000000</td>\n",
              "      <td>0.000000</td>\n",
              "      <td>...</td>\n",
              "      <td>3.406820</td>\n",
              "      <td>5.000000</td>\n",
              "      <td>5.000000</td>\n",
              "      <td>5.000000</td>\n",
              "      <td>7.270784</td>\n",
              "      <td>7.650807</td>\n",
              "      <td>9.253265</td>\n",
              "      <td>8.997076</td>\n",
              "      <td>9.454234</td>\n",
              "      <td>58.168013</td>\n",
              "    </tr>\n",
              "    <tr>\n",
              "      <th>max</th>\n",
              "      <td>41473.000000</td>\n",
              "      <td>9.000000</td>\n",
              "      <td>9.000000</td>\n",
              "      <td>9.000000</td>\n",
              "      <td>9.000000</td>\n",
              "      <td>9.000000</td>\n",
              "      <td>9.000000</td>\n",
              "      <td>9.000000</td>\n",
              "      <td>9.000000</td>\n",
              "      <td>9.000000</td>\n",
              "      <td>...</td>\n",
              "      <td>5.000000</td>\n",
              "      <td>5.000000</td>\n",
              "      <td>5.000000</td>\n",
              "      <td>5.000000</td>\n",
              "      <td>10.000000</td>\n",
              "      <td>10.000000</td>\n",
              "      <td>10.000000</td>\n",
              "      <td>10.000000</td>\n",
              "      <td>10.000000</td>\n",
              "      <td>89.529383</td>\n",
              "    </tr>\n",
              "  </tbody>\n",
              "</table>\n",
              "<p>8 rows × 31 columns</p>\n",
              "</div>\n",
              "    <div class=\"colab-df-buttons\">\n",
              "\n",
              "  <div class=\"colab-df-container\">\n",
              "    <button class=\"colab-df-convert\" onclick=\"convertToInteractive('df-c1e91bf8-b915-4979-a130-5647088fd8ce')\"\n",
              "            title=\"Convert this dataframe to an interactive table.\"\n",
              "            style=\"display:none;\">\n",
              "\n",
              "  <svg xmlns=\"http://www.w3.org/2000/svg\" height=\"24px\" viewBox=\"0 -960 960 960\">\n",
              "    <path d=\"M120-120v-720h720v720H120Zm60-500h600v-160H180v160Zm220 220h160v-160H400v160Zm0 220h160v-160H400v160ZM180-400h160v-160H180v160Zm440 0h160v-160H620v160ZM180-180h160v-160H180v160Zm440 0h160v-160H620v160Z\"/>\n",
              "  </svg>\n",
              "    </button>\n",
              "\n",
              "  <style>\n",
              "    .colab-df-container {\n",
              "      display:flex;\n",
              "      gap: 12px;\n",
              "    }\n",
              "\n",
              "    .colab-df-convert {\n",
              "      background-color: #E8F0FE;\n",
              "      border: none;\n",
              "      border-radius: 50%;\n",
              "      cursor: pointer;\n",
              "      display: none;\n",
              "      fill: #1967D2;\n",
              "      height: 32px;\n",
              "      padding: 0 0 0 0;\n",
              "      width: 32px;\n",
              "    }\n",
              "\n",
              "    .colab-df-convert:hover {\n",
              "      background-color: #E2EBFA;\n",
              "      box-shadow: 0px 1px 2px rgba(60, 64, 67, 0.3), 0px 1px 3px 1px rgba(60, 64, 67, 0.15);\n",
              "      fill: #174EA6;\n",
              "    }\n",
              "\n",
              "    .colab-df-buttons div {\n",
              "      margin-bottom: 4px;\n",
              "    }\n",
              "\n",
              "    [theme=dark] .colab-df-convert {\n",
              "      background-color: #3B4455;\n",
              "      fill: #D2E3FC;\n",
              "    }\n",
              "\n",
              "    [theme=dark] .colab-df-convert:hover {\n",
              "      background-color: #434B5C;\n",
              "      box-shadow: 0px 1px 3px 1px rgba(0, 0, 0, 0.15);\n",
              "      filter: drop-shadow(0px 1px 2px rgba(0, 0, 0, 0.3));\n",
              "      fill: #FFFFFF;\n",
              "    }\n",
              "  </style>\n",
              "\n",
              "    <script>\n",
              "      const buttonEl =\n",
              "        document.querySelector('#df-c1e91bf8-b915-4979-a130-5647088fd8ce button.colab-df-convert');\n",
              "      buttonEl.style.display =\n",
              "        google.colab.kernel.accessAllowed ? 'block' : 'none';\n",
              "\n",
              "      async function convertToInteractive(key) {\n",
              "        const element = document.querySelector('#df-c1e91bf8-b915-4979-a130-5647088fd8ce');\n",
              "        const dataTable =\n",
              "          await google.colab.kernel.invokeFunction('convertToInteractive',\n",
              "                                                    [key], {});\n",
              "        if (!dataTable) return;\n",
              "\n",
              "        const docLinkHtml = 'Like what you see? Visit the ' +\n",
              "          '<a target=\"_blank\" href=https://colab.research.google.com/notebooks/data_table.ipynb>data table notebook</a>'\n",
              "          + ' to learn more about interactive tables.';\n",
              "        element.innerHTML = '';\n",
              "        dataTable['output_type'] = 'display_data';\n",
              "        await google.colab.output.renderOutput(dataTable, element);\n",
              "        const docLink = document.createElement('div');\n",
              "        docLink.innerHTML = docLinkHtml;\n",
              "        element.appendChild(docLink);\n",
              "      }\n",
              "    </script>\n",
              "  </div>\n",
              "\n",
              "\n",
              "<div id=\"df-875ef3cd-29ec-4d00-9361-4aa79ff74c99\">\n",
              "  <button class=\"colab-df-quickchart\" onclick=\"quickchart('df-875ef3cd-29ec-4d00-9361-4aa79ff74c99')\"\n",
              "            title=\"Suggest charts.\"\n",
              "            style=\"display:none;\">\n",
              "\n",
              "<svg xmlns=\"http://www.w3.org/2000/svg\" height=\"24px\"viewBox=\"0 0 24 24\"\n",
              "     width=\"24px\">\n",
              "    <g>\n",
              "        <path d=\"M19 3H5c-1.1 0-2 .9-2 2v14c0 1.1.9 2 2 2h14c1.1 0 2-.9 2-2V5c0-1.1-.9-2-2-2zM9 17H7v-7h2v7zm4 0h-2V7h2v10zm4 0h-2v-4h2v4z\"/>\n",
              "    </g>\n",
              "</svg>\n",
              "  </button>\n",
              "\n",
              "<style>\n",
              "  .colab-df-quickchart {\n",
              "      --bg-color: #E8F0FE;\n",
              "      --fill-color: #1967D2;\n",
              "      --hover-bg-color: #E2EBFA;\n",
              "      --hover-fill-color: #174EA6;\n",
              "      --disabled-fill-color: #AAA;\n",
              "      --disabled-bg-color: #DDD;\n",
              "  }\n",
              "\n",
              "  [theme=dark] .colab-df-quickchart {\n",
              "      --bg-color: #3B4455;\n",
              "      --fill-color: #D2E3FC;\n",
              "      --hover-bg-color: #434B5C;\n",
              "      --hover-fill-color: #FFFFFF;\n",
              "      --disabled-bg-color: #3B4455;\n",
              "      --disabled-fill-color: #666;\n",
              "  }\n",
              "\n",
              "  .colab-df-quickchart {\n",
              "    background-color: var(--bg-color);\n",
              "    border: none;\n",
              "    border-radius: 50%;\n",
              "    cursor: pointer;\n",
              "    display: none;\n",
              "    fill: var(--fill-color);\n",
              "    height: 32px;\n",
              "    padding: 0;\n",
              "    width: 32px;\n",
              "  }\n",
              "\n",
              "  .colab-df-quickchart:hover {\n",
              "    background-color: var(--hover-bg-color);\n",
              "    box-shadow: 0 1px 2px rgba(60, 64, 67, 0.3), 0 1px 3px 1px rgba(60, 64, 67, 0.15);\n",
              "    fill: var(--button-hover-fill-color);\n",
              "  }\n",
              "\n",
              "  .colab-df-quickchart-complete:disabled,\n",
              "  .colab-df-quickchart-complete:disabled:hover {\n",
              "    background-color: var(--disabled-bg-color);\n",
              "    fill: var(--disabled-fill-color);\n",
              "    box-shadow: none;\n",
              "  }\n",
              "\n",
              "  .colab-df-spinner {\n",
              "    border: 2px solid var(--fill-color);\n",
              "    border-color: transparent;\n",
              "    border-bottom-color: var(--fill-color);\n",
              "    animation:\n",
              "      spin 1s steps(1) infinite;\n",
              "  }\n",
              "\n",
              "  @keyframes spin {\n",
              "    0% {\n",
              "      border-color: transparent;\n",
              "      border-bottom-color: var(--fill-color);\n",
              "      border-left-color: var(--fill-color);\n",
              "    }\n",
              "    20% {\n",
              "      border-color: transparent;\n",
              "      border-left-color: var(--fill-color);\n",
              "      border-top-color: var(--fill-color);\n",
              "    }\n",
              "    30% {\n",
              "      border-color: transparent;\n",
              "      border-left-color: var(--fill-color);\n",
              "      border-top-color: var(--fill-color);\n",
              "      border-right-color: var(--fill-color);\n",
              "    }\n",
              "    40% {\n",
              "      border-color: transparent;\n",
              "      border-right-color: var(--fill-color);\n",
              "      border-top-color: var(--fill-color);\n",
              "    }\n",
              "    60% {\n",
              "      border-color: transparent;\n",
              "      border-right-color: var(--fill-color);\n",
              "    }\n",
              "    80% {\n",
              "      border-color: transparent;\n",
              "      border-right-color: var(--fill-color);\n",
              "      border-bottom-color: var(--fill-color);\n",
              "    }\n",
              "    90% {\n",
              "      border-color: transparent;\n",
              "      border-bottom-color: var(--fill-color);\n",
              "    }\n",
              "  }\n",
              "</style>\n",
              "\n",
              "  <script>\n",
              "    async function quickchart(key) {\n",
              "      const quickchartButtonEl =\n",
              "        document.querySelector('#' + key + ' button');\n",
              "      quickchartButtonEl.disabled = true;  // To prevent multiple clicks.\n",
              "      quickchartButtonEl.classList.add('colab-df-spinner');\n",
              "      try {\n",
              "        const charts = await google.colab.kernel.invokeFunction(\n",
              "            'suggestCharts', [key], {});\n",
              "      } catch (error) {\n",
              "        console.error('Error during call to suggestCharts:', error);\n",
              "      }\n",
              "      quickchartButtonEl.classList.remove('colab-df-spinner');\n",
              "      quickchartButtonEl.classList.add('colab-df-quickchart-complete');\n",
              "    }\n",
              "    (() => {\n",
              "      let quickchartButtonEl =\n",
              "        document.querySelector('#df-875ef3cd-29ec-4d00-9361-4aa79ff74c99 button');\n",
              "      quickchartButtonEl.style.display =\n",
              "        google.colab.kernel.accessAllowed ? 'block' : 'none';\n",
              "    })();\n",
              "  </script>\n",
              "</div>\n",
              "    </div>\n",
              "  </div>\n"
            ]
          },
          "metadata": {},
          "execution_count": 11
        }
      ]
    },
    {
      "cell_type": "markdown",
      "source": [
        "**Checar se as colunas estão com o tipo adequado de dados**"
      ],
      "metadata": {
        "id": "X-M1NPdKMJv4"
      }
    },
    {
      "cell_type": "code",
      "source": [
        "df.info()"
      ],
      "metadata": {
        "colab": {
          "base_uri": "https://localhost:8080/"
        },
        "id": "X8h0NAPp_mIj",
        "outputId": "5c40a947-c2b2-422a-b001-12aab771eef2"
      },
      "execution_count": 12,
      "outputs": [
        {
          "output_type": "stream",
          "name": "stdout",
          "text": [
            "<class 'pandas.core.frame.DataFrame'>\n",
            "Int64Index: 5334 entries, 0 to 5333\n",
            "Data columns (total 31 columns):\n",
            " #   Column                    Non-Null Count  Dtype  \n",
            "---  ------                    --------------  -----  \n",
            " 0   SEQN                      5334 non-null   int64  \n",
            " 1   DPQ010                    4836 non-null   float64\n",
            " 2   DPQ020                    4836 non-null   float64\n",
            " 3   DPQ030                    4836 non-null   float64\n",
            " 4   DPQ040                    4836 non-null   float64\n",
            " 5   DPQ050                    4836 non-null   float64\n",
            " 6   DPQ060                    4836 non-null   float64\n",
            " 7   DPQ070                    4836 non-null   float64\n",
            " 8   DPQ080                    4836 non-null   float64\n",
            " 9   DPQ090                    4836 non-null   float64\n",
            " 10  RIAGENDR                  5334 non-null   int64  \n",
            " 11  RIDAGEYR                  5334 non-null   int64  \n",
            " 12  RIDRETH1                  5334 non-null   int64  \n",
            " 13  DMDEDUC                   5334 non-null   int64  \n",
            " 14  INDFMINC                  5287 non-null   float64\n",
            " 15  PAG_MINW                  5334 non-null   float64\n",
            " 16  ADHERENCE                 5334 non-null   float64\n",
            " 17  HEI2015C1_TOTALVEG        5060 non-null   float64\n",
            " 18  HEI2015C2_GREEN_AND_BEAN  5060 non-null   float64\n",
            " 19  HEI2015C3_TOTALFRUIT      5060 non-null   float64\n",
            " 20  HEI2015C4_WHOLEFRUIT      5060 non-null   float64\n",
            " 21  HEI2015C5_WHOLEGRAIN      5060 non-null   float64\n",
            " 22  HEI2015C6_TOTALDAIRY      5060 non-null   float64\n",
            " 23  HEI2015C7_TOTPROT         5060 non-null   float64\n",
            " 24  HEI2015C8_SEAPLANT_PROT   5060 non-null   float64\n",
            " 25  HEI2015C9_FATTYACID       5060 non-null   float64\n",
            " 26  HEI2015C10_SODIUM         5060 non-null   float64\n",
            " 27  HEI2015C11_REFINEDGRAIN   5060 non-null   float64\n",
            " 28  HEI2015C12_SFAT           5060 non-null   float64\n",
            " 29  HEI2015C13_ADDSUG         5060 non-null   float64\n",
            " 30  HEI2015_TOTAL_SCORE       5060 non-null   float64\n",
            "dtypes: float64(26), int64(5)\n",
            "memory usage: 1.3 MB\n"
          ]
        }
      ]
    },
    {
      "cell_type": "markdown",
      "source": [
        "**Ponto de atenção**: Nem todas as colunas estão com o formato adequado para a informação que o dado quer apresentar. Por exemplo,todas as colunas contendo **DPQ**, **INDFMINC**  e **ADHERENCE**  estão como FLOAT quando deveriam ser INT64 já que possuem valores representados por códigos numéricos de valor inteiro. Além disso, a coluna **SEQN** está como INT64, o que não está errado, mas como essa coluna é nosso código identificador e não queremos fazer nenhum cálculo com ela, vamos convertê-la para STR."
      ],
      "metadata": {
        "id": "GvXBuxjWAZtK"
      }
    },
    {
      "cell_type": "code",
      "source": [
        "#Entendendo a estatística descritiva de algumas colunas\n",
        "\n",
        "colunas_descritiva = ['INDFMINC','PAG_MINW','ADHERENCE','HEI2015_TOTAL_SCORE']\n",
        "\n",
        "descritiva = df[colunas_descritiva].describe()\n",
        "\n",
        "print(descritiva)"
      ],
      "metadata": {
        "colab": {
          "base_uri": "https://localhost:8080/"
        },
        "id": "DXWaI4Aq6F8q",
        "outputId": "bdcf7a8c-d059-4c75-800c-2f5a20fecf95"
      },
      "execution_count": 13,
      "outputs": [
        {
          "output_type": "stream",
          "name": "stdout",
          "text": [
            "          INDFMINC      PAG_MINW    ADHERENCE  HEI2015_TOTAL_SCORE\n",
            "count  5287.000000   5334.000000  5334.000000          5060.000000\n",
            "mean      8.738604    471.765732     1.979753            49.971421\n",
            "std      12.777756    780.352823     0.918364            12.324533\n",
            "min       1.000000      0.000000     1.000000            16.059212\n",
            "25%       4.000000     35.000000     1.000000            41.032289\n",
            "50%       7.000000    210.000000     2.000000            49.512445\n",
            "75%      10.000000    568.931871     3.000000            58.168013\n",
            "max      99.000000  10777.829099     3.000000            89.529383\n"
          ]
        }
      ]
    },
    {
      "cell_type": "markdown",
      "source": [
        "Vamos analisar a estatística descritiva das 4 colunas separadamente:\n",
        "\n",
        "\n",
        "\n",
        "1. INDFMINC (renda anual familiar): os valores indicam que 50% da amostra ganha de 35000 a 44999. Sabendo que a média é de 55000-64999, entendemos que os outros 50% da amostra que ganham mais que 35000 puxam a média para cima. Os valores estão condizentes dentre as possibilidades da coluna.\n",
        "2. PAG_MINW (tempo total semanal de atividade em minutos): o valor máximo indica que temos valores indevidos no dataset, pois 10777 minutos é o equivalente a mais de 25h por dia de exercício físico, o que sabemos que não é possível. Precisamos remover esse dado.\n",
        "3. ADHERENCE (categoria para determinar se o usuário atende ao tempo adequado de exercício semanal): 50% da amostra pratica atividade física em uma duração adequada. Os valores estão condizentes dentre as possibilidades da coluna.\n",
        "4. HEI2015_TOTAL_SCORE (score total que varia de 0 a 100): Vemos que o score dos hábitos saudáveis chegam em 58 para 75% da amostra, o que é baixo quando pensamos que o limite máximo é 100. Os valores estão condizentes dentre as possibilidades da coluna."
      ],
      "metadata": {
        "id": "4CAhWo8fvcjZ"
      }
    },
    {
      "cell_type": "markdown",
      "source": [
        "###**Tratamento dos Dados**"
      ],
      "metadata": {
        "id": "BelX_BtZdGIx"
      }
    },
    {
      "cell_type": "code",
      "source": [
        "#Vamos manter as linhas vazias da coluna DPQ, mas vamos preenchê-la com o valor \"7\" que significa \"Se recusou a responder\".\n",
        "DPQs_NaN = ['DPQ010', 'DPQ020', 'DPQ030', 'DPQ040', 'DPQ050', 'DPQ060', 'DPQ070', 'DPQ080', 'DPQ090']\n",
        "df[DPQs_NaN] = df[DPQs_NaN].replace(np.nan,7)"
      ],
      "metadata": {
        "id": "MgdnKenTfC99"
      },
      "execution_count": 14,
      "outputs": []
    },
    {
      "cell_type": "code",
      "source": [
        "#Vamos manter as linhas vazias da coluna INDFMINC, mas vamos preenchê-la com o valor \"77\" que significa \"Se recusou a responder\".\n",
        "INDFMINC_NaN = ['INDFMINC']\n",
        "df[INDFMINC_NaN] = df[INDFMINC_NaN].replace(np.nan,77)"
      ],
      "metadata": {
        "id": "b4TicRFYi_5K"
      },
      "execution_count": 15,
      "outputs": []
    },
    {
      "cell_type": "code",
      "source": [
        "#Vamos remover os respondentes que não possuem valores nas colunas de score de hábitos alimentares.\n",
        "remover_vazio = ['HEI2015C1_TOTALVEG', \t'HEI2015C2_GREEN_AND_BEAN', \t'HEI2015C3_TOTALFRUIT', \t'HEI2015C4_WHOLEFRUIT', \t'HEI2015C5_WHOLEGRAIN', \t'HEI2015C6_TOTALDAIRY', \t'HEI2015C7_TOTPROT', \t'HEI2015C8_SEAPLANT_PROT', \t'HEI2015C9_FATTYACID', \t'HEI2015C10_SODIUM', \t'HEI2015C11_REFINEDGRAIN', \t'HEI2015C12_SFAT', \t'HEI2015C13_ADDSUG', \t'HEI2015_TOTAL_SCORE']\n",
        "df = df.dropna(subset=remover_vazio)"
      ],
      "metadata": {
        "id": "h-Y0h0Ppj-nY"
      },
      "execution_count": 16,
      "outputs": []
    },
    {
      "cell_type": "code",
      "source": [
        "#Convertendo a coluna INT para STR\n",
        "coluna_int64 = 'SEQN'\n",
        "df[coluna_int64] = df[coluna_int64].astype(str)"
      ],
      "metadata": {
        "id": "wfM_s6tSewt8",
        "colab": {
          "base_uri": "https://localhost:8080/"
        },
        "outputId": "c3b4f2c6-dbaa-46bd-b3a8-a03fdf3b5051"
      },
      "execution_count": 17,
      "outputs": [
        {
          "output_type": "stream",
          "name": "stderr",
          "text": [
            "<ipython-input-17-b3cdd0737f02>:3: SettingWithCopyWarning: \n",
            "A value is trying to be set on a copy of a slice from a DataFrame.\n",
            "Try using .loc[row_indexer,col_indexer] = value instead\n",
            "\n",
            "See the caveats in the documentation: https://pandas.pydata.org/pandas-docs/stable/user_guide/indexing.html#returning-a-view-versus-a-copy\n",
            "  df[coluna_int64] = df[coluna_int64].astype(str)\n"
          ]
        }
      ]
    },
    {
      "cell_type": "code",
      "source": [
        "#Convertendo as colunas de FLOAT para INT\n",
        "colunas_float = ['DPQ010', 'DPQ020', 'DPQ030', 'DPQ040', 'DPQ050', 'DPQ060', 'DPQ070', 'DPQ080', 'DPQ090','INDFMINC','ADHERENCE']\n",
        "df[colunas_float] = df[colunas_float].astype('int64')"
      ],
      "metadata": {
        "id": "b5PS-sovdKIY",
        "colab": {
          "base_uri": "https://localhost:8080/"
        },
        "outputId": "f1776aa1-48f6-4d5f-ff7b-6d05e0392df6"
      },
      "execution_count": 18,
      "outputs": [
        {
          "output_type": "stream",
          "name": "stderr",
          "text": [
            "<ipython-input-18-c8c62df77931>:3: SettingWithCopyWarning: \n",
            "A value is trying to be set on a copy of a slice from a DataFrame.\n",
            "Try using .loc[row_indexer,col_indexer] = value instead\n",
            "\n",
            "See the caveats in the documentation: https://pandas.pydata.org/pandas-docs/stable/user_guide/indexing.html#returning-a-view-versus-a-copy\n",
            "  df[colunas_float] = df[colunas_float].astype('int64')\n"
          ]
        }
      ]
    },
    {
      "cell_type": "code",
      "source": [
        "#Conhecendo o novo dataframe\n",
        "df.info()"
      ],
      "metadata": {
        "colab": {
          "base_uri": "https://localhost:8080/"
        },
        "id": "4MBJTkTyhoVE",
        "outputId": "6a5feea7-f04f-4a88-ae5c-2a8c3e659e20"
      },
      "execution_count": 19,
      "outputs": [
        {
          "output_type": "stream",
          "name": "stdout",
          "text": [
            "<class 'pandas.core.frame.DataFrame'>\n",
            "Int64Index: 5060 entries, 1 to 5333\n",
            "Data columns (total 31 columns):\n",
            " #   Column                    Non-Null Count  Dtype  \n",
            "---  ------                    --------------  -----  \n",
            " 0   SEQN                      5060 non-null   object \n",
            " 1   DPQ010                    5060 non-null   int64  \n",
            " 2   DPQ020                    5060 non-null   int64  \n",
            " 3   DPQ030                    5060 non-null   int64  \n",
            " 4   DPQ040                    5060 non-null   int64  \n",
            " 5   DPQ050                    5060 non-null   int64  \n",
            " 6   DPQ060                    5060 non-null   int64  \n",
            " 7   DPQ070                    5060 non-null   int64  \n",
            " 8   DPQ080                    5060 non-null   int64  \n",
            " 9   DPQ090                    5060 non-null   int64  \n",
            " 10  RIAGENDR                  5060 non-null   int64  \n",
            " 11  RIDAGEYR                  5060 non-null   int64  \n",
            " 12  RIDRETH1                  5060 non-null   int64  \n",
            " 13  DMDEDUC                   5060 non-null   int64  \n",
            " 14  INDFMINC                  5060 non-null   int64  \n",
            " 15  PAG_MINW                  5060 non-null   float64\n",
            " 16  ADHERENCE                 5060 non-null   int64  \n",
            " 17  HEI2015C1_TOTALVEG        5060 non-null   float64\n",
            " 18  HEI2015C2_GREEN_AND_BEAN  5060 non-null   float64\n",
            " 19  HEI2015C3_TOTALFRUIT      5060 non-null   float64\n",
            " 20  HEI2015C4_WHOLEFRUIT      5060 non-null   float64\n",
            " 21  HEI2015C5_WHOLEGRAIN      5060 non-null   float64\n",
            " 22  HEI2015C6_TOTALDAIRY      5060 non-null   float64\n",
            " 23  HEI2015C7_TOTPROT         5060 non-null   float64\n",
            " 24  HEI2015C8_SEAPLANT_PROT   5060 non-null   float64\n",
            " 25  HEI2015C9_FATTYACID       5060 non-null   float64\n",
            " 26  HEI2015C10_SODIUM         5060 non-null   float64\n",
            " 27  HEI2015C11_REFINEDGRAIN   5060 non-null   float64\n",
            " 28  HEI2015C12_SFAT           5060 non-null   float64\n",
            " 29  HEI2015C13_ADDSUG         5060 non-null   float64\n",
            " 30  HEI2015_TOTAL_SCORE       5060 non-null   float64\n",
            "dtypes: float64(15), int64(15), object(1)\n",
            "memory usage: 1.2+ MB\n"
          ]
        }
      ]
    },
    {
      "cell_type": "code",
      "source": [
        "#Renomeando colunas\n",
        "mapeamento_colunas = {'RIAGENDR': 'Genero', 'RIDAGEYR': 'Idade', 'RIDRETH1': 'Etnia', 'DMDEDUC': 'Escolaridade', 'INDFMINC': 'Renda Anual Familiar (USD)', 'PAG_MINW': 'Tempo de Atividade Fisica (min)', 'ADHERENCE': 'Aderencia', 'HEI2015_TOTAL_SCORE': 'Score Total'}\n",
        "df = df.rename(columns=mapeamento_colunas)\n",
        "\n",
        "df.info()\n"
      ],
      "metadata": {
        "colab": {
          "base_uri": "https://localhost:8080/"
        },
        "id": "cKIG165G0kVa",
        "outputId": "f999fa46-a685-4ce2-9fbf-1da9b3d6b064"
      },
      "execution_count": 20,
      "outputs": [
        {
          "output_type": "stream",
          "name": "stdout",
          "text": [
            "<class 'pandas.core.frame.DataFrame'>\n",
            "Int64Index: 5060 entries, 1 to 5333\n",
            "Data columns (total 31 columns):\n",
            " #   Column                           Non-Null Count  Dtype  \n",
            "---  ------                           --------------  -----  \n",
            " 0   SEQN                             5060 non-null   object \n",
            " 1   DPQ010                           5060 non-null   int64  \n",
            " 2   DPQ020                           5060 non-null   int64  \n",
            " 3   DPQ030                           5060 non-null   int64  \n",
            " 4   DPQ040                           5060 non-null   int64  \n",
            " 5   DPQ050                           5060 non-null   int64  \n",
            " 6   DPQ060                           5060 non-null   int64  \n",
            " 7   DPQ070                           5060 non-null   int64  \n",
            " 8   DPQ080                           5060 non-null   int64  \n",
            " 9   DPQ090                           5060 non-null   int64  \n",
            " 10  Genero                           5060 non-null   int64  \n",
            " 11  Idade                            5060 non-null   int64  \n",
            " 12  Etnia                            5060 non-null   int64  \n",
            " 13  Escolaridade                     5060 non-null   int64  \n",
            " 14  Renda Anual Familiar (USD)       5060 non-null   int64  \n",
            " 15  Tempo de Atividade Fisica (min)  5060 non-null   float64\n",
            " 16  Aderencia                        5060 non-null   int64  \n",
            " 17  HEI2015C1_TOTALVEG               5060 non-null   float64\n",
            " 18  HEI2015C2_GREEN_AND_BEAN         5060 non-null   float64\n",
            " 19  HEI2015C3_TOTALFRUIT             5060 non-null   float64\n",
            " 20  HEI2015C4_WHOLEFRUIT             5060 non-null   float64\n",
            " 21  HEI2015C5_WHOLEGRAIN             5060 non-null   float64\n",
            " 22  HEI2015C6_TOTALDAIRY             5060 non-null   float64\n",
            " 23  HEI2015C7_TOTPROT                5060 non-null   float64\n",
            " 24  HEI2015C8_SEAPLANT_PROT          5060 non-null   float64\n",
            " 25  HEI2015C9_FATTYACID              5060 non-null   float64\n",
            " 26  HEI2015C10_SODIUM                5060 non-null   float64\n",
            " 27  HEI2015C11_REFINEDGRAIN          5060 non-null   float64\n",
            " 28  HEI2015C12_SFAT                  5060 non-null   float64\n",
            " 29  HEI2015C13_ADDSUG                5060 non-null   float64\n",
            " 30  Score Total                      5060 non-null   float64\n",
            "dtypes: float64(15), int64(15), object(1)\n",
            "memory usage: 1.2+ MB\n"
          ]
        }
      ]
    },
    {
      "cell_type": "code",
      "source": [
        "#Removendo valores impossíveis\n",
        "filtro1 = df['Tempo de Atividade Fisica (min)'] < 10000"
      ],
      "metadata": {
        "id": "DTEonpcd4E-t"
      },
      "execution_count": 21,
      "outputs": []
    },
    {
      "cell_type": "code",
      "source": [
        "#Aplicar os filtros e criar o novo dataframe\n",
        "df = df[filtro1]\n",
        "\n",
        "# Checando novo dataframe\n",
        "df.shape"
      ],
      "metadata": {
        "colab": {
          "base_uri": "https://localhost:8080/"
        },
        "id": "PHjWu9aPtWBM",
        "outputId": "04710d97-fb3a-4bba-b383-0ef880dfb093"
      },
      "execution_count": 22,
      "outputs": [
        {
          "output_type": "execute_result",
          "data": {
            "text/plain": [
              "(5056, 31)"
            ]
          },
          "metadata": {},
          "execution_count": 22
        }
      ]
    },
    {
      "cell_type": "markdown",
      "source": [
        "###**Análise Exploratória**"
      ],
      "metadata": {
        "id": "ZIEbOR-bJeQS"
      }
    },
    {
      "cell_type": "markdown",
      "source": [
        "Numérica (histograma e densidade)\n",
        "- Idade\n",
        "- Renda anual\n",
        "- Tempo total semanal de atividade aeróbica moderada\n",
        "- Score total\n",
        "\n",
        "Medidas de posição  e de dispersão:  Média Mediana  Moda Desvio-padrão  Percentis\n",
        "\n",
        "\n",
        "Categórica (Gráﬁco de barras)\n",
        "- Etnia\n",
        "- Gênero\n",
        "- Escolaridade\n",
        "\n",
        "Frequências:  Absoluta (n)  Relativa (%)\n",
        "\n"
      ],
      "metadata": {
        "id": "PRbwp3bM6lhB"
      }
    },
    {
      "cell_type": "markdown",
      "source": [
        "**Medidas de Posição e Dispersão**"
      ],
      "metadata": {
        "id": "6-M96xXi-KPT"
      }
    },
    {
      "cell_type": "code",
      "source": [
        "colunas_descritiva = ['Idade','Renda Anual Familiar (USD)','Tempo de Atividade Fisica (min)', 'Score Total']\n",
        "\n",
        "descritiva = df[colunas_descritiva].describe()\n",
        "\n",
        "print(descritiva)"
      ],
      "metadata": {
        "colab": {
          "base_uri": "https://localhost:8080/"
        },
        "id": "zVY9xxgY97Hh",
        "outputId": "8239e3db-63f2-4fa4-b493-2b4bfef07845"
      },
      "execution_count": 34,
      "outputs": [
        {
          "output_type": "stream",
          "name": "stdout",
          "text": [
            "             Idade  Renda Anual Familiar (USD)  \\\n",
            "count  5056.000000                 5056.000000   \n",
            "mean     44.903481                    9.092959   \n",
            "std      19.988191                   13.423456   \n",
            "min      18.000000                    1.000000   \n",
            "25%      27.000000                    5.000000   \n",
            "50%      42.000000                    7.000000   \n",
            "75%      61.000000                   10.000000   \n",
            "max      85.000000                   99.000000   \n",
            "\n",
            "       Tempo de Atividade Fisica (min)  Score Total  \n",
            "count                      5056.000000  5056.000000  \n",
            "mean                        470.294634    49.979002  \n",
            "std                         737.018502    12.322359  \n",
            "min                           0.000000    16.059212  \n",
            "25%                          41.570439    41.034792  \n",
            "50%                         212.471132    49.522808  \n",
            "75%                         580.254042    58.172212  \n",
            "max                        9237.228637    89.529383  \n"
          ]
        }
      ]
    },
    {
      "cell_type": "code",
      "source": [
        "df['Idade'].hist()"
      ],
      "metadata": {
        "colab": {
          "base_uri": "https://localhost:8080/",
          "height": 447
        },
        "id": "x5kWBX-9UegM",
        "outputId": "12cf56ca-7a23-4a68-ca2b-e27279a7aebf"
      },
      "execution_count": 23,
      "outputs": [
        {
          "output_type": "execute_result",
          "data": {
            "text/plain": [
              "<Axes: >"
            ]
          },
          "metadata": {},
          "execution_count": 23
        },
        {
          "output_type": "display_data",
          "data": {
            "text/plain": [
              "<Figure size 640x480 with 1 Axes>"
            ],
            "image/png": "[encoded data removed]"
          },
          "metadata": {}
        }
      ]
    },
    {
      "cell_type": "code",
      "source": [
        "df['Tempo de Atividade Fisica (min)'].hist()"
      ],
      "metadata": {
        "colab": {
          "base_uri": "https://localhost:8080/",
          "height": 447
        },
        "id": "yldoH6o28hnR",
        "outputId": "e096cbf3-6542-4071-e2e6-59f95efa6c13"
      },
      "execution_count": 30,
      "outputs": [
        {
          "output_type": "execute_result",
          "data": {
            "text/plain": [
              "<Axes: >"
            ]
          },
          "metadata": {},
          "execution_count": 30
        },
        {
          "output_type": "display_data",
          "data": {
            "text/plain": [
              "<Figure size 640x480 with 1 Axes>"
            ],
            "image/png": "[encoded data removed]"
          },
          "metadata": {}
        }
      ]
    },
    {
      "cell_type": "code",
      "source": [
        "df['Score Total'].hist()"
      ],
      "metadata": {
        "colab": {
          "base_uri": "https://localhost:8080/",
          "height": 447
        },
        "id": "-6a6VfXE9q35",
        "outputId": "29df4761-562b-4cef-aec8-619a211b3837"
      },
      "execution_count": 31,
      "outputs": [
        {
          "output_type": "execute_result",
          "data": {
            "text/plain": [
              "<Axes: >"
            ]
          },
          "metadata": {},
          "execution_count": 31
        },
        {
          "output_type": "display_data",
          "data": {
            "text/plain": [
              "<Figure size 640x480 with 1 Axes>"
            ],
            "image/png": "[encoded data removed]"
          },
          "metadata": {}
        }
      ]
    },
    {
      "cell_type": "markdown",
      "source": [
        "###**Pergunta 1 - Perfil de Indivíduos com Sintomas Depressivos**"
      ],
      "metadata": {
        "id": "XL3ZERz-uJEh"
      }
    },
    {
      "cell_type": "code",
      "source": [
        "#Análise Exploratória\n",
        "\n",
        "#Filtrar indivíduos onde os índices não são 0 e 1, 7 e 9, ou seja, é 2 e 3\n",
        "\n",
        "#qual a renda familiar, qual gênero, quais os hábitos alimentares, qual a idade, qual etnia, qual a escolaridade\n",
        "\n",
        "#Trazer histograma, boxplot, countplot, scatter, percentis e quartis"
      ],
      "metadata": {
        "id": "k3zW-KeWuLV0"
      },
      "execution_count": 25,
      "outputs": []
    },
    {
      "cell_type": "code",
      "source": [
        "filtro_DPQ010 = df[(df['DPQ010'] == 2) | (df['DPQ010'] == 3)]\n",
        "filtro_DPQ020 = df[(df['DPQ020'] == 2) | (df['DPQ020'] == 3)]\n",
        "filtro_DPQ030 = df[(df['DPQ030'] == 2) | (df['DPQ030'] == 3)]\n",
        "filtro_DPQ040 = df[(df['DPQ040'] == 2) | (df['DPQ040'] == 3)]\n",
        "filtro_DPQ050 = df[(df['DPQ050'] == 2) | (df['DPQ050'] == 3)]\n",
        "filtro_DPQ060 = df[(df['DPQ060'] == 2) | (df['DPQ060'] == 3)]\n",
        "filtro_DPQ070 = df[(df['DPQ070'] == 2) | (df['DPQ070'] == 3)]\n",
        "filtro_DPQ090 = df[(df['DPQ080'] == 2) | (df['DPQ080'] == 3)]\n",
        "filtro_DPQ090 = df[(df['DPQ090'] == 2) | (df['DPQ090'] == 3)]"
      ],
      "metadata": {
        "id": "wFXpdEHNHBki"
      },
      "execution_count": 26,
      "outputs": []
    },
    {
      "cell_type": "code",
      "source": [
        "# Entendendo a estatística descritiva de algumas colunas\n",
        "colunas_descritiva = ['Idade','Renda Anual Familiar (USD)','Tempo de Atividade Fisica (min)','Aderencia','Score Total']\n",
        "descritiva = df[colunas_descritiva].describe()\n",
        "print(descritiva)"
      ],
      "metadata": {
        "colab": {
          "base_uri": "https://localhost:8080/"
        },
        "id": "hGqMV0dF9Pav",
        "outputId": "9c582d20-4ca0-460b-9e36-da393fcd60cd"
      },
      "execution_count": 27,
      "outputs": [
        {
          "output_type": "stream",
          "name": "stdout",
          "text": [
            "             Idade  Renda Anual Familiar (USD)  \\\n",
            "count  5056.000000                 5056.000000   \n",
            "mean     44.903481                    9.092959   \n",
            "std      19.988191                   13.423456   \n",
            "min      18.000000                    1.000000   \n",
            "25%      27.000000                    5.000000   \n",
            "50%      42.000000                    7.000000   \n",
            "75%      61.000000                   10.000000   \n",
            "max      85.000000                   99.000000   \n",
            "\n",
            "       Tempo de Atividade Fisica (min)    Aderencia  Score Total  \n",
            "count                      5056.000000  5056.000000  5056.000000  \n",
            "mean                        470.294634     1.990111    49.979002  \n",
            "std                         737.018502     0.918165    12.322359  \n",
            "min                           0.000000     1.000000    16.059212  \n",
            "25%                          41.570439     1.000000    41.034792  \n",
            "50%                         212.471132     2.000000    49.522808  \n",
            "75%                         580.254042     3.000000    58.172212  \n",
            "max                        9237.228637     3.000000    89.529383  \n"
          ]
        }
      ]
    },
    {
      "cell_type": "code",
      "source": [
        "# Entendendo a distribuição de renda das pessoas\n",
        "\n",
        "df['Idade'].hist()"
      ],
      "metadata": {
        "colab": {
          "base_uri": "https://localhost:8080/",
          "height": 447
        },
        "id": "h7Crvohh_F7o",
        "outputId": "f80ca5cd-628c-49a0-aaac-9089fdad2514"
      },
      "execution_count": 28,
      "outputs": [
        {
          "output_type": "execute_result",
          "data": {
            "text/plain": [
              "<Axes: >"
            ]
          },
          "metadata": {},
          "execution_count": 28
        },
        {
          "output_type": "display_data",
          "data": {
            "text/plain": [
              "<Figure size 640x480 with 1 Axes>"
            ],
            "image/png": "[encoded data removed]"
          },
          "metadata": {}
        }
      ]
    },
    {
      "cell_type": "code",
      "source": [
        "sns.countplot(x=df['DPQ010'])"
      ],
      "metadata": {
        "colab": {
          "base_uri": "https://localhost:8080/",
          "height": 466
        },
        "id": "fqdmtX2XDd9X",
        "outputId": "1bfece84-f13d-48a2-a760-f5d49fdae482"
      },
      "execution_count": 29,
      "outputs": [
        {
          "output_type": "execute_result",
          "data": {
            "text/plain": [
              "<Axes: xlabel='DPQ010', ylabel='count'>"
            ]
          },
          "metadata": {},
          "execution_count": 29
        },
        {
          "output_type": "display_data",
          "data": {
            "text/plain": [
              "<Figure size 640x480 with 1 Axes>"
            ],
            "image/png": "[encoded data removed]"
          },
          "metadata": {}
        }
      ]
    },
    {
      "cell_type": "markdown",
      "source": [
        "###**Teste de Hipótese - Teste-t independente**"
      ],
      "metadata": {
        "id": "VYUw8vtrRzQJ"
      }
    },
    {
      "cell_type": "markdown",
      "source": [
        "**Pergunta 2 - A média**"
      ],
      "metadata": {
        "id": "5EJF-310OGd7"
      }
    }
  ]
}