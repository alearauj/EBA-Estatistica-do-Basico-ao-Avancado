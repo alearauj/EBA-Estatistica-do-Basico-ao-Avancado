{
  "nbformat": 4,
  "nbformat_minor": 0,
  "metadata": {
    "colab": {
      "provenance": [],
      "collapsed_sections": [
        "8DW_2W2KLc9w",
        "pocdnV3gMLc8"
      ],
      "mount_file_id": "1EppG2KB7CMDq-KU02HaLxGpbQ_Qx6qtQ",
      "authorship_tag": "ABX9TyOSS2K9srjWmn42D8WlGIS9",
      "include_colab_link": true
    },
    "kernelspec": {
      "name": "python3",
      "display_name": "Python 3"
    },
    "language_info": {
      "name": "python"
    }
  },
  "cells": [
    {
      "cell_type": "markdown",
      "metadata": {
        "id": "view-in-github",
        "colab_type": "text"
      },
      "source": [
        "<a href=\"https://colab.research.google.com/github/alearauj/EBA-Estatistica-do-Basico-ao-Avancado/blob/main/EBA_Projeto_Final.ipynb\" target=\"_parent\"><img src=\"https://colab.research.google.com/assets/colab-badge.svg\" alt=\"Open In Colab\"/></a>"
      ]
    },
    {
      "cell_type": "markdown",
      "source": [
        "**Projeto Final do curso EBA - Estatística do Básico ao Avançado**"
      ],
      "metadata": {
        "id": "BHni0GfqG0Px"
      }
    },
    {
      "cell_type": "markdown",
      "source": [
        "####Preparando as liberações"
      ],
      "metadata": {
        "id": "8DW_2W2KLc9w"
      }
    },
    {
      "cell_type": "code",
      "source": [
        "# Importando todas as bibliotecas necessárias\n",
        "import pandas as pd\n",
        "import numpy as np\n",
        "import matplotlib.pyplot as plt\n",
        "import seaborn as sns"
      ],
      "metadata": {
        "id": "9hqUi7iKHGEJ"
      },
      "execution_count": 59,
      "outputs": []
    },
    {
      "cell_type": "code",
      "source": [
        "# Liberando acesso ao drive\n",
        "from google.colab import drive\n",
        "drive.mount('/content/drive')"
      ],
      "metadata": {
        "colab": {
          "base_uri": "https://localhost:8080/"
        },
        "id": "QuB8D0g3I34K",
        "outputId": "bd15cf24-aa53-4c28-df1e-4b95bd16b7f4"
      },
      "execution_count": 60,
      "outputs": [
        {
          "output_type": "stream",
          "name": "stdout",
          "text": [
            "Drive already mounted at /content/drive; to attempt to forcibly remount, call drive.mount(\"/content/drive\", force_remount=True).\n"
          ]
        }
      ]
    },
    {
      "cell_type": "markdown",
      "source": [
        "####Preparando o dataset"
      ],
      "metadata": {
        "id": "pocdnV3gMLc8"
      }
    },
    {
      "cell_type": "code",
      "source": [
        "# Importando o primeiro csv\n",
        "df1 = pd.read_csv(\"//content/drive/MyDrive/Cursos/Renata Biaggi - Estatística do básico ao avançado/Projeto Final - Teste de Hipótese/DEMO_PHQ.csv\", encoding = \"UTF-8\")"
      ],
      "metadata": {
        "id": "R37pNeNEJW7f"
      },
      "execution_count": 61,
      "outputs": []
    },
    {
      "cell_type": "code",
      "source": [
        "# Importando o segundo csv\n",
        "df2 = pd.read_csv(\"/content/drive/MyDrive/Cursos/Renata Biaggi - Estatística do básico ao avançado/Projeto Final - Teste de Hipótese/PAG_HEI.csv\", encoding = \"UTF-8\")"
      ],
      "metadata": {
        "id": "A5SqJ18cKYrh"
      },
      "execution_count": 62,
      "outputs": []
    },
    {
      "cell_type": "code",
      "source": [
        "# Unindo os arquivos\n",
        "df = pd.merge(df1, df2, on='SEQN', how='left')"
      ],
      "metadata": {
        "id": "636i-f9pMWs8"
      },
      "execution_count": 63,
      "outputs": []
    },
    {
      "cell_type": "code",
      "source": [
        "#Checando se o tamanho do arquivo gerado está coerente com o esperado.\n",
        "df.shape"
      ],
      "metadata": {
        "colab": {
          "base_uri": "https://localhost:8080/"
        },
        "id": "SNvJRpWK65KC",
        "outputId": "5f47a608-3cc8-4ff4-8041-c9b9a8babcaf"
      },
      "execution_count": 64,
      "outputs": [
        {
          "output_type": "execute_result",
          "data": {
            "text/plain": [
              "(5334, 31)"
            ]
          },
          "metadata": {},
          "execution_count": 64
        }
      ]
    },
    {
      "cell_type": "markdown",
      "source": [
        "####Explorando os dataframes\n"
      ],
      "metadata": {
        "id": "vM_6114nOGxM"
      }
    },
    {
      "cell_type": "code",
      "source": [
        "# Conhecendo as colunas\n",
        "df.head()"
      ],
      "metadata": {
        "colab": {
          "base_uri": "https://localhost:8080/",
          "height": 0
        },
        "id": "wmtbWLbfOMz0",
        "outputId": "30e57f65-8bb6-408b-87e4-8978b4082291"
      },
      "execution_count": 65,
      "outputs": [
        {
          "output_type": "execute_result",
          "data": {
            "text/plain": [
              "    SEQN  DPQ010  DPQ020  DPQ030  DPQ040  DPQ050  DPQ060  DPQ070  DPQ080  \\\n",
              "0  31130     NaN     NaN     NaN     NaN     NaN     NaN     NaN     NaN   \n",
              "1  31131     0.0     0.0     0.0     0.0     0.0     0.0     0.0     0.0   \n",
              "2  31132     0.0     0.0     0.0     0.0     0.0     0.0     0.0     0.0   \n",
              "3  31134     0.0     0.0     0.0     0.0     0.0     0.0     0.0     0.0   \n",
              "4  31139     0.0     0.0     0.0     0.0     3.0     1.0     0.0     0.0   \n",
              "\n",
              "   DPQ090  ...  HEI2015C5_WHOLEGRAIN  HEI2015C6_TOTALDAIRY  HEI2015C7_TOTPROT  \\\n",
              "0     NaN  ...                   NaN                   NaN                NaN   \n",
              "1     0.0  ...              0.000000              3.141062           4.071959   \n",
              "2     0.0  ...              5.000000              4.448512           5.000000   \n",
              "3     0.0  ...              2.217331              2.313900           5.000000   \n",
              "4     0.0  ...              0.211544              0.000000           4.088849   \n",
              "\n",
              "   HEI2015C8_SEAPLANT_PROT  HEI2015C9_FATTYACID  HEI2015C10_SODIUM  \\\n",
              "0                      NaN                  NaN                NaN   \n",
              "1                 2.052399             0.684985           2.297100   \n",
              "2                 0.000000             2.050769           7.369489   \n",
              "3                 1.268648             2.958985           0.000000   \n",
              "4                 4.221442            10.000000           2.845774   \n",
              "\n",
              "   HEI2015C11_REFINEDGRAIN  HEI2015C12_SFAT  HEI2015C13_ADDSUG  \\\n",
              "0                      NaN              NaN                NaN   \n",
              "1                 9.512964         0.438428           3.919226   \n",
              "2                 8.887880         8.186877           9.099088   \n",
              "3                 5.627488         5.863078           5.878686   \n",
              "4                 0.000000        10.000000           9.658507   \n",
              "\n",
              "   HEI2015_TOTAL_SCORE  \n",
              "0                  NaN  \n",
              "1            35.553899  \n",
              "2            63.551696  \n",
              "3            42.886826  \n",
              "4            47.074393  \n",
              "\n",
              "[5 rows x 31 columns]"
            ],
            "text/html": [
              "\n",
              "  <div id=\"df-500f13c9-8680-4dfc-aedc-258a33717504\">\n",
              "    <div class=\"colab-df-container\">\n",
              "      <div>\n",
              "<style scoped>\n",
              "    .dataframe tbody tr th:only-of-type {\n",
              "        vertical-align: middle;\n",
              "    }\n",
              "\n",
              "    .dataframe tbody tr th {\n",
              "        vertical-align: top;\n",
              "    }\n",
              "\n",
              "    .dataframe thead th {\n",
              "        text-align: right;\n",
              "    }\n",
              "</style>\n",
              "<table border=\"1\" class=\"dataframe\">\n",
              "  <thead>\n",
              "    <tr style=\"text-align: right;\">\n",
              "      <th></th>\n",
              "      <th>SEQN</th>\n",
              "      <th>DPQ010</th>\n",
              "      <th>DPQ020</th>\n",
              "      <th>DPQ030</th>\n",
              "      <th>DPQ040</th>\n",
              "      <th>DPQ050</th>\n",
              "      <th>DPQ060</th>\n",
              "      <th>DPQ070</th>\n",
              "      <th>DPQ080</th>\n",
              "      <th>DPQ090</th>\n",
              "      <th>...</th>\n",
              "      <th>HEI2015C5_WHOLEGRAIN</th>\n",
              "      <th>HEI2015C6_TOTALDAIRY</th>\n",
              "      <th>HEI2015C7_TOTPROT</th>\n",
              "      <th>HEI2015C8_SEAPLANT_PROT</th>\n",
              "      <th>HEI2015C9_FATTYACID</th>\n",
              "      <th>HEI2015C10_SODIUM</th>\n",
              "      <th>HEI2015C11_REFINEDGRAIN</th>\n",
              "      <th>HEI2015C12_SFAT</th>\n",
              "      <th>HEI2015C13_ADDSUG</th>\n",
              "      <th>HEI2015_TOTAL_SCORE</th>\n",
              "    </tr>\n",
              "  </thead>\n",
              "  <tbody>\n",
              "    <tr>\n",
              "      <th>0</th>\n",
              "      <td>31130</td>\n",
              "      <td>NaN</td>\n",
              "      <td>NaN</td>\n",
              "      <td>NaN</td>\n",
              "      <td>NaN</td>\n",
              "      <td>NaN</td>\n",
              "      <td>NaN</td>\n",
              "      <td>NaN</td>\n",
              "      <td>NaN</td>\n",
              "      <td>NaN</td>\n",
              "      <td>...</td>\n",
              "      <td>NaN</td>\n",
              "      <td>NaN</td>\n",
              "      <td>NaN</td>\n",
              "      <td>NaN</td>\n",
              "      <td>NaN</td>\n",
              "      <td>NaN</td>\n",
              "      <td>NaN</td>\n",
              "      <td>NaN</td>\n",
              "      <td>NaN</td>\n",
              "      <td>NaN</td>\n",
              "    </tr>\n",
              "    <tr>\n",
              "      <th>1</th>\n",
              "      <td>31131</td>\n",
              "      <td>0.0</td>\n",
              "      <td>0.0</td>\n",
              "      <td>0.0</td>\n",
              "      <td>0.0</td>\n",
              "      <td>0.0</td>\n",
              "      <td>0.0</td>\n",
              "      <td>0.0</td>\n",
              "      <td>0.0</td>\n",
              "      <td>0.0</td>\n",
              "      <td>...</td>\n",
              "      <td>0.000000</td>\n",
              "      <td>3.141062</td>\n",
              "      <td>4.071959</td>\n",
              "      <td>2.052399</td>\n",
              "      <td>0.684985</td>\n",
              "      <td>2.297100</td>\n",
              "      <td>9.512964</td>\n",
              "      <td>0.438428</td>\n",
              "      <td>3.919226</td>\n",
              "      <td>35.553899</td>\n",
              "    </tr>\n",
              "    <tr>\n",
              "      <th>2</th>\n",
              "      <td>31132</td>\n",
              "      <td>0.0</td>\n",
              "      <td>0.0</td>\n",
              "      <td>0.0</td>\n",
              "      <td>0.0</td>\n",
              "      <td>0.0</td>\n",
              "      <td>0.0</td>\n",
              "      <td>0.0</td>\n",
              "      <td>0.0</td>\n",
              "      <td>0.0</td>\n",
              "      <td>...</td>\n",
              "      <td>5.000000</td>\n",
              "      <td>4.448512</td>\n",
              "      <td>5.000000</td>\n",
              "      <td>0.000000</td>\n",
              "      <td>2.050769</td>\n",
              "      <td>7.369489</td>\n",
              "      <td>8.887880</td>\n",
              "      <td>8.186877</td>\n",
              "      <td>9.099088</td>\n",
              "      <td>63.551696</td>\n",
              "    </tr>\n",
              "    <tr>\n",
              "      <th>3</th>\n",
              "      <td>31134</td>\n",
              "      <td>0.0</td>\n",
              "      <td>0.0</td>\n",
              "      <td>0.0</td>\n",
              "      <td>0.0</td>\n",
              "      <td>0.0</td>\n",
              "      <td>0.0</td>\n",
              "      <td>0.0</td>\n",
              "      <td>0.0</td>\n",
              "      <td>0.0</td>\n",
              "      <td>...</td>\n",
              "      <td>2.217331</td>\n",
              "      <td>2.313900</td>\n",
              "      <td>5.000000</td>\n",
              "      <td>1.268648</td>\n",
              "      <td>2.958985</td>\n",
              "      <td>0.000000</td>\n",
              "      <td>5.627488</td>\n",
              "      <td>5.863078</td>\n",
              "      <td>5.878686</td>\n",
              "      <td>42.886826</td>\n",
              "    </tr>\n",
              "    <tr>\n",
              "      <th>4</th>\n",
              "      <td>31139</td>\n",
              "      <td>0.0</td>\n",
              "      <td>0.0</td>\n",
              "      <td>0.0</td>\n",
              "      <td>0.0</td>\n",
              "      <td>3.0</td>\n",
              "      <td>1.0</td>\n",
              "      <td>0.0</td>\n",
              "      <td>0.0</td>\n",
              "      <td>0.0</td>\n",
              "      <td>...</td>\n",
              "      <td>0.211544</td>\n",
              "      <td>0.000000</td>\n",
              "      <td>4.088849</td>\n",
              "      <td>4.221442</td>\n",
              "      <td>10.000000</td>\n",
              "      <td>2.845774</td>\n",
              "      <td>0.000000</td>\n",
              "      <td>10.000000</td>\n",
              "      <td>9.658507</td>\n",
              "      <td>47.074393</td>\n",
              "    </tr>\n",
              "  </tbody>\n",
              "</table>\n",
              "<p>5 rows × 31 columns</p>\n",
              "</div>\n",
              "      <button class=\"colab-df-convert\" onclick=\"convertToInteractive('df-500f13c9-8680-4dfc-aedc-258a33717504')\"\n",
              "              title=\"Convert this dataframe to an interactive table.\"\n",
              "              style=\"display:none;\">\n",
              "        \n",
              "  <svg xmlns=\"http://www.w3.org/2000/svg\" height=\"24px\"viewBox=\"0 0 24 24\"\n",
              "       width=\"24px\">\n",
              "    <path d=\"M0 0h24v24H0V0z\" fill=\"none\"/>\n",
              "    <path d=\"M18.56 5.44l.94 2.06.94-2.06 2.06-.94-2.06-.94-.94-2.06-.94 2.06-2.06.94zm-11 1L8.5 8.5l.94-2.06 2.06-.94-2.06-.94L8.5 2.5l-.94 2.06-2.06.94zm10 10l.94 2.06.94-2.06 2.06-.94-2.06-.94-.94-2.06-.94 2.06-2.06.94z\"/><path d=\"M17.41 7.96l-1.37-1.37c-.4-.4-.92-.59-1.43-.59-.52 0-1.04.2-1.43.59L10.3 9.45l-7.72 7.72c-.78.78-.78 2.05 0 2.83L4 21.41c.39.39.9.59 1.41.59.51 0 1.02-.2 1.41-.59l7.78-7.78 2.81-2.81c.8-.78.8-2.07 0-2.86zM5.41 20L4 18.59l7.72-7.72 1.47 1.35L5.41 20z\"/>\n",
              "  </svg>\n",
              "      </button>\n",
              "      \n",
              "  <style>\n",
              "    .colab-df-container {\n",
              "      display:flex;\n",
              "      flex-wrap:wrap;\n",
              "      gap: 12px;\n",
              "    }\n",
              "\n",
              "    .colab-df-convert {\n",
              "      background-color: #E8F0FE;\n",
              "      border: none;\n",
              "      border-radius: 50%;\n",
              "      cursor: pointer;\n",
              "      display: none;\n",
              "      fill: #1967D2;\n",
              "      height: 32px;\n",
              "      padding: 0 0 0 0;\n",
              "      width: 32px;\n",
              "    }\n",
              "\n",
              "    .colab-df-convert:hover {\n",
              "      background-color: #E2EBFA;\n",
              "      box-shadow: 0px 1px 2px rgba(60, 64, 67, 0.3), 0px 1px 3px 1px rgba(60, 64, 67, 0.15);\n",
              "      fill: #174EA6;\n",
              "    }\n",
              "\n",
              "    [theme=dark] .colab-df-convert {\n",
              "      background-color: #3B4455;\n",
              "      fill: #D2E3FC;\n",
              "    }\n",
              "\n",
              "    [theme=dark] .colab-df-convert:hover {\n",
              "      background-color: #434B5C;\n",
              "      box-shadow: 0px 1px 3px 1px rgba(0, 0, 0, 0.15);\n",
              "      filter: drop-shadow(0px 1px 2px rgba(0, 0, 0, 0.3));\n",
              "      fill: #FFFFFF;\n",
              "    }\n",
              "  </style>\n",
              "\n",
              "      <script>\n",
              "        const buttonEl =\n",
              "          document.querySelector('#df-500f13c9-8680-4dfc-aedc-258a33717504 button.colab-df-convert');\n",
              "        buttonEl.style.display =\n",
              "          google.colab.kernel.accessAllowed ? 'block' : 'none';\n",
              "\n",
              "        async function convertToInteractive(key) {\n",
              "          const element = document.querySelector('#df-500f13c9-8680-4dfc-aedc-258a33717504');\n",
              "          const dataTable =\n",
              "            await google.colab.kernel.invokeFunction('convertToInteractive',\n",
              "                                                     [key], {});\n",
              "          if (!dataTable) return;\n",
              "\n",
              "          const docLinkHtml = 'Like what you see? Visit the ' +\n",
              "            '<a target=\"_blank\" href=https://colab.research.google.com/notebooks/data_table.ipynb>data table notebook</a>'\n",
              "            + ' to learn more about interactive tables.';\n",
              "          element.innerHTML = '';\n",
              "          dataTable['output_type'] = 'display_data';\n",
              "          await google.colab.output.renderOutput(dataTable, element);\n",
              "          const docLink = document.createElement('div');\n",
              "          docLink.innerHTML = docLinkHtml;\n",
              "          element.appendChild(docLink);\n",
              "        }\n",
              "      </script>\n",
              "    </div>\n",
              "  </div>\n",
              "  "
            ]
          },
          "metadata": {},
          "execution_count": 65
        }
      ]
    },
    {
      "cell_type": "code",
      "source": [
        "# Conhecendo o dataframe\n",
        "df.info()"
      ],
      "metadata": {
        "colab": {
          "base_uri": "https://localhost:8080/"
        },
        "id": "X8h0NAPp_mIj",
        "outputId": "9bb1f4cf-b650-4f65-acd2-c0e9da7570b2"
      },
      "execution_count": 66,
      "outputs": [
        {
          "output_type": "stream",
          "name": "stdout",
          "text": [
            "<class 'pandas.core.frame.DataFrame'>\n",
            "Int64Index: 5334 entries, 0 to 5333\n",
            "Data columns (total 31 columns):\n",
            " #   Column                    Non-Null Count  Dtype  \n",
            "---  ------                    --------------  -----  \n",
            " 0   SEQN                      5334 non-null   int64  \n",
            " 1   DPQ010                    4836 non-null   float64\n",
            " 2   DPQ020                    4836 non-null   float64\n",
            " 3   DPQ030                    4836 non-null   float64\n",
            " 4   DPQ040                    4836 non-null   float64\n",
            " 5   DPQ050                    4836 non-null   float64\n",
            " 6   DPQ060                    4836 non-null   float64\n",
            " 7   DPQ070                    4836 non-null   float64\n",
            " 8   DPQ080                    4836 non-null   float64\n",
            " 9   DPQ090                    4836 non-null   float64\n",
            " 10  RIAGENDR                  5334 non-null   int64  \n",
            " 11  RIDAGEYR                  5334 non-null   int64  \n",
            " 12  RIDRETH1                  5334 non-null   int64  \n",
            " 13  DMDEDUC                   5334 non-null   int64  \n",
            " 14  INDFMINC                  5287 non-null   float64\n",
            " 15  PAG_MINW                  5334 non-null   float64\n",
            " 16  ADHERENCE                 5334 non-null   float64\n",
            " 17  HEI2015C1_TOTALVEG        5060 non-null   float64\n",
            " 18  HEI2015C2_GREEN_AND_BEAN  5060 non-null   float64\n",
            " 19  HEI2015C3_TOTALFRUIT      5060 non-null   float64\n",
            " 20  HEI2015C4_WHOLEFRUIT      5060 non-null   float64\n",
            " 21  HEI2015C5_WHOLEGRAIN      5060 non-null   float64\n",
            " 22  HEI2015C6_TOTALDAIRY      5060 non-null   float64\n",
            " 23  HEI2015C7_TOTPROT         5060 non-null   float64\n",
            " 24  HEI2015C8_SEAPLANT_PROT   5060 non-null   float64\n",
            " 25  HEI2015C9_FATTYACID       5060 non-null   float64\n",
            " 26  HEI2015C10_SODIUM         5060 non-null   float64\n",
            " 27  HEI2015C11_REFINEDGRAIN   5060 non-null   float64\n",
            " 28  HEI2015C12_SFAT           5060 non-null   float64\n",
            " 29  HEI2015C13_ADDSUG         5060 non-null   float64\n",
            " 30  HEI2015_TOTAL_SCORE       5060 non-null   float64\n",
            "dtypes: float64(26), int64(5)\n",
            "memory usage: 1.3 MB\n"
          ]
        }
      ]
    },
    {
      "cell_type": "markdown",
      "source": [
        "**Ponto de atenção**: Nem todas as colunas estão com o formato adequado para a informação que o dado quer apresentar. Por exemplo,todas as colunas contendo **DPQ**, **INDFMINC**  e **ADHERENCE**  estão como FLOAT quando deveriam ser INT64 já que possuem valores representados por códigos numéricos de valor inteiro. Além disso, a coluna **SEQN** está como INT64, o que não está errado, mas como essa coluna é nosso código identificador e não queremos fazer nenhum cálculo com ela, vamos convertê-la para STR."
      ],
      "metadata": {
        "id": "GvXBuxjWAZtK"
      }
    },
    {
      "cell_type": "code",
      "source": [
        "# Encontrando valores nulos\n",
        "\n",
        "df.isna().sum()"
      ],
      "metadata": {
        "colab": {
          "base_uri": "https://localhost:8080/"
        },
        "id": "lb-17ehRSnXL",
        "outputId": "90b3a19d-8a7a-4f96-e144-23a2c55c421a"
      },
      "execution_count": 67,
      "outputs": [
        {
          "output_type": "execute_result",
          "data": {
            "text/plain": [
              "SEQN                          0\n",
              "DPQ010                      498\n",
              "DPQ020                      498\n",
              "DPQ030                      498\n",
              "DPQ040                      498\n",
              "DPQ050                      498\n",
              "DPQ060                      498\n",
              "DPQ070                      498\n",
              "DPQ080                      498\n",
              "DPQ090                      498\n",
              "RIAGENDR                      0\n",
              "RIDAGEYR                      0\n",
              "RIDRETH1                      0\n",
              "DMDEDUC                       0\n",
              "INDFMINC                     47\n",
              "PAG_MINW                      0\n",
              "ADHERENCE                     0\n",
              "HEI2015C1_TOTALVEG          274\n",
              "HEI2015C2_GREEN_AND_BEAN    274\n",
              "HEI2015C3_TOTALFRUIT        274\n",
              "HEI2015C4_WHOLEFRUIT        274\n",
              "HEI2015C5_WHOLEGRAIN        274\n",
              "HEI2015C6_TOTALDAIRY        274\n",
              "HEI2015C7_TOTPROT           274\n",
              "HEI2015C8_SEAPLANT_PROT     274\n",
              "HEI2015C9_FATTYACID         274\n",
              "HEI2015C10_SODIUM           274\n",
              "HEI2015C11_REFINEDGRAIN     274\n",
              "HEI2015C12_SFAT             274\n",
              "HEI2015C13_ADDSUG           274\n",
              "HEI2015_TOTAL_SCORE         274\n",
              "dtype: int64"
            ]
          },
          "metadata": {},
          "execution_count": 67
        }
      ]
    },
    {
      "cell_type": "markdown",
      "source": [
        "Precisamos entender o que os valores nulos significam em cada uma das colunas para definirmos o que faremos com eles.\n",
        "\n",
        "*   As colunas **DPQ** indicam o sentimento do respondente nas duas últimas semanas. As linhas vazias indicam que o respondente não respondeu sobre como ele estava se sentindo. Temos 498 respondentes que não preencheram tais informações. Isso representa quase 10% do dataframe.\n",
        "*   A coluna **INDFMINC** indica a renda anual familiar em USD. Temos 47 respondentes que não informaram sua renda.\n",
        "*   As colunas **HEI2015C** informam o hábito alimentar de cada respondente. Temos 274 respondentes que não responderam sobre seus hábitos."
      ],
      "metadata": {
        "id": "-OqggXU9Yror"
      }
    },
    {
      "cell_type": "code",
      "source": [
        "#somando os duplicados da base\n",
        "df.duplicated().sum()"
      ],
      "metadata": {
        "colab": {
          "base_uri": "https://localhost:8080/"
        },
        "id": "9VbhQzjQ7C2y",
        "outputId": "f8c88563-8d90-42e1-fb9e-1e7ea0a46a5b"
      },
      "execution_count": 68,
      "outputs": [
        {
          "output_type": "execute_result",
          "data": {
            "text/plain": [
              "0"
            ]
          },
          "metadata": {},
          "execution_count": 68
        }
      ]
    },
    {
      "cell_type": "markdown",
      "source": [
        "####Tratamento dos Dados"
      ],
      "metadata": {
        "id": "BelX_BtZdGIx"
      }
    },
    {
      "cell_type": "code",
      "source": [
        "# Vamos manter as linhas vazias da coluna DPQ, mas vamos preenchê-la com o valor \"7\" que significa \"Se recusou a responder\".\n",
        "DPQs_NaN = ['DPQ010', 'DPQ020', 'DPQ030', 'DPQ040', 'DPQ050', 'DPQ060', 'DPQ070', 'DPQ080', 'DPQ090']\n",
        "df[DPQs_NaN] = df[DPQs_NaN].replace(np.nan,7)"
      ],
      "metadata": {
        "id": "MgdnKenTfC99"
      },
      "execution_count": 69,
      "outputs": []
    },
    {
      "cell_type": "code",
      "source": [
        "# Vamos manter as linhas vazias da coluna INDFMINC, mas vamos preenchê-la com o valor \"77\" que significa \"Se recusou a responder\".\n",
        "\n",
        "INDFMINC_NaN = ['INDFMINC']\n",
        "df[INDFMINC_NaN] = df[INDFMINC_NaN].replace(np.nan,77)"
      ],
      "metadata": {
        "id": "b4TicRFYi_5K"
      },
      "execution_count": 70,
      "outputs": []
    },
    {
      "cell_type": "code",
      "source": [
        "# Vamos remover os respondentes que não possuem valores nas colunas de score de hábitos alimentares.\n",
        "\n",
        "remover_vazio = ['HEI2015C1_TOTALVEG', \t'HEI2015C2_GREEN_AND_BEAN', \t'HEI2015C3_TOTALFRUIT', \t'HEI2015C4_WHOLEFRUIT', \t'HEI2015C5_WHOLEGRAIN', \t'HEI2015C6_TOTALDAIRY', \t'HEI2015C7_TOTPROT', \t'HEI2015C8_SEAPLANT_PROT', \t'HEI2015C9_FATTYACID', \t'HEI2015C10_SODIUM', \t'HEI2015C11_REFINEDGRAIN', \t'HEI2015C12_SFAT', \t'HEI2015C13_ADDSUG', \t'HEI2015_TOTAL_SCORE']\n",
        "df = df.dropna(subset=remover_vazio)"
      ],
      "metadata": {
        "id": "h-Y0h0Ppj-nY"
      },
      "execution_count": 71,
      "outputs": []
    },
    {
      "cell_type": "code",
      "source": [
        "# Convertendo a coluna INT para STR\n",
        "coluna_int64 = 'SEQN'\n",
        "df[coluna_int64] = df[coluna_int64].astype(str)"
      ],
      "metadata": {
        "id": "wfM_s6tSewt8",
        "colab": {
          "base_uri": "https://localhost:8080/"
        },
        "outputId": "a54adc15-7459-4f6f-eab8-3018386145e8"
      },
      "execution_count": 72,
      "outputs": [
        {
          "output_type": "stream",
          "name": "stderr",
          "text": [
            "<ipython-input-72-8f38a2ecd93f>:3: SettingWithCopyWarning: \n",
            "A value is trying to be set on a copy of a slice from a DataFrame.\n",
            "Try using .loc[row_indexer,col_indexer] = value instead\n",
            "\n",
            "See the caveats in the documentation: https://pandas.pydata.org/pandas-docs/stable/user_guide/indexing.html#returning-a-view-versus-a-copy\n",
            "  df[coluna_int64] = df[coluna_int64].astype(str)\n"
          ]
        }
      ]
    },
    {
      "cell_type": "code",
      "source": [
        "# Convertendo as colunas de FLOAT para INT\n",
        "colunas_float = ['DPQ010', 'DPQ020', 'DPQ030', 'DPQ040', 'DPQ050', 'DPQ060', 'DPQ070', 'DPQ080', 'DPQ090','INDFMINC','ADHERENCE']\n",
        "df[colunas_float] = df[colunas_float].astype('int64')"
      ],
      "metadata": {
        "id": "b5PS-sovdKIY",
        "colab": {
          "base_uri": "https://localhost:8080/"
        },
        "outputId": "d07e1553-5bdb-4a0a-fecd-6e0b1c2cf308"
      },
      "execution_count": 73,
      "outputs": [
        {
          "output_type": "stream",
          "name": "stderr",
          "text": [
            "<ipython-input-73-73ca3516b9ca>:3: SettingWithCopyWarning: \n",
            "A value is trying to be set on a copy of a slice from a DataFrame.\n",
            "Try using .loc[row_indexer,col_indexer] = value instead\n",
            "\n",
            "See the caveats in the documentation: https://pandas.pydata.org/pandas-docs/stable/user_guide/indexing.html#returning-a-view-versus-a-copy\n",
            "  df[colunas_float] = df[colunas_float].astype('int64')\n"
          ]
        }
      ]
    },
    {
      "cell_type": "code",
      "source": [
        "# Conhecendo o dataframe\n",
        "df.info()"
      ],
      "metadata": {
        "colab": {
          "base_uri": "https://localhost:8080/"
        },
        "id": "4MBJTkTyhoVE",
        "outputId": "0bff72b3-dad0-4c1e-c8c1-dbec66467010"
      },
      "execution_count": 74,
      "outputs": [
        {
          "output_type": "stream",
          "name": "stdout",
          "text": [
            "<class 'pandas.core.frame.DataFrame'>\n",
            "Int64Index: 5060 entries, 1 to 5333\n",
            "Data columns (total 31 columns):\n",
            " #   Column                    Non-Null Count  Dtype  \n",
            "---  ------                    --------------  -----  \n",
            " 0   SEQN                      5060 non-null   object \n",
            " 1   DPQ010                    5060 non-null   int64  \n",
            " 2   DPQ020                    5060 non-null   int64  \n",
            " 3   DPQ030                    5060 non-null   int64  \n",
            " 4   DPQ040                    5060 non-null   int64  \n",
            " 5   DPQ050                    5060 non-null   int64  \n",
            " 6   DPQ060                    5060 non-null   int64  \n",
            " 7   DPQ070                    5060 non-null   int64  \n",
            " 8   DPQ080                    5060 non-null   int64  \n",
            " 9   DPQ090                    5060 non-null   int64  \n",
            " 10  RIAGENDR                  5060 non-null   int64  \n",
            " 11  RIDAGEYR                  5060 non-null   int64  \n",
            " 12  RIDRETH1                  5060 non-null   int64  \n",
            " 13  DMDEDUC                   5060 non-null   int64  \n",
            " 14  INDFMINC                  5060 non-null   int64  \n",
            " 15  PAG_MINW                  5060 non-null   float64\n",
            " 16  ADHERENCE                 5060 non-null   int64  \n",
            " 17  HEI2015C1_TOTALVEG        5060 non-null   float64\n",
            " 18  HEI2015C2_GREEN_AND_BEAN  5060 non-null   float64\n",
            " 19  HEI2015C3_TOTALFRUIT      5060 non-null   float64\n",
            " 20  HEI2015C4_WHOLEFRUIT      5060 non-null   float64\n",
            " 21  HEI2015C5_WHOLEGRAIN      5060 non-null   float64\n",
            " 22  HEI2015C6_TOTALDAIRY      5060 non-null   float64\n",
            " 23  HEI2015C7_TOTPROT         5060 non-null   float64\n",
            " 24  HEI2015C8_SEAPLANT_PROT   5060 non-null   float64\n",
            " 25  HEI2015C9_FATTYACID       5060 non-null   float64\n",
            " 26  HEI2015C10_SODIUM         5060 non-null   float64\n",
            " 27  HEI2015C11_REFINEDGRAIN   5060 non-null   float64\n",
            " 28  HEI2015C12_SFAT           5060 non-null   float64\n",
            " 29  HEI2015C13_ADDSUG         5060 non-null   float64\n",
            " 30  HEI2015_TOTAL_SCORE       5060 non-null   float64\n",
            "dtypes: float64(15), int64(15), object(1)\n",
            "memory usage: 1.2+ MB\n"
          ]
        }
      ]
    },
    {
      "cell_type": "code",
      "source": [
        "# Renomeando colunas\n",
        "\n",
        "mapeamento_colunas = {'RIAGENDR': 'Genero', 'RIDAGEYR': 'Idade', 'RIDRETH1': 'Etnia', 'DMDEDUC': 'Escolaridade', 'INDFMINC': 'Renda Anual Familiar (USD)', 'PAG_MINW': 'Tempo de Atividade Fisica (min)', 'ADHERENCE': 'Aderencia', 'HEI2015_TOTAL_SCORE': 'Score Total'}\n",
        "df = df.rename(columns=mapeamento_colunas)\n",
        "\n",
        "df.info()\n"
      ],
      "metadata": {
        "colab": {
          "base_uri": "https://localhost:8080/"
        },
        "id": "cKIG165G0kVa",
        "outputId": "226c8065-bf35-4e3e-e71a-cf3df92f0316"
      },
      "execution_count": 75,
      "outputs": [
        {
          "output_type": "stream",
          "name": "stdout",
          "text": [
            "<class 'pandas.core.frame.DataFrame'>\n",
            "Int64Index: 5060 entries, 1 to 5333\n",
            "Data columns (total 31 columns):\n",
            " #   Column                           Non-Null Count  Dtype  \n",
            "---  ------                           --------------  -----  \n",
            " 0   SEQN                             5060 non-null   object \n",
            " 1   DPQ010                           5060 non-null   int64  \n",
            " 2   DPQ020                           5060 non-null   int64  \n",
            " 3   DPQ030                           5060 non-null   int64  \n",
            " 4   DPQ040                           5060 non-null   int64  \n",
            " 5   DPQ050                           5060 non-null   int64  \n",
            " 6   DPQ060                           5060 non-null   int64  \n",
            " 7   DPQ070                           5060 non-null   int64  \n",
            " 8   DPQ080                           5060 non-null   int64  \n",
            " 9   DPQ090                           5060 non-null   int64  \n",
            " 10  Genero                           5060 non-null   int64  \n",
            " 11  Idade                            5060 non-null   int64  \n",
            " 12  Etnia                            5060 non-null   int64  \n",
            " 13  Escolaridade                     5060 non-null   int64  \n",
            " 14  Renda Anual Familiar (USD)       5060 non-null   int64  \n",
            " 15  Tempo de Atividade Fisica (min)  5060 non-null   float64\n",
            " 16  Aderencia                        5060 non-null   int64  \n",
            " 17  HEI2015C1_TOTALVEG               5060 non-null   float64\n",
            " 18  HEI2015C2_GREEN_AND_BEAN         5060 non-null   float64\n",
            " 19  HEI2015C3_TOTALFRUIT             5060 non-null   float64\n",
            " 20  HEI2015C4_WHOLEFRUIT             5060 non-null   float64\n",
            " 21  HEI2015C5_WHOLEGRAIN             5060 non-null   float64\n",
            " 22  HEI2015C6_TOTALDAIRY             5060 non-null   float64\n",
            " 23  HEI2015C7_TOTPROT                5060 non-null   float64\n",
            " 24  HEI2015C8_SEAPLANT_PROT          5060 non-null   float64\n",
            " 25  HEI2015C9_FATTYACID              5060 non-null   float64\n",
            " 26  HEI2015C10_SODIUM                5060 non-null   float64\n",
            " 27  HEI2015C11_REFINEDGRAIN          5060 non-null   float64\n",
            " 28  HEI2015C12_SFAT                  5060 non-null   float64\n",
            " 29  HEI2015C13_ADDSUG                5060 non-null   float64\n",
            " 30  Score Total                      5060 non-null   float64\n",
            "dtypes: float64(15), int64(15), object(1)\n",
            "memory usage: 1.2+ MB\n"
          ]
        }
      ]
    },
    {
      "cell_type": "code",
      "source": [
        "# Entendendo a estatística descritiva de algumas colunas\n",
        "\n",
        "colunas_descritiva = ['Renda Anual Familiar (USD)','Tempo de Atividade Fisica (min)','Aderencia','Score Total']\n",
        "\n",
        "descritiva = df[colunas_descritiva].describe()\n",
        "\n",
        "print(descritiva)"
      ],
      "metadata": {
        "colab": {
          "base_uri": "https://localhost:8080/"
        },
        "id": "DXWaI4Aq6F8q",
        "outputId": "4d333af8-54c7-4047-fb22-2ae0837f66a5"
      },
      "execution_count": 76,
      "outputs": [
        {
          "output_type": "stream",
          "name": "stdout",
          "text": [
            "       Renda Anual Familiar (USD)  Tempo de Atividade Fisica (min)  \\\n",
            "count                 5060.000000                      5060.000000   \n",
            "mean                     9.089526                       478.151917   \n",
            "std                     13.418901                       787.947970   \n",
            "min                      1.000000                         0.000000   \n",
            "25%                      5.000000                        41.570439   \n",
            "50%                      7.000000                       213.625866   \n",
            "75%                     10.000000                       581.986143   \n",
            "max                     99.000000                     10777.829099   \n",
            "\n",
            "         Aderencia  Score Total  \n",
            "count  5060.000000  5060.000000  \n",
            "mean      1.990909    49.971421  \n",
            "std       0.918241    12.324533  \n",
            "min       1.000000    16.059212  \n",
            "25%       1.000000    41.032289  \n",
            "50%       2.000000    49.512445  \n",
            "75%       3.000000    58.168013  \n",
            "max       3.000000    89.529383  \n"
          ]
        }
      ]
    },
    {
      "cell_type": "markdown",
      "source": [
        "Vamos analisar a estatística descritiva das 4 colunas separadamente:\n",
        "\n",
        "\n",
        "\n",
        "1. INDFMINC (renda anual familiar): os valores indicam que 50% da amostra ganha de 35000 a 44999. Sabendo que a média é de 55000-64999, entendemos que os outros 50% da amostra que ganham mais que 35000 puxam a média para cima. Os valores estão condizentes dentre as possibilidades da coluna.\n",
        "2. PAG_MINW (tempo total semanal de atividade em minutos): o valor máximo indica que temos valores indevidos no dataset, pois 10777 minutos é o equivalente a mais de 25h por dia de exercício físico, o que sabemos que não é possível. Precisamos remover esse dado.\n",
        "3. ADHERENCE (categoria para determinar se o usuário atende ao tempo adequado de exercício semanal): 50% da amostra pratica atividade física em uma duração adequada. Os valores estão condizentes dentre as possibilidades da coluna.\n",
        "4. HEI2015_TOTAL_SCORE (score total que varia de 0 a 100): Vemos que o score dos hábitos saudáveis chegam em 58 para 75% da amostra, o que é baixo quando pensamos que o limite máximo é 100. Os valores estão condizentes dentre as possibilidades da coluna."
      ],
      "metadata": {
        "id": "4CAhWo8fvcjZ"
      }
    },
    {
      "cell_type": "code",
      "source": [
        "# Removendo valores impossíveis\n",
        "filtro1 = df['Tempo de Atividade Fisica (min)'] < 10000"
      ],
      "metadata": {
        "id": "DTEonpcd4E-t"
      },
      "execution_count": 77,
      "outputs": []
    },
    {
      "cell_type": "code",
      "source": [
        "# Aplicar os filtros e criar o novo DataFrame\n",
        "df = df[filtro1]\n",
        "\n",
        "# Checando novo dataframe\n",
        "df.shape"
      ],
      "metadata": {
        "colab": {
          "base_uri": "https://localhost:8080/"
        },
        "id": "PHjWu9aPtWBM",
        "outputId": "2e824e98-7bd1-468b-90ce-e69c3804af2a"
      },
      "execution_count": 78,
      "outputs": [
        {
          "output_type": "execute_result",
          "data": {
            "text/plain": [
              "(5056, 31)"
            ]
          },
          "metadata": {},
          "execution_count": 78
        }
      ]
    },
    {
      "cell_type": "code",
      "source": [
        "# Entendendo a estatística descritiva de algumas colunas\n",
        "colunas_descritiva = ['Renda Anual Familiar (USD)','Tempo de Atividade Fisica (min)','Aderencia','Score Total']\n",
        "descritiva = df[colunas_descritiva].describe()\n",
        "print(descritiva)"
      ],
      "metadata": {
        "colab": {
          "base_uri": "https://localhost:8080/"
        },
        "id": "U7RegqamtzjY",
        "outputId": "0b850a31-1b46-4b43-b2ab-d449207bcfea"
      },
      "execution_count": 79,
      "outputs": [
        {
          "output_type": "stream",
          "name": "stdout",
          "text": [
            "       Renda Anual Familiar (USD)  Tempo de Atividade Fisica (min)  \\\n",
            "count                 5056.000000                      5056.000000   \n",
            "mean                     9.092959                       470.294634   \n",
            "std                     13.423456                       737.018502   \n",
            "min                      1.000000                         0.000000   \n",
            "25%                      5.000000                        41.570439   \n",
            "50%                      7.000000                       212.471132   \n",
            "75%                     10.000000                       580.254042   \n",
            "max                     99.000000                      9237.228637   \n",
            "\n",
            "         Aderencia  Score Total  \n",
            "count  5056.000000  5056.000000  \n",
            "mean      1.990111    49.979002  \n",
            "std       0.918165    12.322359  \n",
            "min       1.000000    16.059212  \n",
            "25%       1.000000    41.034792  \n",
            "50%       2.000000    49.522808  \n",
            "75%       3.000000    58.172212  \n",
            "max       3.000000    89.529383  \n"
          ]
        }
      ]
    },
    {
      "cell_type": "markdown",
      "source": [
        "####Perfil de Indivíduos"
      ],
      "metadata": {
        "id": "XL3ZERz-uJEh"
      }
    },
    {
      "cell_type": "code",
      "source": [
        "#Análise Exploratória\n",
        "\n",
        "#Filtrar indivíduos onde os índices não são 0 e 1, 7 e 9.\n",
        "\n",
        "#Aqui você deve responder perguntas da população, tais como: qual a renda familiar, qual dos sentimentos é mais constante, qual o gênero mais afetado, quais os hábitos alimentares, qual a idade mais afetada, a raça mais afetada, a escolaridade mais afetada\n",
        "\n",
        "#Trazer histograma, boxplot, countplot, scatter"
      ],
      "metadata": {
        "id": "k3zW-KeWuLV0"
      },
      "execution_count": 80,
      "outputs": []
    },
    {
      "cell_type": "code",
      "source": [
        "df['Score Total']"
      ],
      "metadata": {
        "colab": {
          "base_uri": "https://localhost:8080/"
        },
        "id": "bTDxoLrCxLiP",
        "outputId": "772c4906-2cc2-47ad-d169-5828cb45045c"
      },
      "execution_count": 81,
      "outputs": [
        {
          "output_type": "execute_result",
          "data": {
            "text/plain": [
              "1       35.553899\n",
              "2       63.551696\n",
              "3       42.886826\n",
              "4       47.074393\n",
              "5       46.086131\n",
              "          ...    \n",
              "5329    59.949915\n",
              "5330    57.747869\n",
              "5331    42.993323\n",
              "5332    46.134467\n",
              "5333    45.793478\n",
              "Name: Score Total, Length: 5056, dtype: float64"
            ]
          },
          "metadata": {},
          "execution_count": 81
        }
      ]
    },
    {
      "cell_type": "code",
      "source": [
        "# Exportar DataFrame para um arquivo CSV\n",
        "df.to_csv('drive/MyDrive/mteste.csv', index=False)"
      ],
      "metadata": {
        "id": "ZhsFdTM-x-fU"
      },
      "execution_count": 82,
      "outputs": []
    }
  ]
}