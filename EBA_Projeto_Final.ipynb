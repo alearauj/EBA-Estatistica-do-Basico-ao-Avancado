{
  "nbformat": 4,
  "nbformat_minor": 0,
  "metadata": {
    "colab": {
      "provenance": [],
      "collapsed_sections": [
        "8DW_2W2KLc9w",
        "pocdnV3gMLc8"
      ],
      "mount_file_id": "1EppG2KB7CMDq-KU02HaLxGpbQ_Qx6qtQ",
      "authorship_tag": "ABX9TyNLK275szhQ9xJmpM2hccMV",
      "include_colab_link": true
    },
    "kernelspec": {
      "name": "python3",
      "display_name": "Python 3"
    },
    "language_info": {
      "name": "python"
    }
  },
  "cells": [
    {
      "cell_type": "markdown",
      "metadata": {
        "id": "view-in-github",
        "colab_type": "text"
      },
      "source": [
        "<a href=\"https://colab.research.google.com/github/alearauj/EBA-Estatistica-do-Basico-ao-Avancado/blob/main/EBA_Projeto_Final.ipynb\" target=\"_parent\"><img src=\"https://colab.research.google.com/assets/colab-badge.svg\" alt=\"Open In Colab\"/></a>"
      ]
    },
    {
      "cell_type": "markdown",
      "source": [
        "**Projeto Final do curso EBA - Estatística do Básico ao Avançado**"
      ],
      "metadata": {
        "id": "BHni0GfqG0Px"
      }
    },
    {
      "cell_type": "markdown",
      "source": [
        "####Preparando as liberações"
      ],
      "metadata": {
        "id": "8DW_2W2KLc9w"
      }
    },
    {
      "cell_type": "code",
      "source": [
        "# Importando todas as bibliotecas necessárias\n",
        "import pandas as pd\n",
        "import numpy as np\n",
        "import matplotlib.pyplot as plt\n",
        "import seaborn as sns"
      ],
      "metadata": {
        "id": "9hqUi7iKHGEJ"
      },
      "execution_count": 1,
      "outputs": []
    },
    {
      "cell_type": "code",
      "source": [
        "# Liberando acesso ao drive\n",
        "from google.colab import drive\n",
        "drive.mount('/content/drive')"
      ],
      "metadata": {
        "colab": {
          "base_uri": "https://localhost:8080/"
        },
        "id": "QuB8D0g3I34K",
        "outputId": "3b64cd64-c3f6-4ecd-82a8-88f44053f63a"
      },
      "execution_count": 2,
      "outputs": [
        {
          "output_type": "stream",
          "name": "stdout",
          "text": [
            "Drive already mounted at /content/drive; to attempt to forcibly remount, call drive.mount(\"/content/drive\", force_remount=True).\n"
          ]
        }
      ]
    },
    {
      "cell_type": "markdown",
      "source": [
        "####Preparando o dataset"
      ],
      "metadata": {
        "id": "pocdnV3gMLc8"
      }
    },
    {
      "cell_type": "code",
      "source": [
        "# Importando o primeiro csv\n",
        "df1 = pd.read_csv(\"//content/drive/MyDrive/Cursos/Renata Biaggi - Estatística do básico ao avançado/Projeto Final - Teste de Hipótese/DEMO_PHQ.csv\", encoding = \"UTF-8\")"
      ],
      "metadata": {
        "id": "R37pNeNEJW7f"
      },
      "execution_count": 3,
      "outputs": []
    },
    {
      "cell_type": "code",
      "source": [
        "# Importando o segundo csv\n",
        "df2 = pd.read_csv(\"/content/drive/MyDrive/Cursos/Renata Biaggi - Estatística do básico ao avançado/Projeto Final - Teste de Hipótese/PAG_HEI.csv\", encoding = \"UTF-8\")"
      ],
      "metadata": {
        "id": "A5SqJ18cKYrh"
      },
      "execution_count": 4,
      "outputs": []
    },
    {
      "cell_type": "code",
      "source": [
        "# Unindo os arquivos\n",
        "df = pd.merge(df1, df2, on='SEQN')"
      ],
      "metadata": {
        "id": "636i-f9pMWs8"
      },
      "execution_count": 5,
      "outputs": []
    },
    {
      "cell_type": "code",
      "source": [
        "#Checando se o tamanho do arquivo gerado está coerente com o esperado.\n",
        "df.shape"
      ],
      "metadata": {
        "colab": {
          "base_uri": "https://localhost:8080/"
        },
        "id": "SNvJRpWK65KC",
        "outputId": "f86cba62-ba58-4916-f521-4a8d947f664d"
      },
      "execution_count": 6,
      "outputs": [
        {
          "output_type": "execute_result",
          "data": {
            "text/plain": [
              "(5334, 31)"
            ]
          },
          "metadata": {},
          "execution_count": 6
        }
      ]
    },
    {
      "cell_type": "markdown",
      "source": [
        "####Explorando os dataframes\n"
      ],
      "metadata": {
        "id": "vM_6114nOGxM"
      }
    },
    {
      "cell_type": "code",
      "source": [
        "# Conhecendo as colunas\n",
        "df.head()"
      ],
      "metadata": {
        "colab": {
          "base_uri": "https://localhost:8080/",
          "height": 299
        },
        "id": "wmtbWLbfOMz0",
        "outputId": "b71cdb55-299b-4e7d-f753-e317b0fcda30"
      },
      "execution_count": 7,
      "outputs": [
        {
          "output_type": "execute_result",
          "data": {
            "text/plain": [
              "    SEQN  DPQ010  DPQ020  DPQ030  DPQ040  DPQ050  DPQ060  DPQ070  DPQ080  \\\n",
              "0  31130     NaN     NaN     NaN     NaN     NaN     NaN     NaN     NaN   \n",
              "1  31131     0.0     0.0     0.0     0.0     0.0     0.0     0.0     0.0   \n",
              "2  31132     0.0     0.0     0.0     0.0     0.0     0.0     0.0     0.0   \n",
              "3  31134     0.0     0.0     0.0     0.0     0.0     0.0     0.0     0.0   \n",
              "4  31139     0.0     0.0     0.0     0.0     3.0     1.0     0.0     0.0   \n",
              "\n",
              "   DPQ090  ...  HEI2015C5_WHOLEGRAIN  HEI2015C6_TOTALDAIRY  HEI2015C7_TOTPROT  \\\n",
              "0     NaN  ...                   NaN                   NaN                NaN   \n",
              "1     0.0  ...              0.000000              3.141062           4.071959   \n",
              "2     0.0  ...              5.000000              4.448512           5.000000   \n",
              "3     0.0  ...              2.217331              2.313900           5.000000   \n",
              "4     0.0  ...              0.211544              0.000000           4.088849   \n",
              "\n",
              "   HEI2015C8_SEAPLANT_PROT  HEI2015C9_FATTYACID  HEI2015C10_SODIUM  \\\n",
              "0                      NaN                  NaN                NaN   \n",
              "1                 2.052399             0.684985           2.297100   \n",
              "2                 0.000000             2.050769           7.369489   \n",
              "3                 1.268648             2.958985           0.000000   \n",
              "4                 4.221442            10.000000           2.845774   \n",
              "\n",
              "   HEI2015C11_REFINEDGRAIN  HEI2015C12_SFAT  HEI2015C13_ADDSUG  \\\n",
              "0                      NaN              NaN                NaN   \n",
              "1                 9.512964         0.438428           3.919226   \n",
              "2                 8.887880         8.186877           9.099088   \n",
              "3                 5.627488         5.863078           5.878686   \n",
              "4                 0.000000        10.000000           9.658507   \n",
              "\n",
              "   HEI2015_TOTAL_SCORE  \n",
              "0                  NaN  \n",
              "1            35.553899  \n",
              "2            63.551696  \n",
              "3            42.886826  \n",
              "4            47.074393  \n",
              "\n",
              "[5 rows x 31 columns]"
            ],
            "text/html": [
              "\n",
              "  <div id=\"df-b96536f5-ec29-4be9-81b6-b36a867345de\">\n",
              "    <div class=\"colab-df-container\">\n",
              "      <div>\n",
              "<style scoped>\n",
              "    .dataframe tbody tr th:only-of-type {\n",
              "        vertical-align: middle;\n",
              "    }\n",
              "\n",
              "    .dataframe tbody tr th {\n",
              "        vertical-align: top;\n",
              "    }\n",
              "\n",
              "    .dataframe thead th {\n",
              "        text-align: right;\n",
              "    }\n",
              "</style>\n",
              "<table border=\"1\" class=\"dataframe\">\n",
              "  <thead>\n",
              "    <tr style=\"text-align: right;\">\n",
              "      <th></th>\n",
              "      <th>SEQN</th>\n",
              "      <th>DPQ010</th>\n",
              "      <th>DPQ020</th>\n",
              "      <th>DPQ030</th>\n",
              "      <th>DPQ040</th>\n",
              "      <th>DPQ050</th>\n",
              "      <th>DPQ060</th>\n",
              "      <th>DPQ070</th>\n",
              "      <th>DPQ080</th>\n",
              "      <th>DPQ090</th>\n",
              "      <th>...</th>\n",
              "      <th>HEI2015C5_WHOLEGRAIN</th>\n",
              "      <th>HEI2015C6_TOTALDAIRY</th>\n",
              "      <th>HEI2015C7_TOTPROT</th>\n",
              "      <th>HEI2015C8_SEAPLANT_PROT</th>\n",
              "      <th>HEI2015C9_FATTYACID</th>\n",
              "      <th>HEI2015C10_SODIUM</th>\n",
              "      <th>HEI2015C11_REFINEDGRAIN</th>\n",
              "      <th>HEI2015C12_SFAT</th>\n",
              "      <th>HEI2015C13_ADDSUG</th>\n",
              "      <th>HEI2015_TOTAL_SCORE</th>\n",
              "    </tr>\n",
              "  </thead>\n",
              "  <tbody>\n",
              "    <tr>\n",
              "      <th>0</th>\n",
              "      <td>31130</td>\n",
              "      <td>NaN</td>\n",
              "      <td>NaN</td>\n",
              "      <td>NaN</td>\n",
              "      <td>NaN</td>\n",
              "      <td>NaN</td>\n",
              "      <td>NaN</td>\n",
              "      <td>NaN</td>\n",
              "      <td>NaN</td>\n",
              "      <td>NaN</td>\n",
              "      <td>...</td>\n",
              "      <td>NaN</td>\n",
              "      <td>NaN</td>\n",
              "      <td>NaN</td>\n",
              "      <td>NaN</td>\n",
              "      <td>NaN</td>\n",
              "      <td>NaN</td>\n",
              "      <td>NaN</td>\n",
              "      <td>NaN</td>\n",
              "      <td>NaN</td>\n",
              "      <td>NaN</td>\n",
              "    </tr>\n",
              "    <tr>\n",
              "      <th>1</th>\n",
              "      <td>31131</td>\n",
              "      <td>0.0</td>\n",
              "      <td>0.0</td>\n",
              "      <td>0.0</td>\n",
              "      <td>0.0</td>\n",
              "      <td>0.0</td>\n",
              "      <td>0.0</td>\n",
              "      <td>0.0</td>\n",
              "      <td>0.0</td>\n",
              "      <td>0.0</td>\n",
              "      <td>...</td>\n",
              "      <td>0.000000</td>\n",
              "      <td>3.141062</td>\n",
              "      <td>4.071959</td>\n",
              "      <td>2.052399</td>\n",
              "      <td>0.684985</td>\n",
              "      <td>2.297100</td>\n",
              "      <td>9.512964</td>\n",
              "      <td>0.438428</td>\n",
              "      <td>3.919226</td>\n",
              "      <td>35.553899</td>\n",
              "    </tr>\n",
              "    <tr>\n",
              "      <th>2</th>\n",
              "      <td>31132</td>\n",
              "      <td>0.0</td>\n",
              "      <td>0.0</td>\n",
              "      <td>0.0</td>\n",
              "      <td>0.0</td>\n",
              "      <td>0.0</td>\n",
              "      <td>0.0</td>\n",
              "      <td>0.0</td>\n",
              "      <td>0.0</td>\n",
              "      <td>0.0</td>\n",
              "      <td>...</td>\n",
              "      <td>5.000000</td>\n",
              "      <td>4.448512</td>\n",
              "      <td>5.000000</td>\n",
              "      <td>0.000000</td>\n",
              "      <td>2.050769</td>\n",
              "      <td>7.369489</td>\n",
              "      <td>8.887880</td>\n",
              "      <td>8.186877</td>\n",
              "      <td>9.099088</td>\n",
              "      <td>63.551696</td>\n",
              "    </tr>\n",
              "    <tr>\n",
              "      <th>3</th>\n",
              "      <td>31134</td>\n",
              "      <td>0.0</td>\n",
              "      <td>0.0</td>\n",
              "      <td>0.0</td>\n",
              "      <td>0.0</td>\n",
              "      <td>0.0</td>\n",
              "      <td>0.0</td>\n",
              "      <td>0.0</td>\n",
              "      <td>0.0</td>\n",
              "      <td>0.0</td>\n",
              "      <td>...</td>\n",
              "      <td>2.217331</td>\n",
              "      <td>2.313900</td>\n",
              "      <td>5.000000</td>\n",
              "      <td>1.268648</td>\n",
              "      <td>2.958985</td>\n",
              "      <td>0.000000</td>\n",
              "      <td>5.627488</td>\n",
              "      <td>5.863078</td>\n",
              "      <td>5.878686</td>\n",
              "      <td>42.886826</td>\n",
              "    </tr>\n",
              "    <tr>\n",
              "      <th>4</th>\n",
              "      <td>31139</td>\n",
              "      <td>0.0</td>\n",
              "      <td>0.0</td>\n",
              "      <td>0.0</td>\n",
              "      <td>0.0</td>\n",
              "      <td>3.0</td>\n",
              "      <td>1.0</td>\n",
              "      <td>0.0</td>\n",
              "      <td>0.0</td>\n",
              "      <td>0.0</td>\n",
              "      <td>...</td>\n",
              "      <td>0.211544</td>\n",
              "      <td>0.000000</td>\n",
              "      <td>4.088849</td>\n",
              "      <td>4.221442</td>\n",
              "      <td>10.000000</td>\n",
              "      <td>2.845774</td>\n",
              "      <td>0.000000</td>\n",
              "      <td>10.000000</td>\n",
              "      <td>9.658507</td>\n",
              "      <td>47.074393</td>\n",
              "    </tr>\n",
              "  </tbody>\n",
              "</table>\n",
              "<p>5 rows × 31 columns</p>\n",
              "</div>\n",
              "      <button class=\"colab-df-convert\" onclick=\"convertToInteractive('df-b96536f5-ec29-4be9-81b6-b36a867345de')\"\n",
              "              title=\"Convert this dataframe to an interactive table.\"\n",
              "              style=\"display:none;\">\n",
              "        \n",
              "  <svg xmlns=\"http://www.w3.org/2000/svg\" height=\"24px\"viewBox=\"0 0 24 24\"\n",
              "       width=\"24px\">\n",
              "    <path d=\"M0 0h24v24H0V0z\" fill=\"none\"/>\n",
              "    <path d=\"M18.56 5.44l.94 2.06.94-2.06 2.06-.94-2.06-.94-.94-2.06-.94 2.06-2.06.94zm-11 1L8.5 8.5l.94-2.06 2.06-.94-2.06-.94L8.5 2.5l-.94 2.06-2.06.94zm10 10l.94 2.06.94-2.06 2.06-.94-2.06-.94-.94-2.06-.94 2.06-2.06.94z\"/><path d=\"M17.41 7.96l-1.37-1.37c-.4-.4-.92-.59-1.43-.59-.52 0-1.04.2-1.43.59L10.3 9.45l-7.72 7.72c-.78.78-.78 2.05 0 2.83L4 21.41c.39.39.9.59 1.41.59.51 0 1.02-.2 1.41-.59l7.78-7.78 2.81-2.81c.8-.78.8-2.07 0-2.86zM5.41 20L4 18.59l7.72-7.72 1.47 1.35L5.41 20z\"/>\n",
              "  </svg>\n",
              "      </button>\n",
              "      \n",
              "  <style>\n",
              "    .colab-df-container {\n",
              "      display:flex;\n",
              "      flex-wrap:wrap;\n",
              "      gap: 12px;\n",
              "    }\n",
              "\n",
              "    .colab-df-convert {\n",
              "      background-color: #E8F0FE;\n",
              "      border: none;\n",
              "      border-radius: 50%;\n",
              "      cursor: pointer;\n",
              "      display: none;\n",
              "      fill: #1967D2;\n",
              "      height: 32px;\n",
              "      padding: 0 0 0 0;\n",
              "      width: 32px;\n",
              "    }\n",
              "\n",
              "    .colab-df-convert:hover {\n",
              "      background-color: #E2EBFA;\n",
              "      box-shadow: 0px 1px 2px rgba(60, 64, 67, 0.3), 0px 1px 3px 1px rgba(60, 64, 67, 0.15);\n",
              "      fill: #174EA6;\n",
              "    }\n",
              "\n",
              "    [theme=dark] .colab-df-convert {\n",
              "      background-color: #3B4455;\n",
              "      fill: #D2E3FC;\n",
              "    }\n",
              "\n",
              "    [theme=dark] .colab-df-convert:hover {\n",
              "      background-color: #434B5C;\n",
              "      box-shadow: 0px 1px 3px 1px rgba(0, 0, 0, 0.15);\n",
              "      filter: drop-shadow(0px 1px 2px rgba(0, 0, 0, 0.3));\n",
              "      fill: #FFFFFF;\n",
              "    }\n",
              "  </style>\n",
              "\n",
              "      <script>\n",
              "        const buttonEl =\n",
              "          document.querySelector('#df-b96536f5-ec29-4be9-81b6-b36a867345de button.colab-df-convert');\n",
              "        buttonEl.style.display =\n",
              "          google.colab.kernel.accessAllowed ? 'block' : 'none';\n",
              "\n",
              "        async function convertToInteractive(key) {\n",
              "          const element = document.querySelector('#df-b96536f5-ec29-4be9-81b6-b36a867345de');\n",
              "          const dataTable =\n",
              "            await google.colab.kernel.invokeFunction('convertToInteractive',\n",
              "                                                     [key], {});\n",
              "          if (!dataTable) return;\n",
              "\n",
              "          const docLinkHtml = 'Like what you see? Visit the ' +\n",
              "            '<a target=\"_blank\" href=https://colab.research.google.com/notebooks/data_table.ipynb>data table notebook</a>'\n",
              "            + ' to learn more about interactive tables.';\n",
              "          element.innerHTML = '';\n",
              "          dataTable['output_type'] = 'display_data';\n",
              "          await google.colab.output.renderOutput(dataTable, element);\n",
              "          const docLink = document.createElement('div');\n",
              "          docLink.innerHTML = docLinkHtml;\n",
              "          element.appendChild(docLink);\n",
              "        }\n",
              "      </script>\n",
              "    </div>\n",
              "  </div>\n",
              "  "
            ]
          },
          "metadata": {},
          "execution_count": 7
        }
      ]
    },
    {
      "cell_type": "code",
      "source": [
        "# Conhecendo o dataframe\n",
        "df.info()"
      ],
      "metadata": {
        "colab": {
          "base_uri": "https://localhost:8080/"
        },
        "id": "X8h0NAPp_mIj",
        "outputId": "9aa32ddf-3e7d-4b3f-e0e7-b8c4c9ee13d4"
      },
      "execution_count": 8,
      "outputs": [
        {
          "output_type": "stream",
          "name": "stdout",
          "text": [
            "<class 'pandas.core.frame.DataFrame'>\n",
            "Int64Index: 5334 entries, 0 to 5333\n",
            "Data columns (total 31 columns):\n",
            " #   Column                    Non-Null Count  Dtype  \n",
            "---  ------                    --------------  -----  \n",
            " 0   SEQN                      5334 non-null   int64  \n",
            " 1   DPQ010                    4836 non-null   float64\n",
            " 2   DPQ020                    4836 non-null   float64\n",
            " 3   DPQ030                    4836 non-null   float64\n",
            " 4   DPQ040                    4836 non-null   float64\n",
            " 5   DPQ050                    4836 non-null   float64\n",
            " 6   DPQ060                    4836 non-null   float64\n",
            " 7   DPQ070                    4836 non-null   float64\n",
            " 8   DPQ080                    4836 non-null   float64\n",
            " 9   DPQ090                    4836 non-null   float64\n",
            " 10  RIAGENDR                  5334 non-null   int64  \n",
            " 11  RIDAGEYR                  5334 non-null   int64  \n",
            " 12  RIDRETH1                  5334 non-null   int64  \n",
            " 13  DMDEDUC                   5334 non-null   int64  \n",
            " 14  INDFMINC                  5287 non-null   float64\n",
            " 15  PAG_MINW                  5334 non-null   float64\n",
            " 16  ADHERENCE                 5334 non-null   float64\n",
            " 17  HEI2015C1_TOTALVEG        5060 non-null   float64\n",
            " 18  HEI2015C2_GREEN_AND_BEAN  5060 non-null   float64\n",
            " 19  HEI2015C3_TOTALFRUIT      5060 non-null   float64\n",
            " 20  HEI2015C4_WHOLEFRUIT      5060 non-null   float64\n",
            " 21  HEI2015C5_WHOLEGRAIN      5060 non-null   float64\n",
            " 22  HEI2015C6_TOTALDAIRY      5060 non-null   float64\n",
            " 23  HEI2015C7_TOTPROT         5060 non-null   float64\n",
            " 24  HEI2015C8_SEAPLANT_PROT   5060 non-null   float64\n",
            " 25  HEI2015C9_FATTYACID       5060 non-null   float64\n",
            " 26  HEI2015C10_SODIUM         5060 non-null   float64\n",
            " 27  HEI2015C11_REFINEDGRAIN   5060 non-null   float64\n",
            " 28  HEI2015C12_SFAT           5060 non-null   float64\n",
            " 29  HEI2015C13_ADDSUG         5060 non-null   float64\n",
            " 30  HEI2015_TOTAL_SCORE       5060 non-null   float64\n",
            "dtypes: float64(26), int64(5)\n",
            "memory usage: 1.3 MB\n"
          ]
        }
      ]
    },
    {
      "cell_type": "markdown",
      "source": [
        "**Ponto de atenção**: Nem todas as colunas estão com o formato adequado para a informação que o dado quer apresentar. Por exemplo,todas as colunas contendo **DPQ**, **INDFMINC**  e **ADHERENCE**  estão como FLOAT quando deveriam ser INT64 já que possuem valores representados por códigos numéricos de valor inteiro. Além disso, a coluna **SEQN** está como INT64, o que não está errado, mas como essa coluna é nosso código identificador e não queremos fazer nenhum cálculo com ela, vamos convertê-la para STR."
      ],
      "metadata": {
        "id": "GvXBuxjWAZtK"
      }
    },
    {
      "cell_type": "code",
      "source": [
        "#Encontrando valores nulos\n",
        "\n",
        "df.isna().sum()"
      ],
      "metadata": {
        "colab": {
          "base_uri": "https://localhost:8080/"
        },
        "id": "lb-17ehRSnXL",
        "outputId": "1d6366e7-de44-4fdb-e8f7-6f3642816fb5"
      },
      "execution_count": 19,
      "outputs": [
        {
          "output_type": "execute_result",
          "data": {
            "text/plain": [
              "SEQN                          0\n",
              "DPQ010                      498\n",
              "DPQ020                      498\n",
              "DPQ030                      498\n",
              "DPQ040                      498\n",
              "DPQ050                      498\n",
              "DPQ060                      498\n",
              "DPQ070                      498\n",
              "DPQ080                      498\n",
              "DPQ090                      498\n",
              "RIAGENDR                      0\n",
              "RIDAGEYR                      0\n",
              "RIDRETH1                      0\n",
              "DMDEDUC                       0\n",
              "INDFMINC                     47\n",
              "PAG_MINW                      0\n",
              "ADHERENCE                     0\n",
              "HEI2015C1_TOTALVEG          274\n",
              "HEI2015C2_GREEN_AND_BEAN    274\n",
              "HEI2015C3_TOTALFRUIT        274\n",
              "HEI2015C4_WHOLEFRUIT        274\n",
              "HEI2015C5_WHOLEGRAIN        274\n",
              "HEI2015C6_TOTALDAIRY        274\n",
              "HEI2015C7_TOTPROT           274\n",
              "HEI2015C8_SEAPLANT_PROT     274\n",
              "HEI2015C9_FATTYACID         274\n",
              "HEI2015C10_SODIUM           274\n",
              "HEI2015C11_REFINEDGRAIN     274\n",
              "HEI2015C12_SFAT             274\n",
              "HEI2015C13_ADDSUG           274\n",
              "HEI2015_TOTAL_SCORE         274\n",
              "dtype: int64"
            ]
          },
          "metadata": {},
          "execution_count": 19
        }
      ]
    },
    {
      "cell_type": "markdown",
      "source": [
        "Precisamos entender o que os valores nulos significam em cada uma das colunas para definirmos o que faremos com eles.\n",
        "\n",
        "*   As colunas **DPQ** indicam o sentimento do respondente nas duas últimas semanas. As linhas vazias indicam que o respondente não respondeu sobre como ele estava se sentindo. Temos 498 respondentes que não preencheram tais informações. Isso representa quase 10% do dataframe.\n",
        "*   A coluna **INDFMINC** indica a renda anual familiar em USD. Temos 47 respondentes que não informaram sua renda.\n",
        "*   As colunas **HEI2015C** informam o hábito alimentar de cada respondente. Temos 274 respondentes que não responderam sobre seus hábitos."
      ],
      "metadata": {
        "id": "-OqggXU9Yror"
      }
    },
    {
      "cell_type": "code",
      "source": [
        "#somando os duplicados da base\n",
        "df.duplicated().sum()"
      ],
      "metadata": {
        "colab": {
          "base_uri": "https://localhost:8080/"
        },
        "id": "9VbhQzjQ7C2y",
        "outputId": "4688b33f-0869-4de5-d407-dbdd35a087f8"
      },
      "execution_count": null,
      "outputs": [
        {
          "output_type": "execute_result",
          "data": {
            "text/plain": [
              "0"
            ]
          },
          "metadata": {},
          "execution_count": 12
        }
      ]
    },
    {
      "cell_type": "markdown",
      "source": [
        "####Tratamento dos Dados"
      ],
      "metadata": {
        "id": "BelX_BtZdGIx"
      }
    },
    {
      "cell_type": "code",
      "source": [
        "#Vamos manter as linhas vazias da coluna DPQ, mas vamos preenchê-la com o valor \"7\" que significa \"Se recusou a responder\".\n",
        "DPQs_NaN = ['DPQ010', 'DPQ020', 'DPQ030', 'DPQ040', 'DPQ050', 'DPQ060', 'DPQ070', 'DPQ080', 'DPQ090']\n",
        "df[DPQs_NaN] = df[DPQs_NaN].replace(np.nan,7)"
      ],
      "metadata": {
        "id": "MgdnKenTfC99"
      },
      "execution_count": 22,
      "outputs": []
    },
    {
      "cell_type": "code",
      "source": [
        "#Vamos manter as linhas vazias da coluna INDFMINC, mas vamos preenchê-la com o valor \"77\" que significa \"Se recusou a responder\".\n",
        "\n",
        "INDFMINC_NaN = ['INDFMINC']\n",
        "df[INDFMINC_NaN] = df[INDFMINC_NaN].replace(np.nan,77)"
      ],
      "metadata": {
        "id": "b4TicRFYi_5K"
      },
      "execution_count": 27,
      "outputs": []
    },
    {
      "cell_type": "code",
      "source": [
        "#Vamos remover os respondentes que não possuem valores nas colunas de score de hábitos alimentares.\n",
        "\n",
        "remover_vazio = ['HEI2015C1_TOTALVEG', \t'HEI2015C2_GREEN_AND_BEAN', \t'HEI2015C3_TOTALFRUIT', \t'HEI2015C4_WHOLEFRUIT', \t'HEI2015C5_WHOLEGRAIN', \t'HEI2015C6_TOTALDAIRY', \t'HEI2015C7_TOTPROT', \t'HEI2015C8_SEAPLANT_PROT', \t'HEI2015C9_FATTYACID', \t'HEI2015C10_SODIUM', \t'HEI2015C11_REFINEDGRAIN', \t'HEI2015C12_SFAT', \t'HEI2015C13_ADDSUG', \t'HEI2015_TOTAL_SCORE']\n",
        "df = df.dropna(subset=remover_vazio)"
      ],
      "metadata": {
        "id": "h-Y0h0Ppj-nY"
      },
      "execution_count": 30,
      "outputs": []
    },
    {
      "cell_type": "code",
      "source": [
        "#Convertendo a coluna INT para STR\n",
        "coluna_int64 = 'SEQN'\n",
        "df[coluna_int64] = df[coluna_int64].astype(str)"
      ],
      "metadata": {
        "id": "wfM_s6tSewt8"
      },
      "execution_count": 24,
      "outputs": []
    },
    {
      "cell_type": "code",
      "source": [
        "#Convertendo as colunas de FLOAT para INT\n",
        "colunas_float = ['DPQ010', 'DPQ020', 'DPQ030', 'DPQ040', 'DPQ050', 'DPQ060', 'DPQ070', 'DPQ080', 'DPQ090','INDFMINC','ADHERENCE']\n",
        "df[colunas_float] = df[colunas_float].astype('int64')"
      ],
      "metadata": {
        "id": "b5PS-sovdKIY"
      },
      "execution_count": 29,
      "outputs": []
    },
    {
      "cell_type": "code",
      "source": [
        "# Conhecendo o dataframe\n",
        "df.info()"
      ],
      "metadata": {
        "colab": {
          "base_uri": "https://localhost:8080/"
        },
        "id": "4MBJTkTyhoVE",
        "outputId": "0a50c482-c8be-4101-b618-5520590bafda"
      },
      "execution_count": 31,
      "outputs": [
        {
          "output_type": "stream",
          "name": "stdout",
          "text": [
            "<class 'pandas.core.frame.DataFrame'>\n",
            "Int64Index: 5060 entries, 1 to 5333\n",
            "Data columns (total 31 columns):\n",
            " #   Column                    Non-Null Count  Dtype  \n",
            "---  ------                    --------------  -----  \n",
            " 0   SEQN                      5060 non-null   object \n",
            " 1   DPQ010                    5060 non-null   int64  \n",
            " 2   DPQ020                    5060 non-null   int64  \n",
            " 3   DPQ030                    5060 non-null   int64  \n",
            " 4   DPQ040                    5060 non-null   int64  \n",
            " 5   DPQ050                    5060 non-null   int64  \n",
            " 6   DPQ060                    5060 non-null   int64  \n",
            " 7   DPQ070                    5060 non-null   int64  \n",
            " 8   DPQ080                    5060 non-null   int64  \n",
            " 9   DPQ090                    5060 non-null   int64  \n",
            " 10  RIAGENDR                  5060 non-null   int64  \n",
            " 11  RIDAGEYR                  5060 non-null   int64  \n",
            " 12  RIDRETH1                  5060 non-null   int64  \n",
            " 13  DMDEDUC                   5060 non-null   int64  \n",
            " 14  INDFMINC                  5060 non-null   int64  \n",
            " 15  PAG_MINW                  5060 non-null   float64\n",
            " 16  ADHERENCE                 5060 non-null   int64  \n",
            " 17  HEI2015C1_TOTALVEG        5060 non-null   float64\n",
            " 18  HEI2015C2_GREEN_AND_BEAN  5060 non-null   float64\n",
            " 19  HEI2015C3_TOTALFRUIT      5060 non-null   float64\n",
            " 20  HEI2015C4_WHOLEFRUIT      5060 non-null   float64\n",
            " 21  HEI2015C5_WHOLEGRAIN      5060 non-null   float64\n",
            " 22  HEI2015C6_TOTALDAIRY      5060 non-null   float64\n",
            " 23  HEI2015C7_TOTPROT         5060 non-null   float64\n",
            " 24  HEI2015C8_SEAPLANT_PROT   5060 non-null   float64\n",
            " 25  HEI2015C9_FATTYACID       5060 non-null   float64\n",
            " 26  HEI2015C10_SODIUM         5060 non-null   float64\n",
            " 27  HEI2015C11_REFINEDGRAIN   5060 non-null   float64\n",
            " 28  HEI2015C12_SFAT           5060 non-null   float64\n",
            " 29  HEI2015C13_ADDSUG         5060 non-null   float64\n",
            " 30  HEI2015_TOTAL_SCORE       5060 non-null   float64\n",
            "dtypes: float64(15), int64(15), object(1)\n",
            "memory usage: 1.2+ MB\n"
          ]
        }
      ]
    },
    {
      "cell_type": "code",
      "source": [
        "df.describe()"
      ],
      "metadata": {
        "colab": {
          "base_uri": "https://localhost:8080/",
          "height": 393
        },
        "id": "DXWaI4Aq6F8q",
        "outputId": "ffce2dae-6165-4b8f-ae58-36d1cadba839"
      },
      "execution_count": 32,
      "outputs": [
        {
          "output_type": "execute_result",
          "data": {
            "text/plain": [
              "            DPQ010       DPQ020       DPQ030       DPQ040       DPQ050  \\\n",
              "count  5060.000000  5060.000000  5060.000000  5060.000000  5060.000000   \n",
              "mean      0.733202     0.737352     0.957510     1.115810     0.743478   \n",
              "std       1.790788     1.772935     1.811205     1.771272     1.780006   \n",
              "min       0.000000     0.000000     0.000000     0.000000     0.000000   \n",
              "25%       0.000000     0.000000     0.000000     0.000000     0.000000   \n",
              "50%       0.000000     0.000000     0.000000     1.000000     0.000000   \n",
              "75%       1.000000     1.000000     1.000000     1.000000     1.000000   \n",
              "max       9.000000     9.000000     9.000000     9.000000     9.000000   \n",
              "\n",
              "            DPQ060       DPQ070       DPQ080       DPQ090     RIAGENDR  ...  \\\n",
              "count  5060.000000  5060.000000  5060.000000  5060.000000  5060.000000  ...   \n",
              "mean      0.640909     0.657905     0.584585     0.494071     1.520751  ...   \n",
              "std       1.762569     1.759443     1.770863     1.728499     0.499619  ...   \n",
              "min       0.000000     0.000000     0.000000     0.000000     1.000000  ...   \n",
              "25%       0.000000     0.000000     0.000000     0.000000     1.000000  ...   \n",
              "50%       0.000000     0.000000     0.000000     0.000000     2.000000  ...   \n",
              "75%       0.000000     0.000000     0.000000     0.000000     2.000000  ...   \n",
              "max       9.000000     9.000000     9.000000     9.000000     2.000000  ...   \n",
              "\n",
              "       HEI2015C5_WHOLEGRAIN  HEI2015C6_TOTALDAIRY  HEI2015C7_TOTPROT  \\\n",
              "count           5060.000000           5060.000000        5060.000000   \n",
              "mean               1.764918              3.756967           4.434237   \n",
              "std                1.915425              1.605226           1.008311   \n",
              "min                0.000000              0.000000           0.000000   \n",
              "25%                0.000000              2.591999           4.171156   \n",
              "50%                1.026125              4.940948           5.000000   \n",
              "75%                3.406820              5.000000           5.000000   \n",
              "max                5.000000              5.000000           5.000000   \n",
              "\n",
              "       HEI2015C8_SEAPLANT_PROT  HEI2015C9_FATTYACID  HEI2015C10_SODIUM  \\\n",
              "count              5060.000000          5060.000000        5060.000000   \n",
              "mean                  2.593381             4.706986           4.762261   \n",
              "std                   2.171836             3.237059           3.420252   \n",
              "min                   0.000000             0.000000           0.000000   \n",
              "25%                   0.000000             2.023710           1.587909   \n",
              "50%                   2.588240             4.430397           4.833553   \n",
              "75%                   5.000000             7.270784           7.650807   \n",
              "max                   5.000000            10.000000          10.000000   \n",
              "\n",
              "       HEI2015C11_REFINEDGRAIN  HEI2015C12_SFAT  HEI2015C13_ADDSUG  \\\n",
              "count              5060.000000      5060.000000        5060.000000   \n",
              "mean                  5.798963         6.067985           6.220367   \n",
              "std                   3.496261         3.178186           3.330305   \n",
              "min                   0.000000         0.000000           0.000000   \n",
              "25%                   2.925413         3.697080           3.724867   \n",
              "50%                   6.234319         6.414811           6.864138   \n",
              "75%                   9.253265         8.997076           9.454234   \n",
              "max                  10.000000        10.000000          10.000000   \n",
              "\n",
              "       HEI2015_TOTAL_SCORE  \n",
              "count          5060.000000  \n",
              "mean             49.971421  \n",
              "std              12.324533  \n",
              "min              16.059212  \n",
              "25%              41.032289  \n",
              "50%              49.512445  \n",
              "75%              58.168013  \n",
              "max              89.529383  \n",
              "\n",
              "[8 rows x 30 columns]"
            ],
            "text/html": [
              "\n",
              "  <div id=\"df-41c2e30c-ffe3-452c-88b0-acb6faa8fcc2\">\n",
              "    <div class=\"colab-df-container\">\n",
              "      <div>\n",
              "<style scoped>\n",
              "    .dataframe tbody tr th:only-of-type {\n",
              "        vertical-align: middle;\n",
              "    }\n",
              "\n",
              "    .dataframe tbody tr th {\n",
              "        vertical-align: top;\n",
              "    }\n",
              "\n",
              "    .dataframe thead th {\n",
              "        text-align: right;\n",
              "    }\n",
              "</style>\n",
              "<table border=\"1\" class=\"dataframe\">\n",
              "  <thead>\n",
              "    <tr style=\"text-align: right;\">\n",
              "      <th></th>\n",
              "      <th>DPQ010</th>\n",
              "      <th>DPQ020</th>\n",
              "      <th>DPQ030</th>\n",
              "      <th>DPQ040</th>\n",
              "      <th>DPQ050</th>\n",
              "      <th>DPQ060</th>\n",
              "      <th>DPQ070</th>\n",
              "      <th>DPQ080</th>\n",
              "      <th>DPQ090</th>\n",
              "      <th>RIAGENDR</th>\n",
              "      <th>...</th>\n",
              "      <th>HEI2015C5_WHOLEGRAIN</th>\n",
              "      <th>HEI2015C6_TOTALDAIRY</th>\n",
              "      <th>HEI2015C7_TOTPROT</th>\n",
              "      <th>HEI2015C8_SEAPLANT_PROT</th>\n",
              "      <th>HEI2015C9_FATTYACID</th>\n",
              "      <th>HEI2015C10_SODIUM</th>\n",
              "      <th>HEI2015C11_REFINEDGRAIN</th>\n",
              "      <th>HEI2015C12_SFAT</th>\n",
              "      <th>HEI2015C13_ADDSUG</th>\n",
              "      <th>HEI2015_TOTAL_SCORE</th>\n",
              "    </tr>\n",
              "  </thead>\n",
              "  <tbody>\n",
              "    <tr>\n",
              "      <th>count</th>\n",
              "      <td>5060.000000</td>\n",
              "      <td>5060.000000</td>\n",
              "      <td>5060.000000</td>\n",
              "      <td>5060.000000</td>\n",
              "      <td>5060.000000</td>\n",
              "      <td>5060.000000</td>\n",
              "      <td>5060.000000</td>\n",
              "      <td>5060.000000</td>\n",
              "      <td>5060.000000</td>\n",
              "      <td>5060.000000</td>\n",
              "      <td>...</td>\n",
              "      <td>5060.000000</td>\n",
              "      <td>5060.000000</td>\n",
              "      <td>5060.000000</td>\n",
              "      <td>5060.000000</td>\n",
              "      <td>5060.000000</td>\n",
              "      <td>5060.000000</td>\n",
              "      <td>5060.000000</td>\n",
              "      <td>5060.000000</td>\n",
              "      <td>5060.000000</td>\n",
              "      <td>5060.000000</td>\n",
              "    </tr>\n",
              "    <tr>\n",
              "      <th>mean</th>\n",
              "      <td>0.733202</td>\n",
              "      <td>0.737352</td>\n",
              "      <td>0.957510</td>\n",
              "      <td>1.115810</td>\n",
              "      <td>0.743478</td>\n",
              "      <td>0.640909</td>\n",
              "      <td>0.657905</td>\n",
              "      <td>0.584585</td>\n",
              "      <td>0.494071</td>\n",
              "      <td>1.520751</td>\n",
              "      <td>...</td>\n",
              "      <td>1.764918</td>\n",
              "      <td>3.756967</td>\n",
              "      <td>4.434237</td>\n",
              "      <td>2.593381</td>\n",
              "      <td>4.706986</td>\n",
              "      <td>4.762261</td>\n",
              "      <td>5.798963</td>\n",
              "      <td>6.067985</td>\n",
              "      <td>6.220367</td>\n",
              "      <td>49.971421</td>\n",
              "    </tr>\n",
              "    <tr>\n",
              "      <th>std</th>\n",
              "      <td>1.790788</td>\n",
              "      <td>1.772935</td>\n",
              "      <td>1.811205</td>\n",
              "      <td>1.771272</td>\n",
              "      <td>1.780006</td>\n",
              "      <td>1.762569</td>\n",
              "      <td>1.759443</td>\n",
              "      <td>1.770863</td>\n",
              "      <td>1.728499</td>\n",
              "      <td>0.499619</td>\n",
              "      <td>...</td>\n",
              "      <td>1.915425</td>\n",
              "      <td>1.605226</td>\n",
              "      <td>1.008311</td>\n",
              "      <td>2.171836</td>\n",
              "      <td>3.237059</td>\n",
              "      <td>3.420252</td>\n",
              "      <td>3.496261</td>\n",
              "      <td>3.178186</td>\n",
              "      <td>3.330305</td>\n",
              "      <td>12.324533</td>\n",
              "    </tr>\n",
              "    <tr>\n",
              "      <th>min</th>\n",
              "      <td>0.000000</td>\n",
              "      <td>0.000000</td>\n",
              "      <td>0.000000</td>\n",
              "      <td>0.000000</td>\n",
              "      <td>0.000000</td>\n",
              "      <td>0.000000</td>\n",
              "      <td>0.000000</td>\n",
              "      <td>0.000000</td>\n",
              "      <td>0.000000</td>\n",
              "      <td>1.000000</td>\n",
              "      <td>...</td>\n",
              "      <td>0.000000</td>\n",
              "      <td>0.000000</td>\n",
              "      <td>0.000000</td>\n",
              "      <td>0.000000</td>\n",
              "      <td>0.000000</td>\n",
              "      <td>0.000000</td>\n",
              "      <td>0.000000</td>\n",
              "      <td>0.000000</td>\n",
              "      <td>0.000000</td>\n",
              "      <td>16.059212</td>\n",
              "    </tr>\n",
              "    <tr>\n",
              "      <th>25%</th>\n",
              "      <td>0.000000</td>\n",
              "      <td>0.000000</td>\n",
              "      <td>0.000000</td>\n",
              "      <td>0.000000</td>\n",
              "      <td>0.000000</td>\n",
              "      <td>0.000000</td>\n",
              "      <td>0.000000</td>\n",
              "      <td>0.000000</td>\n",
              "      <td>0.000000</td>\n",
              "      <td>1.000000</td>\n",
              "      <td>...</td>\n",
              "      <td>0.000000</td>\n",
              "      <td>2.591999</td>\n",
              "      <td>4.171156</td>\n",
              "      <td>0.000000</td>\n",
              "      <td>2.023710</td>\n",
              "      <td>1.587909</td>\n",
              "      <td>2.925413</td>\n",
              "      <td>3.697080</td>\n",
              "      <td>3.724867</td>\n",
              "      <td>41.032289</td>\n",
              "    </tr>\n",
              "    <tr>\n",
              "      <th>50%</th>\n",
              "      <td>0.000000</td>\n",
              "      <td>0.000000</td>\n",
              "      <td>0.000000</td>\n",
              "      <td>1.000000</td>\n",
              "      <td>0.000000</td>\n",
              "      <td>0.000000</td>\n",
              "      <td>0.000000</td>\n",
              "      <td>0.000000</td>\n",
              "      <td>0.000000</td>\n",
              "      <td>2.000000</td>\n",
              "      <td>...</td>\n",
              "      <td>1.026125</td>\n",
              "      <td>4.940948</td>\n",
              "      <td>5.000000</td>\n",
              "      <td>2.588240</td>\n",
              "      <td>4.430397</td>\n",
              "      <td>4.833553</td>\n",
              "      <td>6.234319</td>\n",
              "      <td>6.414811</td>\n",
              "      <td>6.864138</td>\n",
              "      <td>49.512445</td>\n",
              "    </tr>\n",
              "    <tr>\n",
              "      <th>75%</th>\n",
              "      <td>1.000000</td>\n",
              "      <td>1.000000</td>\n",
              "      <td>1.000000</td>\n",
              "      <td>1.000000</td>\n",
              "      <td>1.000000</td>\n",
              "      <td>0.000000</td>\n",
              "      <td>0.000000</td>\n",
              "      <td>0.000000</td>\n",
              "      <td>0.000000</td>\n",
              "      <td>2.000000</td>\n",
              "      <td>...</td>\n",
              "      <td>3.406820</td>\n",
              "      <td>5.000000</td>\n",
              "      <td>5.000000</td>\n",
              "      <td>5.000000</td>\n",
              "      <td>7.270784</td>\n",
              "      <td>7.650807</td>\n",
              "      <td>9.253265</td>\n",
              "      <td>8.997076</td>\n",
              "      <td>9.454234</td>\n",
              "      <td>58.168013</td>\n",
              "    </tr>\n",
              "    <tr>\n",
              "      <th>max</th>\n",
              "      <td>9.000000</td>\n",
              "      <td>9.000000</td>\n",
              "      <td>9.000000</td>\n",
              "      <td>9.000000</td>\n",
              "      <td>9.000000</td>\n",
              "      <td>9.000000</td>\n",
              "      <td>9.000000</td>\n",
              "      <td>9.000000</td>\n",
              "      <td>9.000000</td>\n",
              "      <td>2.000000</td>\n",
              "      <td>...</td>\n",
              "      <td>5.000000</td>\n",
              "      <td>5.000000</td>\n",
              "      <td>5.000000</td>\n",
              "      <td>5.000000</td>\n",
              "      <td>10.000000</td>\n",
              "      <td>10.000000</td>\n",
              "      <td>10.000000</td>\n",
              "      <td>10.000000</td>\n",
              "      <td>10.000000</td>\n",
              "      <td>89.529383</td>\n",
              "    </tr>\n",
              "  </tbody>\n",
              "</table>\n",
              "<p>8 rows × 30 columns</p>\n",
              "</div>\n",
              "      <button class=\"colab-df-convert\" onclick=\"convertToInteractive('df-41c2e30c-ffe3-452c-88b0-acb6faa8fcc2')\"\n",
              "              title=\"Convert this dataframe to an interactive table.\"\n",
              "              style=\"display:none;\">\n",
              "        \n",
              "  <svg xmlns=\"http://www.w3.org/2000/svg\" height=\"24px\"viewBox=\"0 0 24 24\"\n",
              "       width=\"24px\">\n",
              "    <path d=\"M0 0h24v24H0V0z\" fill=\"none\"/>\n",
              "    <path d=\"M18.56 5.44l.94 2.06.94-2.06 2.06-.94-2.06-.94-.94-2.06-.94 2.06-2.06.94zm-11 1L8.5 8.5l.94-2.06 2.06-.94-2.06-.94L8.5 2.5l-.94 2.06-2.06.94zm10 10l.94 2.06.94-2.06 2.06-.94-2.06-.94-.94-2.06-.94 2.06-2.06.94z\"/><path d=\"M17.41 7.96l-1.37-1.37c-.4-.4-.92-.59-1.43-.59-.52 0-1.04.2-1.43.59L10.3 9.45l-7.72 7.72c-.78.78-.78 2.05 0 2.83L4 21.41c.39.39.9.59 1.41.59.51 0 1.02-.2 1.41-.59l7.78-7.78 2.81-2.81c.8-.78.8-2.07 0-2.86zM5.41 20L4 18.59l7.72-7.72 1.47 1.35L5.41 20z\"/>\n",
              "  </svg>\n",
              "      </button>\n",
              "      \n",
              "  <style>\n",
              "    .colab-df-container {\n",
              "      display:flex;\n",
              "      flex-wrap:wrap;\n",
              "      gap: 12px;\n",
              "    }\n",
              "\n",
              "    .colab-df-convert {\n",
              "      background-color: #E8F0FE;\n",
              "      border: none;\n",
              "      border-radius: 50%;\n",
              "      cursor: pointer;\n",
              "      display: none;\n",
              "      fill: #1967D2;\n",
              "      height: 32px;\n",
              "      padding: 0 0 0 0;\n",
              "      width: 32px;\n",
              "    }\n",
              "\n",
              "    .colab-df-convert:hover {\n",
              "      background-color: #E2EBFA;\n",
              "      box-shadow: 0px 1px 2px rgba(60, 64, 67, 0.3), 0px 1px 3px 1px rgba(60, 64, 67, 0.15);\n",
              "      fill: #174EA6;\n",
              "    }\n",
              "\n",
              "    [theme=dark] .colab-df-convert {\n",
              "      background-color: #3B4455;\n",
              "      fill: #D2E3FC;\n",
              "    }\n",
              "\n",
              "    [theme=dark] .colab-df-convert:hover {\n",
              "      background-color: #434B5C;\n",
              "      box-shadow: 0px 1px 3px 1px rgba(0, 0, 0, 0.15);\n",
              "      filter: drop-shadow(0px 1px 2px rgba(0, 0, 0, 0.3));\n",
              "      fill: #FFFFFF;\n",
              "    }\n",
              "  </style>\n",
              "\n",
              "      <script>\n",
              "        const buttonEl =\n",
              "          document.querySelector('#df-41c2e30c-ffe3-452c-88b0-acb6faa8fcc2 button.colab-df-convert');\n",
              "        buttonEl.style.display =\n",
              "          google.colab.kernel.accessAllowed ? 'block' : 'none';\n",
              "\n",
              "        async function convertToInteractive(key) {\n",
              "          const element = document.querySelector('#df-41c2e30c-ffe3-452c-88b0-acb6faa8fcc2');\n",
              "          const dataTable =\n",
              "            await google.colab.kernel.invokeFunction('convertToInteractive',\n",
              "                                                     [key], {});\n",
              "          if (!dataTable) return;\n",
              "\n",
              "          const docLinkHtml = 'Like what you see? Visit the ' +\n",
              "            '<a target=\"_blank\" href=https://colab.research.google.com/notebooks/data_table.ipynb>data table notebook</a>'\n",
              "            + ' to learn more about interactive tables.';\n",
              "          element.innerHTML = '';\n",
              "          dataTable['output_type'] = 'display_data';\n",
              "          await google.colab.output.renderOutput(dataTable, element);\n",
              "          const docLink = document.createElement('div');\n",
              "          docLink.innerHTML = docLinkHtml;\n",
              "          element.appendChild(docLink);\n",
              "        }\n",
              "      </script>\n",
              "    </div>\n",
              "  </div>\n",
              "  "
            ]
          },
          "metadata": {},
          "execution_count": 32
        }
      ]
    }
  ]
}